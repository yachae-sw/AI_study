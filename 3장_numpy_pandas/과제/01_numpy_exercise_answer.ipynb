{
 "cells": [
  {
   "cell_type": "markdown",
   "metadata": {
    "id": "rKiHkzUc7VOV"
   },
   "source": [
    "# 과제 1\n",
    "## Q1. \n",
    "\n",
    "\n",
    "<div class=\"alert alert-success\">\n",
    "[문제1]     \n",
    "    \n",
    "원소가 1부터 5까지인 배열 arr이 있다. 각각의 요소의 루트를 씌운 값의 총합을 구하시오. \n",
    "</div>\n",
    "\n",
    "------------\n",
    "[힌트]  \n",
    "np.arange(1, 6)  \n",
    "list = [1,2,3,4,5]   \n",
    "8.382332347441762  "
   ]
  },
  {
   "cell_type": "code",
   "execution_count": 2,
   "metadata": {
    "colab": {
     "base_uri": "https://localhost:8080/"
    },
    "executionInfo": {
     "elapsed": 316,
     "status": "ok",
     "timestamp": 1656150099085,
     "user": {
      "displayName": "Jiyoung Kang",
      "userId": "02538451806768451589"
     },
     "user_tz": -540
    },
    "id": "p8NI3GKa7VOa",
    "outputId": "0d8e49f5-7aaa-47eb-bc2e-19a253190c84"
   },
   "outputs": [
    {
     "name": "stdout",
     "output_type": "stream",
     "text": [
      "8.382332347441762\n"
     ]
    }
   ],
   "source": [
    "import numpy as np\n",
    "\n",
    "arr = np.arange(1, 6)\n",
    "result = np.sum(np.sqrt(arr))\n",
    "print(result) "
   ]
  },
  {
   "cell_type": "markdown",
   "metadata": {
    "id": "jfW2jQRL7VOf"
   },
   "source": [
    "## Q2. \n",
    "\n",
    "<div class=\"alert alert-success\">\n",
    "[문제2]\n",
    "    \n",
    "    \n",
    "다음과 같은 배열 arr2를 만드시오.  \n",
    "    \n",
    "    \n",
    "arr2 = ( arr의 총합, arr의 평균, arr의 최소값, arr의 최대값)  \n",
    "[15.  3.  1.  5.]  \n",
    "</div>"
   ]
  },
  {
   "cell_type": "code",
   "execution_count": 3,
   "metadata": {
    "colab": {
     "base_uri": "https://localhost:8080/"
    },
    "executionInfo": {
     "elapsed": 35,
     "status": "ok",
     "timestamp": 1656148941995,
     "user": {
      "displayName": "Jiyoung Kang",
      "userId": "02538451806768451589"
     },
     "user_tz": -540
    },
    "id": "hBzvEN0a7VOg",
    "outputId": "fd06d834-1051-4969-8492-9e7ce9a9f2fb"
   },
   "outputs": [
    {
     "name": "stdout",
     "output_type": "stream",
     "text": [
      "[15.  3.  1.  5.]\n"
     ]
    }
   ],
   "source": [
    "arr2 = np.array((np.sum(arr), np.mean(arr), np.min(arr), np.max(arr)))\n",
    "print(arr2)"
   ]
  },
  {
   "cell_type": "markdown",
   "metadata": {
    "id": "_Bvykj0V7VOh"
   },
   "source": [
    "## Q3.\n",
    "\n",
    "<div class=\"alert alert-success\">\n",
    "[문제3]\n",
    "    \n",
    "    \n",
    "arr2의 구조를 확인하고(shape),\n",
    "arr2를 전치(transpose)한 배열 arr3를 만드시오.\n",
    "</div>\n",
    "\n",
    "------------\n",
    "[힌트]  \n",
    "\n",
    "arr3의 출력 결과\n",
    "\n",
    "[[15.]  \n",
    " [ 3.]   \n",
    " [ 1.]  \n",
    " [ 5.]]"
   ]
  },
  {
   "cell_type": "code",
   "execution_count": 4,
   "metadata": {
    "colab": {
     "base_uri": "https://localhost:8080/"
    },
    "executionInfo": {
     "elapsed": 24,
     "status": "ok",
     "timestamp": 1656148941996,
     "user": {
      "displayName": "Jiyoung Kang",
      "userId": "02538451806768451589"
     },
     "user_tz": -540
    },
    "id": "LRQd2PMh7VOi",
    "outputId": "d064ee90-1fe8-48e6-fafd-185fdd4effa0"
   },
   "outputs": [
    {
     "name": "stdout",
     "output_type": "stream",
     "text": [
      "(4,)\n",
      "[[15.  3.  1.  5.]]\n",
      "(1, 4)\n",
      "[[15.]\n",
      " [ 3.]\n",
      " [ 1.]\n",
      " [ 5.]]\n",
      "(4, 1)\n"
     ]
    }
   ],
   "source": [
    "print(arr2.shape) # (4,)\n",
    "arr2 = np.reshape(arr2, [1, 4])\n",
    "print(arr2)\n",
    "print(arr2.shape) # (1, 4)\n",
    "arr3 = np.transpose(arr2)\n",
    "print(arr3)\n",
    "print(arr3.shape)  # (4, 1)"
   ]
  },
  {
   "cell_type": "markdown",
   "metadata": {
    "id": "eAyEo1pr7VOj"
   },
   "source": [
    "\n",
    "## Q4. \n",
    "\n",
    "\n",
    "<div class=\"alert alert-success\">\n",
    "[문제4]\n",
    "    \n",
    "    \n",
    "arr2와 arr3를 행렬 곱 연산한 결과 값은 ? \n",
    "</div>\n",
    "\n",
    "[힌트]\n",
    "\n",
    "\n",
    " 260.\n",
    " \n",
    " \n",
    " 또는\n",
    " \n",
    " \n",
    " \n",
    " [[225.  45.  15.  75.]  \n",
    " [ 45.   9.   3.  15.]   \n",
    " [ 15.   3.   1.   5.]   \n",
    " [ 75.  15.   5.  25.]]   \n",
    "\n",
    "\n"
   ]
  },
  {
   "cell_type": "code",
   "execution_count": 4,
   "metadata": {
    "colab": {
     "base_uri": "https://localhost:8080/"
    },
    "executionInfo": {
     "elapsed": 6,
     "status": "ok",
     "timestamp": 1656148942607,
     "user": {
      "displayName": "Jiyoung Kang",
      "userId": "02538451806768451589"
     },
     "user_tz": -540
    },
    "id": "QKvKjmvZ7VOj",
    "outputId": "f007be53-a4cc-4d31-d764-f4e534fa04d3"
   },
   "outputs": [
    {
     "name": "stdout",
     "output_type": "stream",
     "text": [
      "[[260.]]\n"
     ]
    }
   ],
   "source": [
    "# (1x4)*(4x1) = (1x1) 스칼라 \n",
    "result = np.matmul(arr2, arr3)\n",
    "print(result)"
   ]
  },
  {
   "cell_type": "code",
   "execution_count": 5,
   "metadata": {
    "colab": {
     "base_uri": "https://localhost:8080/"
    },
    "executionInfo": {
     "elapsed": 8,
     "status": "ok",
     "timestamp": 1656148942926,
     "user": {
      "displayName": "Jiyoung Kang",
      "userId": "02538451806768451589"
     },
     "user_tz": -540
    },
    "id": "kcx-mGRN7VOk",
    "outputId": "a7232e92-4d0c-4f93-a1c9-7e10a9f139b5"
   },
   "outputs": [
    {
     "name": "stdout",
     "output_type": "stream",
     "text": [
      "[[225.  45.  15.  75.]\n",
      " [ 45.   9.   3.  15.]\n",
      " [ 15.   3.   1.   5.]\n",
      " [ 75.  15.   5.  25.]]\n"
     ]
    }
   ],
   "source": [
    "# (4x1)*(1x4) = (4x4) \n",
    "result = np.matmul(arr3, arr2)\n",
    "print(result)"
   ]
  },
  {
   "cell_type": "markdown",
   "metadata": {
    "id": "XXD0gqZd7VOl"
   },
   "source": [
    "# 과제 2\n",
    "## Q5.\n",
    "\n",
    "\n",
    "<div class=\"alert alert-success\">\n",
    "[문제5]\n",
    "    \n",
    "    \n",
    "arange 함수를 이용하여 원소가 1부터 16까지인 배열 arr을 만드세요.\n",
    "</div>\n"
   ]
  },
  {
   "cell_type": "code",
   "execution_count": 6,
   "metadata": {
    "colab": {
     "base_uri": "https://localhost:8080/"
    },
    "executionInfo": {
     "elapsed": 304,
     "status": "ok",
     "timestamp": 1656148946196,
     "user": {
      "displayName": "Jiyoung Kang",
      "userId": "02538451806768451589"
     },
     "user_tz": -540
    },
    "id": "6hM4Uwhf7VOn",
    "outputId": "465d1e38-c11d-49d5-8db0-498abf9dea78"
   },
   "outputs": [
    {
     "data": {
      "text/plain": [
       "array([ 1,  2,  3,  4,  5,  6,  7,  8,  9, 10, 11, 12, 13, 14, 15, 16])"
      ]
     },
     "execution_count": 6,
     "metadata": {},
     "output_type": "execute_result"
    }
   ],
   "source": [
    "arr = np.arange(1, 17)\n",
    "arr"
   ]
  },
  {
   "cell_type": "markdown",
   "metadata": {
    "id": "xQoZlXT37VOo"
   },
   "source": [
    "## Q6. \n",
    "\n",
    "\n",
    "<div class=\"alert alert-success\">\n",
    "[문제6]\n",
    "    \n",
    "    \n",
    "arr 배열을 4행 4열로 형상 변경하세요.\n",
    "</div>\n"
   ]
  },
  {
   "cell_type": "code",
   "execution_count": 7,
   "metadata": {
    "colab": {
     "base_uri": "https://localhost:8080/"
    },
    "executionInfo": {
     "elapsed": 334,
     "status": "ok",
     "timestamp": 1656149295167,
     "user": {
      "displayName": "Jiyoung Kang",
      "userId": "02538451806768451589"
     },
     "user_tz": -540
    },
    "id": "lA4tYQyz7VOp",
    "outputId": "18866236-e28a-4d4e-e9e8-b172fa9faed9"
   },
   "outputs": [
    {
     "name": "stdout",
     "output_type": "stream",
     "text": [
      "[[ 1  2  3  4]\n",
      " [ 5  6  7  8]\n",
      " [ 9 10 11 12]\n",
      " [13 14 15 16]]\n"
     ]
    }
   ],
   "source": [
    "arr = np.reshape(arr, [4, 4])\n",
    "print(arr) "
   ]
  },
  {
   "cell_type": "markdown",
   "metadata": {
    "id": "Z1Krivks7VOq"
   },
   "source": [
    "## Q7. \n",
    "\n",
    "\n",
    "<div class=\"alert alert-success\">\n",
    "[문제7]\n",
    "    \n",
    "arr에 대해 인덱싱과 슬라이싱을 이용하여 다음과 같은 배열 arr2, arr3를 만드시오.  \n",
    "arr2 :   \n",
    " [[2 3 4]  \n",
    " [6 7 8]]\n",
    "\n",
    "arr3 :   \n",
    " [[5 6 7]]  \n",
    "</div>\n",
    "\n",
    "\n"
   ]
  },
  {
   "cell_type": "code",
   "execution_count": 8,
   "metadata": {
    "colab": {
     "base_uri": "https://localhost:8080/"
    },
    "executionInfo": {
     "elapsed": 10,
     "status": "ok",
     "timestamp": 1656149347744,
     "user": {
      "displayName": "Jiyoung Kang",
      "userId": "02538451806768451589"
     },
     "user_tz": -540
    },
    "id": "a0gRz4gN7VOr",
    "outputId": "7880c2fd-b014-49f2-a91a-d97d70847dad"
   },
   "outputs": [
    {
     "name": "stdout",
     "output_type": "stream",
     "text": [
      "arr2\n",
      " [[2 3 4]\n",
      " [6 7 8]]\n",
      "arr3\n",
      " [[5 6 7]]\n"
     ]
    }
   ],
   "source": [
    "# 0::2 ==> 0부터 2씩 증가하여 끝까지\n",
    "arr2 = arr[0:2, 1:4]\n",
    "print(\"arr2\\n\", arr2)\n",
    "\n",
    "arr3 = arr[1:2, 0:3]\n",
    "print(\"arr3\\n\", arr3)"
   ]
  },
  {
   "cell_type": "markdown",
   "metadata": {
    "id": "dvS0QSuF7VOs"
   },
   "source": [
    "## Q8.\n",
    "\n",
    "<div class=\"alert alert-success\">\n",
    "[문제8]\n",
    "    \n",
    "arr3를 전치(transpose)하세요.\n",
    "</div>\n",
    "\n",
    "-----------------\n",
    "[힌트]\n",
    "\n",
    "\n",
    "[[5]  \n",
    " [6]  \n",
    " [7]]  \n"
   ]
  },
  {
   "cell_type": "code",
   "execution_count": 9,
   "metadata": {
    "colab": {
     "base_uri": "https://localhost:8080/"
    },
    "executionInfo": {
     "elapsed": 428,
     "status": "ok",
     "timestamp": 1656149480499,
     "user": {
      "displayName": "Jiyoung Kang",
      "userId": "02538451806768451589"
     },
     "user_tz": -540
    },
    "id": "w20ncRLn7VOt",
    "outputId": "f3df31a3-a9ad-4ee6-c6a2-db34babee643"
   },
   "outputs": [
    {
     "name": "stdout",
     "output_type": "stream",
     "text": [
      "[[5]\n",
      " [6]\n",
      " [7]]\n"
     ]
    }
   ],
   "source": [
    "arr3t = np.transpose(arr3)\n",
    "print(arr3t)"
   ]
  },
  {
   "cell_type": "markdown",
   "metadata": {
    "id": "B7bP7F3i7VOv"
   },
   "source": [
    "## Q9.\n",
    "\n",
    "\n",
    "<div class=\"alert alert-success\">\n",
    "[문제9]\n",
    "    \n",
    "arr2와 arr3를 행렬 연산한 결과를 구하시오.\n",
    "</div>\n",
    "\n",
    "-----------------\n",
    "\n",
    "\n",
    "\n",
    "\n",
    "**[결과]**  \n",
    "[[ 56]  \n",
    " [128]]"
   ]
  },
  {
   "cell_type": "code",
   "execution_count": 10,
   "metadata": {
    "colab": {
     "base_uri": "https://localhost:8080/"
    },
    "executionInfo": {
     "elapsed": 293,
     "status": "ok",
     "timestamp": 1656149506775,
     "user": {
      "displayName": "Jiyoung Kang",
      "userId": "02538451806768451589"
     },
     "user_tz": -540
    },
    "id": "3d4Op8x97VOw",
    "outputId": "6a0f2374-ee85-4f45-9589-d5f45bf72449"
   },
   "outputs": [
    {
     "name": "stdout",
     "output_type": "stream",
     "text": [
      "[[ 56]\n",
      " [128]]\n"
     ]
    }
   ],
   "source": [
    "result = np.matmul(arr2, arr3t)\n",
    "print( result )"
   ]
  },
  {
   "cell_type": "markdown",
   "metadata": {
    "id": "qiIru0If7VOx"
   },
   "source": [
    "# 과제 3\n",
    "## Q10.\n",
    "\n",
    "<div class=\"alert alert-success\">\n",
    "[문제10]\n",
    "    \n",
    "np.random을 이용하여 모든 요소의 값이 3 <= 값 < 7인   \n",
    "요소 4개를 갖는 1차원 배열 arr을 생성하시오.  \n",
    "예시) arr = [4, 3, 4, 6]  \n",
    "</div>\n",
    "\n",
    "\n",
    "\n"
   ]
  },
  {
   "cell_type": "code",
   "execution_count": 11,
   "metadata": {
    "colab": {
     "base_uri": "https://localhost:8080/"
    },
    "executionInfo": {
     "elapsed": 295,
     "status": "ok",
     "timestamp": 1656148711317,
     "user": {
      "displayName": "Jiyoung Kang",
      "userId": "02538451806768451589"
     },
     "user_tz": -540
    },
    "id": "W6Mjd4kL7VOy",
    "outputId": "3ff2bdb5-5dcf-4ea2-a1a4-41d3ce6ed949"
   },
   "outputs": [
    {
     "data": {
      "text/plain": [
       "array([3, 4, 5, 6])"
      ]
     },
     "execution_count": 11,
     "metadata": {},
     "output_type": "execute_result"
    }
   ],
   "source": [
    "import numpy as np\n",
    "arr = np.random.randint(3, 7, size=4)\n",
    "arr"
   ]
  },
  {
   "cell_type": "markdown",
   "metadata": {
    "id": "XHC6Qbjs7VOz"
   },
   "source": [
    "## Q11. \n",
    "\n",
    "<div class=\"alert alert-success\">\n",
    "[문제11]\n",
    "    \n",
    "arr을 2*2 형상 변경하시오.\n",
    "</div>\n"
   ]
  },
  {
   "cell_type": "code",
   "execution_count": 12,
   "metadata": {
    "id": "d3zYUMpx7VO0",
    "outputId": "3c97055a-5176-44c7-8ad6-df9ec60959a5"
   },
   "outputs": [
    {
     "data": {
      "text/plain": [
       "array([[3, 4],\n",
       "       [5, 6]])"
      ]
     },
     "execution_count": 12,
     "metadata": {},
     "output_type": "execute_result"
    }
   ],
   "source": [
    "arr = arr.reshape(2,2)\n",
    "arr"
   ]
  },
  {
   "cell_type": "markdown",
   "metadata": {
    "id": "oqbJuv3tNpuU"
   },
   "source": [
    "## Q12. \n",
    "\n",
    "\n",
    "<div class=\"alert alert-success\">\n",
    "[문제12]\n",
    "다음과 같이 동작하는 로또 번호 생성기를 작성하시오.\n",
    "    \n",
    "    \n",
    "    - 사용자로부터 로또 번호를 몇 개 생성할지 입력받는다    \n",
    "    \n",
    "    - 사용자가 입력한 개수 만큼 로또 번호를 생성하여 출력한다    \n",
    "    \n",
    "    - 로또번호는 숫자가 작은 수부터 순서대로 정렬하여 출력한다\n",
    "    \n",
    "    - 로또 번호는 1부터 46까지 서로 다른 6개의 정수로 이루어져있다    \n",
    "        \n",
    "    - 로또 번호 생성기 로직은 함수로 작성하여 재활용이 가능하도록 한다    \n",
    "   \n",
    "\n",
    "</div>\n",
    "    \n",
    "[실행 예시]\n",
    "로또번호를 몇 개 생성할까요? 3  \n",
    "1. 로또번호: [10 13 16 30 37 41]  \n",
    "2. 로또번호: [ 4 10 15 25 29 42]  \n",
    "3. 로또번호: [ 6 26 31 39 40 45]  \n",
    "\n",
    "  "
   ]
  },
  {
   "cell_type": "code",
   "execution_count": 13,
   "metadata": {
    "colab": {
     "base_uri": "https://localhost:8080/"
    },
    "executionInfo": {
     "elapsed": 4800,
     "status": "ok",
     "timestamp": 1656149739297,
     "user": {
      "displayName": "Jiyoung Kang",
      "userId": "02538451806768451589"
     },
     "user_tz": -540
    },
    "id": "sPpYnsZQNn7R",
    "outputId": "c889e593-113e-4153-a48d-894f490d848d"
   },
   "outputs": [
    {
     "name": "stdout",
     "output_type": "stream",
     "text": [
      "로또번호를 몇 개 생성할까요? 3\n",
      "1. 로또번호: [ 1  1  3 35 35 38]\n",
      "2. 로또번호: [ 1  9 13 14 15 40]\n",
      "3. 로또번호: [ 2 13 25 28 31 36]\n"
     ]
    }
   ],
   "source": [
    "def createLottoNumber(count):\n",
    "    for i in range(count):\n",
    "        lotto_num = np.random.randint(1, 46, size=6)\n",
    "        lotto_num.sort() # 값 정렬\n",
    "        print(\"{}. 로또번호: {}\".format(i+1, lotto_num))\n",
    "    \n",
    "count = int(input(\"로또번호를 몇 개 생성할까요? \"))\n",
    "createLottoNumber(count)"
   ]
  },
  {
   "cell_type": "markdown",
   "metadata": {
    "id": "nZZ1gpFRRxSm"
   },
   "source": [
    "## Q13. \n",
    "\n",
    "\n",
    "<div class=\"alert alert-success\">\n",
    "    \n",
    "[문제13]\n",
    "    \n",
    "오늘의 로또번호는 [9, 12, 17, 21, 40, 42]입니다.  \n",
    "    \n",
    "오늘의 로또번호 합보다 더 큰 조합을 가지고 있는 경우, 이벤트 쿠폰을 발행하려고 합니다.\n",
    "    \n",
    "몇 장의 이벤트 쿠폰을 발행해야하는지 판단하는 로직을 작성하세요\n",
    "\n",
    "</div>\n",
    "\n",
    "[실행 예시]\n",
    "\n",
    "\n",
    "\n",
    "로또번호를 몇 개 생성할까요? 3\n",
    "1. 로또번호: [ 1 15 36 39 41 45]  \n",
    "이벤트 당첨, 오늘의 로또번호 합= 141, 당첨된 로또번호 합=177\n",
    "2. 로또번호: [ 6  9 12 19 27 42]  \n",
    "3. 로또번호: [ 4  7 36 39 39 44]  \n",
    "이벤트 당첨, 오늘의 로또번호 합= 141, 당첨된 로또번호 합=169\n"
   ]
  },
  {
   "cell_type": "code",
   "execution_count": 14,
   "metadata": {
    "id": "03f1vg5CRwhf"
   },
   "outputs": [
    {
     "name": "stdout",
     "output_type": "stream",
     "text": [
      "로또번호를 몇 개 생성할까요? 5\n",
      "1. 로또번호: [ 4  4 10 23 40 43]\n",
      "2. 로또번호: [ 5 11 31 35 38 45]\n",
      "이벤트 당첨, 오늘의 로또번호 합= 141, 당첨된 로또번호 합=165\n",
      "3. 로또번호: [ 1  8 15 24 41 42]\n",
      "4. 로또번호: [ 2  7 12 15 17 26]\n",
      "5. 로또번호: [15 16 23 28 36 45]\n",
      "이벤트 당첨, 오늘의 로또번호 합= 141, 당첨된 로또번호 합=163\n"
     ]
    }
   ],
   "source": [
    "today = np.array([9, 12, 17, 21, 40, 42])\n",
    "\n",
    "def createLottoNumber2(count):\n",
    "    for i in range(count):\n",
    "        lotto_num = np.random.randint(1, 46, size=6)\n",
    "        lotto_num.sort() # 값 정렬\n",
    "        print(\"{}. 로또번호: {}\".format(i+1, lotto_num))\n",
    "        \n",
    "        coupon_cnt = 0\n",
    "        if lotto_num.sum() > today.sum():\n",
    "            print(\"이벤트 당첨, 오늘의 로또번호 합= {}, 당첨된 로또번호 합={}\".format(today.sum(), lotto_num.sum()))\n",
    "    \n",
    "count = int(input(\"로또번호를 몇 개 생성할까요? \"))\n",
    "createLottoNumber2(count)"
   ]
  },
  {
   "cell_type": "markdown",
   "metadata": {},
   "source": [
    "# 과제 4\n",
    "## Q14. \n",
    "\n",
    "\n",
    "<div class=\"alert alert-success\">\n",
    "    \n",
    "[문제14]\n",
    "    \n",
    "수학 시험 답안 채점 프로그램을 만드시오.\n",
    "    \n",
    "    정답 = [3, 2, 1, 4, 4, 3, 4, 4, 3, 3]\n",
    "    \n",
    "    - 문제 수: 10\n",
    "    - 보기: 1번 ~ 5번\n",
    "    - 학생들의 샘플 답안 생성: 10개\n",
    "    - 문항 별 정오답 여부 출력\n",
    "    - 10점 만점에 몇 점인지 출력\n",
    "</div>\n",
    "\n",
    "\n",
    "1. 채점결과: [False  True False False  True False False False  True  True], 점수: 4\n",
    "2. 채점결과: [False  True False  True False False False  True False False], 점수: 3\n",
    "3. 채점결과: [ True  True  True False False False False  True False  True], 점수: 5\n",
    "4. 채점결과: [False False  True False False  True False False False  True], 점수: 3\n",
    "5. 채점결과: [False  True False  True False  True False  True False False], 점수: 4\n",
    "6. 채점결과: [False False False  True False False False False False False], 점수: 1\n",
    "7. 채점결과: [False  True  True False  True False False False False  True], 점수: 4\n",
    "8. 채점결과: [False  True  True False False False  True False False False], 점수: 3\n",
    "9. 채점결과: [ True False False False False  True False  True False False], 점수: 3\n",
    "10. 채점결과: [False  True  True False False False  True False False False], 점수: 3\n"
   ]
  },
  {
   "cell_type": "code",
   "execution_count": 15,
   "metadata": {},
   "outputs": [],
   "source": [
    "# 주어진 코드\n",
    "correct = np.array([3, 2, 1, 4, 4, 3, 4, 4, 3, 3])\n",
    "\n",
    "count = 10\n",
    "students = 10\n",
    "answers = np.random.randint(1, 5, size=count*students)\n",
    "answers = answers.reshape(count, students)"
   ]
  },
  {
   "cell_type": "code",
   "execution_count": 16,
   "metadata": {},
   "outputs": [
    {
     "name": "stdout",
     "output_type": "stream",
     "text": [
      "1. 채점결과: [False  True False False False  True False False  True False], 점수: 3\n",
      "2. 채점결과: [False False False False False False False False  True False], 점수: 1\n",
      "3. 채점결과: [False False False False False False False False  True False], 점수: 1\n",
      "4. 채점결과: [False False False False False False  True False False False], 점수: 1\n",
      "5. 채점결과: [False False False  True False False  True  True  True False], 점수: 4\n",
      "6. 채점결과: [False False False False False False False False False False], 점수: 0\n",
      "7. 채점결과: [False False  True False False  True  True  True False False], 점수: 4\n",
      "8. 채점결과: [False  True False False False False False  True  True False], 점수: 3\n",
      "9. 채점결과: [False  True  True False False False False  True False False], 점수: 3\n",
      "10. 채점결과: [ True False False False False False False False  True False], 점수: 2\n"
     ]
    }
   ],
   "source": [
    "def check_answer_sheet(correct, answers):\n",
    "    for i in range(len(answers)):\n",
    "        print(\"{}. 채점결과: {}, 점수: {}\".format(i+1, answers[i] == correct, (answers[i] == correct).sum()))\n",
    "\n",
    "check_answer_sheet(correct, answers)"
   ]
  },
  {
   "cell_type": "code",
   "execution_count": null,
   "metadata": {},
   "outputs": [],
   "source": []
  }
 ],
 "metadata": {
  "colab": {
   "collapsed_sections": [],
   "name": "21_Numpy 실습문제.ipynb",
   "provenance": []
  },
  "kernelspec": {
   "display_name": "Python 3.9.12 ('base')",
   "language": "python",
   "name": "python3"
  },
  "language_info": {
   "codemirror_mode": {
    "name": "ipython",
    "version": 3
   },
   "file_extension": ".py",
   "mimetype": "text/x-python",
   "name": "python",
   "nbconvert_exporter": "python",
   "pygments_lexer": "ipython3",
   "version": "3.9.12"
  },
  "toc": {
   "base_numbering": 1,
   "nav_menu": {},
   "number_sections": false,
   "sideBar": true,
   "skip_h1_title": false,
   "title_cell": "Table of Contents",
   "title_sidebar": "Contents",
   "toc_cell": false,
   "toc_position": {},
   "toc_section_display": true,
   "toc_window_display": false
  },
  "vscode": {
   "interpreter": {
    "hash": "08569c793ee46db18d0723d33e581cc58a2af798ca4f693dc32b9c480496d47b"
   }
  }
 },
 "nbformat": 4,
 "nbformat_minor": 1
}
