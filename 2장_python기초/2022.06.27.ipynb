{
 "cells": [
  {
   "cell_type": "code",
   "execution_count": 60,
   "id": "27ed26c7",
   "metadata": {},
   "outputs": [
    {
     "name": "stdout",
     "output_type": "stream",
     "text": [
      "4\n"
     ]
    }
   ],
   "source": [
    "values = \"\"\"산토끼 토끼야. 어디를 가느냐. 깡충깡충 뛰면서. 어디를 가느냐.\n",
    "산고개 고개를. 나혼자 넘어서. 토실토실 알밤을. 주워 올테야\"\"\"\n",
    "\n",
    "def get_char_count(values, char):\n",
    "    count = 0\n",
    "    for i in values:\n",
    "        if(i == char):\n",
    "            count += 1\n",
    "    return count\n",
    "print(get_char_count(values, '토'))"
   ]
  },
  {
   "cell_type": "code",
   "execution_count": 61,
   "id": "7292936b",
   "metadata": {},
   "outputs": [],
   "source": [
    "import numpy as np"
   ]
  },
  {
   "cell_type": "code",
   "execution_count": 62,
   "id": "a8015d5f",
   "metadata": {},
   "outputs": [
    {
     "data": {
      "text/plain": [
       "array([1, 2, 3])"
      ]
     },
     "execution_count": 62,
     "metadata": {},
     "output_type": "execute_result"
    }
   ],
   "source": [
    "list1 = [1, 2, 3]\n",
    "arr1 = np.array(list1)\n",
    "arr1"
   ]
  },
  {
   "cell_type": "code",
   "execution_count": 63,
   "id": "d82df3c8",
   "metadata": {},
   "outputs": [
    {
     "data": {
      "text/plain": [
       "array([0., 0., 0., 0., 0.])"
      ]
     },
     "execution_count": 63,
     "metadata": {},
     "output_type": "execute_result"
    }
   ],
   "source": [
    "np.zeros(5)"
   ]
  },
  {
   "cell_type": "code",
   "execution_count": 64,
   "id": "796e4c07",
   "metadata": {},
   "outputs": [
    {
     "data": {
      "text/plain": [
       "array([[0., 0., 0.],\n",
       "       [0., 0., 0.]])"
      ]
     },
     "execution_count": 64,
     "metadata": {},
     "output_type": "execute_result"
    }
   ],
   "source": [
    "np.zeros((2,3))"
   ]
  },
  {
   "cell_type": "code",
   "execution_count": 65,
   "id": "5075695f",
   "metadata": {},
   "outputs": [
    {
     "data": {
      "text/plain": [
       "array([1., 1., 1., 1., 1., 1., 1.])"
      ]
     },
     "execution_count": 65,
     "metadata": {},
     "output_type": "execute_result"
    }
   ],
   "source": [
    "np.ones(7)"
   ]
  },
  {
   "cell_type": "code",
   "execution_count": 66,
   "id": "aae8b6cd",
   "metadata": {},
   "outputs": [
    {
     "data": {
      "text/plain": [
       "array([0., 0., 0., 0., 0.])"
      ]
     },
     "execution_count": 66,
     "metadata": {},
     "output_type": "execute_result"
    }
   ],
   "source": [
    "np.empty(5)"
   ]
  },
  {
   "cell_type": "code",
   "execution_count": 67,
   "id": "1721bd6a",
   "metadata": {},
   "outputs": [
    {
     "data": {
      "text/plain": [
       "array([0, 1, 2, 3, 4, 5, 6, 7, 8, 9])"
      ]
     },
     "execution_count": 67,
     "metadata": {},
     "output_type": "execute_result"
    }
   ],
   "source": [
    "np.arange(10)"
   ]
  },
  {
   "cell_type": "code",
   "execution_count": 68,
   "id": "0b0f6819",
   "metadata": {},
   "outputs": [
    {
     "data": {
      "text/plain": [
       "array([[0.47583117, 0.93555994, 0.37933241],\n",
       "       [0.6300322 , 0.36371257, 0.66723259]])"
      ]
     },
     "execution_count": 68,
     "metadata": {},
     "output_type": "execute_result"
    }
   ],
   "source": [
    "np.random.rand(2,3)"
   ]
  },
  {
   "cell_type": "code",
   "execution_count": 69,
   "id": "c63e634d",
   "metadata": {},
   "outputs": [
    {
     "data": {
      "text/plain": [
       "array([2, 1, 5, 1, 9, 5, 4, 7, 8, 7])"
      ]
     },
     "execution_count": 69,
     "metadata": {},
     "output_type": "execute_result"
    }
   ],
   "source": [
    "np.random.randint(1, 10, size = 10)"
   ]
  },
  {
   "cell_type": "code",
   "execution_count": 70,
   "id": "4ea91b40",
   "metadata": {},
   "outputs": [
    {
     "data": {
      "text/plain": [
       "(16,)"
      ]
     },
     "execution_count": 70,
     "metadata": {},
     "output_type": "execute_result"
    }
   ],
   "source": [
    "arr2 = np.arange(16)\n",
    "arr2.shape"
   ]
  },
  {
   "cell_type": "code",
   "execution_count": 71,
   "id": "a4e32c7d",
   "metadata": {},
   "outputs": [
    {
     "data": {
      "text/plain": [
       "array([[ 0,  1,  2,  3],\n",
       "       [ 4,  5,  6,  7],\n",
       "       [ 8,  9, 10, 11],\n",
       "       [12, 13, 14, 15]])"
      ]
     },
     "execution_count": 71,
     "metadata": {},
     "output_type": "execute_result"
    }
   ],
   "source": [
    "arr2.reshape(4,4)"
   ]
  },
  {
   "cell_type": "code",
   "execution_count": 72,
   "id": "d2cb2db6",
   "metadata": {},
   "outputs": [
    {
     "data": {
      "text/plain": [
       "array([[[ 0,  1,  2,  3],\n",
       "        [ 4,  5,  6,  7]],\n",
       "\n",
       "       [[ 8,  9, 10, 11],\n",
       "        [12, 13, 14, 15]]])"
      ]
     },
     "execution_count": 72,
     "metadata": {},
     "output_type": "execute_result"
    }
   ],
   "source": [
    "arr2.reshape(2,2,4)"
   ]
  },
  {
   "cell_type": "code",
   "execution_count": 73,
   "id": "50c5911e",
   "metadata": {},
   "outputs": [
    {
     "data": {
      "text/plain": [
       "dtype('int32')"
      ]
     },
     "execution_count": 73,
     "metadata": {},
     "output_type": "execute_result"
    }
   ],
   "source": [
    "arr2.dtype"
   ]
  },
  {
   "cell_type": "code",
   "execution_count": 74,
   "id": "e03cac54",
   "metadata": {},
   "outputs": [
    {
     "data": {
      "text/plain": [
       "array([ 0.,  1.,  2.,  3.,  4.,  5.,  6.,  7.,  8.,  9., 10., 11., 12.,\n",
       "       13., 14., 15.])"
      ]
     },
     "execution_count": 74,
     "metadata": {},
     "output_type": "execute_result"
    }
   ],
   "source": [
    "arr2.astype(float)"
   ]
  },
  {
   "cell_type": "code",
   "execution_count": 75,
   "id": "3962f5fb",
   "metadata": {},
   "outputs": [
    {
     "data": {
      "text/plain": [
       "6"
      ]
     },
     "execution_count": 75,
     "metadata": {},
     "output_type": "execute_result"
    }
   ],
   "source": [
    "arr2[6]"
   ]
  },
  {
   "cell_type": "code",
   "execution_count": 76,
   "id": "c4e4a605",
   "metadata": {},
   "outputs": [
    {
     "data": {
      "text/plain": [
       "array([6, 7, 8, 9])"
      ]
     },
     "execution_count": 76,
     "metadata": {},
     "output_type": "execute_result"
    }
   ],
   "source": [
    "arr2[6:10]"
   ]
  },
  {
   "cell_type": "code",
   "execution_count": 77,
   "id": "98c7011f",
   "metadata": {},
   "outputs": [],
   "source": [
    "arr2[10] = 100"
   ]
  },
  {
   "cell_type": "code",
   "execution_count": 78,
   "id": "07cec004",
   "metadata": {},
   "outputs": [
    {
     "data": {
      "text/plain": [
       "array([  0,   1,   2,   3,   4,   5,   6,   7,   8,   9, 100,  11,  12,\n",
       "        13,  14,  15])"
      ]
     },
     "execution_count": 78,
     "metadata": {},
     "output_type": "execute_result"
    }
   ],
   "source": [
    "arr2"
   ]
  },
  {
   "cell_type": "code",
   "execution_count": 79,
   "id": "ccbb3adc",
   "metadata": {},
   "outputs": [],
   "source": [
    "arr3 = np.arange(16).reshape(4,4)"
   ]
  },
  {
   "cell_type": "code",
   "execution_count": 80,
   "id": "4194489e",
   "metadata": {},
   "outputs": [
    {
     "data": {
      "text/plain": [
       "array([[ 0,  1,  2,  3],\n",
       "       [ 4,  5,  6,  7],\n",
       "       [ 8,  9, 10, 11],\n",
       "       [12, 13, 14, 15]])"
      ]
     },
     "execution_count": 80,
     "metadata": {},
     "output_type": "execute_result"
    }
   ],
   "source": [
    "arr3"
   ]
  },
  {
   "cell_type": "code",
   "execution_count": 81,
   "id": "89e25e7e",
   "metadata": {},
   "outputs": [
    {
     "data": {
      "text/plain": [
       "9"
      ]
     },
     "execution_count": 81,
     "metadata": {},
     "output_type": "execute_result"
    }
   ],
   "source": [
    "arr3[2,1]"
   ]
  },
  {
   "cell_type": "code",
   "execution_count": 82,
   "id": "57720c59",
   "metadata": {},
   "outputs": [
    {
     "data": {
      "text/plain": [
       "array([80, 90, 70, 65, 85, 95, 90, 80, 75, 80])"
      ]
     },
     "execution_count": 82,
     "metadata": {},
     "output_type": "execute_result"
    }
   ],
   "source": [
    "scores = [80, 90, 70, 65, 85, 95, 90, 80, 75, 80]\n",
    "score_arr = np.array(scores)\n",
    "score_arr"
   ]
  },
  {
   "cell_type": "code",
   "execution_count": 83,
   "id": "2204da98",
   "metadata": {},
   "outputs": [
    {
     "data": {
      "text/plain": [
       "array([70, 65, 75])"
      ]
     },
     "execution_count": 83,
     "metadata": {},
     "output_type": "execute_result"
    }
   ],
   "source": [
    "score_arr [score_arr< 80]"
   ]
  },
  {
   "cell_type": "code",
   "execution_count": 109,
   "id": "d0f15d30",
   "metadata": {},
   "outputs": [
    {
     "data": {
      "text/plain": [
       "array([1, 2, 3, 4, 5])"
      ]
     },
     "execution_count": 109,
     "metadata": {},
     "output_type": "execute_result"
    }
   ],
   "source": [
    "arr = np.arange(1,6)\n",
    "arr"
   ]
  },
  {
   "cell_type": "code",
   "execution_count": 110,
   "id": "db15edf6",
   "metadata": {},
   "outputs": [
    {
     "name": "stdout",
     "output_type": "stream",
     "text": [
      "[1.         1.41421356 1.73205081 2.         2.23606798]\n"
     ]
    },
    {
     "data": {
      "text/plain": [
       "8.382332347441762"
      ]
     },
     "execution_count": 110,
     "metadata": {},
     "output_type": "execute_result"
    }
   ],
   "source": [
    "arr1 = np.sqrt(arr)\n",
    "print(arr1)\n",
    "np.sum(arr1)"
   ]
  },
  {
   "cell_type": "code",
   "execution_count": 125,
   "id": "838d7b07",
   "metadata": {},
   "outputs": [
    {
     "data": {
      "text/plain": [
       "array([15.,  3.,  1.,  5.])"
      ]
     },
     "execution_count": 125,
     "metadata": {},
     "output_type": "execute_result"
    }
   ],
   "source": [
    "arr2 = [np.sum(arr),np.mean(arr),np.min(arr),np.max(arr)]\n",
    "arr2 = np.array(arr2)\n",
    "arr2"
   ]
  },
  {
   "cell_type": "code",
   "execution_count": 127,
   "id": "ac9e3c4c",
   "metadata": {},
   "outputs": [
    {
     "data": {
      "text/plain": [
       "array([[15.],\n",
       "       [ 3.],\n",
       "       [ 1.],\n",
       "       [ 5.]])"
      ]
     },
     "execution_count": 127,
     "metadata": {},
     "output_type": "execute_result"
    }
   ],
   "source": [
    "arr2.shape\n",
    "arr3 = arr2.reshape([1,4]).T\n",
    "arr3"
   ]
  },
  {
   "cell_type": "code",
   "execution_count": 131,
   "id": "1338bf64",
   "metadata": {},
   "outputs": [
    {
     "data": {
      "text/plain": [
       "array([260.])"
      ]
     },
     "execution_count": 131,
     "metadata": {},
     "output_type": "execute_result"
    }
   ],
   "source": [
    "arr2 * arr3\n",
    "np.matmul(arr2,arr3)"
   ]
  },
  {
   "cell_type": "code",
   "execution_count": 137,
   "id": "22533f36",
   "metadata": {},
   "outputs": [
    {
     "data": {
      "text/plain": [
       "array([[ 1,  2,  3,  4],\n",
       "       [ 5,  6,  7,  8],\n",
       "       [ 9, 10, 11, 12],\n",
       "       [13, 14, 15, 16]])"
      ]
     },
     "execution_count": 137,
     "metadata": {},
     "output_type": "execute_result"
    }
   ],
   "source": [
    "arr = np.arange(1,17).reshape(4,4)\n",
    "arr"
   ]
  },
  {
   "cell_type": "code",
   "execution_count": 143,
   "id": "492461dc",
   "metadata": {},
   "outputs": [
    {
     "name": "stdout",
     "output_type": "stream",
     "text": [
      "[[2 3 4]\n",
      " [6 7 8]]\n",
      "[5 6 7]\n"
     ]
    }
   ],
   "source": [
    "arr2 = arr[0:2,1:4]\n",
    "print(arr2)\n",
    "arr3 = arr[1,0:3]\n",
    "print(arr3)"
   ]
  },
  {
   "cell_type": "code",
   "execution_count": 146,
   "id": "f5046fd6",
   "metadata": {},
   "outputs": [
    {
     "data": {
      "text/plain": [
       "array([[5],\n",
       "       [6],\n",
       "       [7]])"
      ]
     },
     "execution_count": 146,
     "metadata": {},
     "output_type": "execute_result"
    }
   ],
   "source": [
    "arr3 = arr[1,0:3].reshape(1,3).T\n",
    "arr3"
   ]
  },
  {
   "cell_type": "code",
   "execution_count": 174,
   "id": "cd617951",
   "metadata": {},
   "outputs": [
    {
     "data": {
      "text/plain": [
       "array([[ 56],\n",
       "       [128]])"
      ]
     },
     "execution_count": 174,
     "metadata": {},
     "output_type": "execute_result"
    }
   ],
   "source": [
    "arr = np.arange(1,17).reshape(4,4)\n",
    "arr2 = arr[0:2,1:4]\n",
    "arr3 = arr[1,0:3].reshape(1,3).T\n",
    "np.matmul(arr2, arr3)"
   ]
  },
  {
   "cell_type": "code",
   "execution_count": 178,
   "id": "72ca77cf",
   "metadata": {},
   "outputs": [
    {
     "data": {
      "text/plain": [
       "array([3, 4, 5, 5])"
      ]
     },
     "execution_count": 178,
     "metadata": {},
     "output_type": "execute_result"
    }
   ],
   "source": [
    "arr = np.random.randint(3,7,size = 4)\n",
    "arr"
   ]
  },
  {
   "cell_type": "code",
   "execution_count": 179,
   "id": "277cd98b",
   "metadata": {},
   "outputs": [
    {
     "data": {
      "text/plain": [
       "array([[3, 4],\n",
       "       [5, 5]])"
      ]
     },
     "execution_count": 179,
     "metadata": {},
     "output_type": "execute_result"
    }
   ],
   "source": [
    "arr.reshape(2,2)"
   ]
  },
  {
   "cell_type": "code",
   "execution_count": 193,
   "id": "7876d2fd",
   "metadata": {},
   "outputs": [
    {
     "name": "stdout",
     "output_type": "stream",
     "text": [
      "로또번호를 몇 개 생성할까요?:3\n",
      "1 .로또번호: [11, 22, 23, 33, 38, 41]\n",
      "2 .로또번호: [15, 19, 25, 35, 40, 42]\n",
      "3 .로또번호: [1, 10, 10, 14, 38, 39]\n"
     ]
    }
   ],
   "source": [
    "i = int(input(\"로또번호를 몇 개 생성할까요?:\"))\n",
    "k = 0\n",
    "for k in range(i):\n",
    "    rodd = np.random.randint(1,47,size = 6)\n",
    "    rodds = sorted(rodd)\n",
    "    k = k + 1\n",
    "    print(k,\".로또번호:\",rodds) \n"
   ]
  },
  {
   "cell_type": "code",
   "execution_count": 4,
   "id": "6ab81b21",
   "metadata": {},
   "outputs": [
    {
     "name": "stdout",
     "output_type": "stream",
     "text": [
      "로또번호를 몇 개 생성할까요? 5\n",
      "1.로또번호:[10 11 21 25 39 46]\n",
      "\t이벤트 당첨, 오늘의 로또번호 합=152, 당첨된 로또번호 합=141\n",
      "2.로또번호:[ 7 13 13 29 34 37]\n",
      "3.로또번호:[17 21 24 38 40 46]\n",
      "\t이벤트 당첨, 오늘의 로또번호 합=186, 당첨된 로또번호 합=141\n",
      "4.로또번호:[ 7  8 11 12 14 14]\n",
      "5.로또번호:[ 5  9 25 28 34 38]\n"
     ]
    }
   ],
   "source": [
    "import numpy as np\n",
    "today = np.array([9, 12, 17, 21, 40, 42])\n",
    "\n",
    "def createLottoNumber2(count):\n",
    "   # 작성하시오\n",
    "    for k in range(count):\n",
    "        rodd_cou = np.random.randint(1,47,size=6)\n",
    "        rodd_cous = rodd_cou.sort()\n",
    "        rodd_cous_sum=np.sum(rodd_cou)\n",
    "        today_sum=np.sum(today)\n",
    "        if rodd_cous_sum > today_sum:\n",
    "            print(\"{}.로또번호:{}\\n\\t이벤트 당첨, 오늘의 로또번호 합={}, 당첨된 로또번호 합={}\".format(k+1,rodd_cou,rodd_cous_sum,today_sum))\n",
    "        else:\n",
    "            print(\"{}.로또번호:{}\".format(k+1,rodd_cou))\n",
    "        k = k + 1\n",
    "        \n",
    "count = int(input(\"로또번호를 몇 개 생성할까요? \"))\n",
    "createLottoNumber2(count)"
   ]
  },
  {
   "cell_type": "code",
   "execution_count": 20,
   "id": "9d92e9d1",
   "metadata": {},
   "outputs": [
    {
     "name": "stdout",
     "output_type": "stream",
     "text": [
      "[[3 4 1 4 2 1 2 4 3 1]\n",
      " [4 3 4 3 3 1 2 2 3 3]\n",
      " [4 3 1 1 2 4 1 4 3 2]\n",
      " [1 2 3 2 4 3 2 1 3 2]\n",
      " [2 4 1 2 2 3 1 1 4 4]\n",
      " [2 2 3 3 1 2 1 1 1 3]\n",
      " [2 3 3 2 4 4 1 3 1 3]\n",
      " [4 3 4 1 3 1 4 1 2 2]\n",
      " [4 1 4 3 2 1 2 2 4 4]\n",
      " [3 3 1 1 2 4 1 1 4 1]]\n",
      "[3 3 1 1 2 4 1 1 4 1]\n"
     ]
    }
   ],
   "source": [
    "correct = np.array([3, 2, 1, 4, 4, 3, 4, 4, 3, 3])\n",
    "\n",
    "count = 10\n",
    "students = 10\n",
    "answers = np.random.randint(1, 5, size=count*students)\n",
    "answers = answers.reshape(count, students)\n",
    "print(answers)\n",
    "print(answers[9])"
   ]
  },
  {
   "cell_type": "code",
   "execution_count": 21,
   "id": "21f94b9e",
   "metadata": {},
   "outputs": [
    {
     "name": "stdout",
     "output_type": "stream",
     "text": [
      "1.채점결과:[ True False  True  True False False False  True  True False],점수:5\n",
      "2.채점결과:[False False False False False False False False  True  True],점수:2\n",
      "3.채점결과:[False False  True False False False False  True  True False],점수:3\n",
      "4.채점결과:[False  True False False  True  True False False  True False],점수:4\n",
      "5.채점결과:[False False  True False False  True False False False False],점수:2\n",
      "6.채점결과:[False  True False False False False False False False  True],점수:2\n",
      "7.채점결과:[False False False False  True False False False False  True],점수:2\n",
      "8.채점결과:[False False False False False False  True False False False],점수:1\n",
      "9.채점결과:[False False False False False False False False False False],점수:0\n",
      "10.채점결과:[ True False  True False False False False False False False],점수:2\n"
     ]
    }
   ],
   "source": [
    "def check_answer_sheet(correct, answers):\n",
    "    # 작성하시오\n",
    "    for k in range(len(answers)):\n",
    "        print(\"{}.채점결과:{},점수:{}\".format(k+1,answers[k] == correct, (answers[k] == correct).sum()))\n",
    "\n",
    "check_answer_sheet(correct, answers)"
   ]
  },
  {
   "cell_type": "code",
   "execution_count": null,
   "id": "cd41fc69",
   "metadata": {},
   "outputs": [],
   "source": []
  }
 ],
 "metadata": {
  "kernelspec": {
   "display_name": "Python 3 (ipykernel)",
   "language": "python",
   "name": "python3"
  },
  "language_info": {
   "codemirror_mode": {
    "name": "ipython",
    "version": 3
   },
   "file_extension": ".py",
   "mimetype": "text/x-python",
   "name": "python",
   "nbconvert_exporter": "python",
   "pygments_lexer": "ipython3",
   "version": "3.9.12"
  }
 },
 "nbformat": 4,
 "nbformat_minor": 5
}
