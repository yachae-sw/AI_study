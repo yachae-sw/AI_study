{
 "cells": [
  {
   "cell_type": "markdown",
   "metadata": {
    "id": "4FdSOyKrbwvM"
   },
   "source": [
    "# 3.3 학습 방법을 바꾼다\n",
    "\n",
    "\n",
    "* **분석데이터**:\n",
    "  https://scikit-learn.org/stable/modules/generated/sklearn.datasets.load_iris.html#sklearn.datasets.load_iris"
   ]
  },
  {
   "cell_type": "markdown",
   "metadata": {
    "id": "KHiJuH0PbwvS"
   },
   "source": [
    "## 3.3.1 모델의 종류를 바꿔보자"
   ]
  },
  {
   "cell_type": "code",
   "execution_count": null,
   "metadata": {
    "executionInfo": {
     "elapsed": 1318,
     "status": "ok",
     "timestamp": 1652160417499,
     "user": {
      "displayName": "Jiyoung Kang",
      "userId": "02538451806768451589"
     },
     "user_tz": -540
    },
    "id": "DjdmWY1tbwvT"
   },
   "outputs": [],
   "source": [
    "# 라이브러리 로딩\n",
    "import pandas as pd\n",
    "import seaborn as sns\n",
    "from sklearn.datasets import load_iris\n",
    "from sklearn.tree import DecisionTreeClassifier\n",
    "from sklearn.model_selection import train_test_split\n",
    "\n",
    "# 데이터 불러오기\n",
    "iris = load_iris()\n",
    "df = pd.DataFrame(data=iris.data, columns=iris.feature_names)\n",
    "df['species'] = iris.target\n",
    "\n",
    "# 데이터분할\n",
    "y = df['species']\n",
    "X = df.drop(['species'], axis=1)\n",
    "\n",
    "X_train, X_test, y_train, y_test = train_test_split(X, y, random_state=42, stratify=y)"
   ]
  },
  {
   "cell_type": "markdown",
   "metadata": {
    "id": "XH8QoQyybwvW"
   },
   "source": [
    "### ① KNN"
   ]
  },
  {
   "cell_type": "code",
   "execution_count": null,
   "metadata": {
    "colab": {
     "base_uri": "https://localhost:8080/"
    },
    "executionInfo": {
     "elapsed": 10,
     "status": "ok",
     "timestamp": 1652160417500,
     "user": {
      "displayName": "Jiyoung Kang",
      "userId": "02538451806768451589"
     },
     "user_tz": -540
    },
    "id": "gZPDl_5pbwvX",
    "outputId": "570dd1ea-96be-4748-b8f8-2a0d948bf396"
   },
   "outputs": [],
   "source": [
    "# KNN ( K Nearest Neighbor ) - 분류 및 예측에 모두 사용 \n",
    "# 주변 데이터의 수에 따라 많이 존재하는 데이터 그룹으로 분류함 \n",
    "# k 값은 한 그룹에 들어가는 데이터 기준 수 \n",
    "\n",
    "from sklearn.neighbors import KNeighborsClassifier\n",
    "\n",
    "neighbor_model = KNeighborsClassifier(n_neighbors=5)\n",
    "neighbor_model.fit(X_train, y_train)\n",
    "neighbor_model.score(X_test, y_test)"
   ]
  },
  {
   "cell_type": "markdown",
   "metadata": {
    "id": "Y4ELbzazbwvZ"
   },
   "source": [
    "### ② SVM"
   ]
  },
  {
   "cell_type": "code",
   "execution_count": null,
   "metadata": {
    "colab": {
     "base_uri": "https://localhost:8080/"
    },
    "executionInfo": {
     "elapsed": 7,
     "status": "ok",
     "timestamp": 1652160417500,
     "user": {
      "displayName": "Jiyoung Kang",
      "userId": "02538451806768451589"
     },
     "user_tz": -540
    },
    "id": "a_4aFxzibwva",
    "outputId": "bbddd9ff-4a57-48f7-add2-3fa41524ccce"
   },
   "outputs": [],
   "source": [
    "# SVM ( Support Vector Machine ) - 데이터를 구분하기 위한 최적의 선(초평면) 을 찾아 구분 \n",
    "\n",
    "from sklearn.svm import SVC\n",
    "\n",
    "svm_model = SVC(random_state=42)\n",
    "svm_model.fit(X_train, y_train)\n",
    "svm_model.score(X_test, y_test)"
   ]
  },
  {
   "cell_type": "markdown",
   "metadata": {
    "id": "7wLkK45obwvc"
   },
   "source": [
    "### ③ 앙상블"
   ]
  },
  {
   "cell_type": "markdown",
   "metadata": {
    "id": "gT23NomDbwve"
   },
   "source": [
    "#### RandomForest"
   ]
  },
  {
   "cell_type": "code",
   "execution_count": null,
   "metadata": {
    "colab": {
     "base_uri": "https://localhost:8080/"
    },
    "executionInfo": {
     "elapsed": 438,
     "status": "ok",
     "timestamp": 1652160417934,
     "user": {
      "displayName": "Jiyoung Kang",
      "userId": "02538451806768451589"
     },
     "user_tz": -540
    },
    "id": "3WOVkSm_bwvf",
    "outputId": "f47552f9-c01c-4be3-d164-759bd5d5175d"
   },
   "outputs": [],
   "source": [
    "# 앙상블 - 여러 개의 머신러닝 모델에 대한 결과를 종합하여 하나의 결과로 도출 \n",
    "# 앙상블 기법은 크게 - Bagging / Boosting 으로 유형 분류\n",
    "# Bagging : 복원추출 -> 모델링 -> 투표 -> 평가\n",
    "# Boosting : 복원추출 -> 모델링 -> 가중치조정 -> 평가\n",
    "# 대표적인 앙상블 기법으로 RandonForest \n",
    "# 여러 개의 의사결정나무를 앙상블 하여 과적합 방지\n",
    "\n",
    "from sklearn.ensemble import RandomForestClassifier\n",
    "\n",
    "forest_model = RandomForestClassifier(n_estimators=100, random_state=42)\n",
    "forest_model.fit(X_train, y_train)\n",
    "forest_model.score(X_test, y_test)"
   ]
  },
  {
   "cell_type": "markdown",
   "metadata": {
    "id": "3SWwws2Mbwvg"
   },
   "source": [
    "#### GradientBoosting"
   ]
  },
  {
   "cell_type": "code",
   "execution_count": null,
   "metadata": {
    "colab": {
     "base_uri": "https://localhost:8080/"
    },
    "executionInfo": {
     "elapsed": 957,
     "status": "ok",
     "timestamp": 1652160418884,
     "user": {
      "displayName": "Jiyoung Kang",
      "userId": "02538451806768451589"
     },
     "user_tz": -540
    },
    "id": "4RX1LMalbwvh",
    "outputId": "a3b68c8b-edb2-4e93-e036-09fcd7bb7687"
   },
   "outputs": [],
   "source": [
    "from sklearn.ensemble import GradientBoostingClassifier\n",
    "from xgboost import XGBClassifier\n",
    "from lightgbm import LGBMClassifier\n",
    "\n",
    "gbm_model = GradientBoostingClassifier(random_state=42, n_estimators=300)\n",
    "xgb_model = XGBClassifier(random_state=42, n_estimators=300)\n",
    "lgb_model = LGBMClassifier(random_state=42, n_estimators=300)\n",
    "\n",
    "model_list = [gbm_model, xgb_model, lgb_model]\n",
    "\n",
    "for model in model_list:\n",
    "    model.fit(X_train , y_train)\n",
    "    score = model.score(X_test, y_test)\n",
    "    model_name = model.__class__.__name__\n",
    "    print('{0} 정확도: {1:.2f}'.format(model_name, score)) "
   ]
  },
  {
   "cell_type": "markdown",
   "metadata": {
    "id": "gu1lFuFQbwvi"
   },
   "source": [
    "#### VotingClassifier "
   ]
  },
  {
   "cell_type": "code",
   "execution_count": null,
   "metadata": {
    "colab": {
     "base_uri": "https://localhost:8080/"
    },
    "executionInfo": {
     "elapsed": 5,
     "status": "ok",
     "timestamp": 1652160418885,
     "user": {
      "displayName": "Jiyoung Kang",
      "userId": "02538451806768451589"
     },
     "user_tz": -540
    },
    "id": "TwQdpPOSbwvk",
    "outputId": "7c8194e2-932c-4673-88bd-bc652470d9ed"
   },
   "outputs": [],
   "source": [
    "from sklearn.ensemble import RandomForestClassifier\n",
    "from sklearn.neighbors import KNeighborsClassifier\n",
    "from sklearn.ensemble import VotingClassifier\n",
    "\n",
    "neighbor_model = KNeighborsClassifier(n_neighbors=5)\n",
    "forest_model = RandomForestClassifier(n_estimators=100, random_state=42)\n",
    "\n",
    "voting_model = VotingClassifier (estimators=[('RF',forest_model),('KNN',neighbor_model)] , voting='soft')\n",
    "\n",
    "model_list = [neighbor_model, forest_model, voting_model]\n",
    "\n",
    "for model in model_list:\n",
    "    model.fit(X_train , y_train)\n",
    "    score = model.score(X_test, y_test)\n",
    "    model_name = model.__class__.__name__\n",
    "    print('{0} 정확도: {1:.2f}'.format(model_name, score)) \n"
   ]
  },
  {
   "cell_type": "markdown",
   "metadata": {
    "id": "soLhXGftbwvl"
   },
   "source": [
    "### ④ 로지스틱회귀"
   ]
  },
  {
   "cell_type": "code",
   "execution_count": null,
   "metadata": {
    "colab": {
     "base_uri": "https://localhost:8080/"
    },
    "executionInfo": {
     "elapsed": 442,
     "status": "ok",
     "timestamp": 1652160419324,
     "user": {
      "displayName": "Jiyoung Kang",
      "userId": "02538451806768451589"
     },
     "user_tz": -540
    },
    "id": "nYJOUWAcbwvl",
    "outputId": "c4606890-7e55-4533-ab5a-2c29316b032b"
   },
   "outputs": [],
   "source": [
    "from sklearn.linear_model import LogisticRegression\n",
    "\n",
    "logistic_model = LogisticRegression(random_state=42)\n",
    "logistic_model.fit(X_train, y_train)\n",
    "logistic_model.score(X_test, y_test)"
   ]
  },
  {
   "cell_type": "markdown",
   "metadata": {
    "id": "c0ojZGzcbwvm"
   },
   "source": [
    "## 3.3.2 모델을 튜닝하자"
   ]
  },
  {
   "cell_type": "code",
   "execution_count": null,
   "metadata": {
    "colab": {
     "base_uri": "https://localhost:8080/",
     "height": 238
    },
    "executionInfo": {
     "elapsed": 16,
     "status": "ok",
     "timestamp": 1652160419324,
     "user": {
      "displayName": "Jiyoung Kang",
      "userId": "02538451806768451589"
     },
     "user_tz": -540
    },
    "id": "uljL76usbwvm",
    "outputId": "1b2ec111-267b-4148-a88b-7841c26f915d"
   },
   "outputs": [],
   "source": [
    "# 라이브러리 로딩\n",
    "import pandas as pd\n",
    "import seaborn as sns\n",
    "from sklearn.datasets import load_iris\n",
    "from sklearn.tree import DecisionTreeClassifier\n",
    "from sklearn.model_selection import train_test_split\n",
    "from sklearn.model_selection import GridSearchCV\n",
    "\n",
    "# 데이터 불러오기\n",
    "iris = load_iris()\n",
    "df = pd.DataFrame(data=iris.data, columns=iris.feature_names)\n",
    "df['species'] = iris.target\n",
    "\n",
    "# 데이터분할\n",
    "y = df['species']\n",
    "X = df.drop(['species'], axis=1)\n",
    "\n",
    "X_train, X_test, y_train, y_test = train_test_split(X, y, random_state=42, stratify=y)\n",
    "\n",
    "# 모델 - DecisionTreeClassifier \n",
    "tree_model = DecisionTreeClassifier(random_state=42)\n",
    "tree_model.fit(X_train, y_train)\n",
    "\n",
    "# 파라미터\n",
    "param = {'max_depth':[1,2,3], 'min_samples_split':[2,3]}\n",
    "\n",
    "# 학습 - param_grid의 하이퍼파라미터들을 순차적으로 학습\n",
    "grid_trees = GridSearchCV(tree_model, param_grid=param, cv=3)\n",
    "grid_trees.fit(X_train, y_train)\n",
    "\n",
    "# 학습 결과 - GridSearchCV 결과 추출하여 DataFrame으로 변환\n",
    "scores_df = pd.DataFrame(grid_trees.cv_results_)\n",
    "scores_df.iloc[:, 6:]"
   ]
  },
  {
   "cell_type": "code",
   "execution_count": null,
   "metadata": {
    "colab": {
     "base_uri": "https://localhost:8080/"
    },
    "executionInfo": {
     "elapsed": 14,
     "status": "ok",
     "timestamp": 1652160419325,
     "user": {
      "displayName": "Jiyoung Kang",
      "userId": "02538451806768451589"
     },
     "user_tz": -540
    },
    "id": "HVWfgAz_bwvn",
    "outputId": "9d947dd6-f2fc-473c-b7aa-ff199e717fa2"
   },
   "outputs": [],
   "source": [
    "# 최적 estimator\n",
    "grid_trees.best_estimator_"
   ]
  },
  {
   "cell_type": "code",
   "execution_count": null,
   "metadata": {
    "colab": {
     "base_uri": "https://localhost:8080/"
    },
    "executionInfo": {
     "elapsed": 13,
     "status": "ok",
     "timestamp": 1652160419325,
     "user": {
      "displayName": "Jiyoung Kang",
      "userId": "02538451806768451589"
     },
     "user_tz": -540
    },
    "id": "hKEUFqNIbwvp",
    "outputId": "b0766c06-666e-4995-b3c9-7e0443173853",
    "scrolled": true
   },
   "outputs": [],
   "source": [
    "# 최적 파라미터\n",
    "grid_trees.best_params_"
   ]
  },
  {
   "cell_type": "code",
   "execution_count": null,
   "metadata": {
    "colab": {
     "base_uri": "https://localhost:8080/"
    },
    "executionInfo": {
     "elapsed": 11,
     "status": "ok",
     "timestamp": 1652160419326,
     "user": {
      "displayName": "Jiyoung Kang",
      "userId": "02538451806768451589"
     },
     "user_tz": -540
    },
    "id": "VkAiCoHhbwvt",
    "outputId": "4646e87c-52ad-44ba-b20c-a1e32c960f93"
   },
   "outputs": [],
   "source": [
    "# 최적 estimator의 성능\n",
    "grid_trees.best_score_"
   ]
  },
  {
   "cell_type": "markdown",
   "metadata": {
    "id": "SWLFiiKObwvu"
   },
   "source": [
    "## 3.3.3 너무 오래 학습하지 않는다!"
   ]
  },
  {
   "cell_type": "code",
   "execution_count": null,
   "metadata": {
    "colab": {
     "base_uri": "https://localhost:8080/"
    },
    "executionInfo": {
     "elapsed": 11,
     "status": "ok",
     "timestamp": 1652160419327,
     "user": {
      "displayName": "Jiyoung Kang",
      "userId": "02538451806768451589"
     },
     "user_tz": -540
    },
    "id": "E-_VkspEbwvv",
    "outputId": "da528d8c-608f-41ff-f847-8feaa987837f",
    "scrolled": true
   },
   "outputs": [],
   "source": [
    "# 라이브러리 로딩\n",
    "import pandas as pd\n",
    "import seaborn as sns\n",
    "from sklearn.datasets import load_iris\n",
    "from sklearn.model_selection import train_test_split\n",
    "from sklearn.model_selection import GridSearchCV\n",
    "from lightgbm import LGBMClassifier\n",
    "\n",
    "# 데이터 불러오기\n",
    "iris = load_iris()\n",
    "df = pd.DataFrame(data=iris.data, columns=iris.feature_names)\n",
    "df['species'] = iris.target\n",
    "\n",
    "# 데이터분할\n",
    "y = df['species']\n",
    "X = df.drop(['species'], axis=1)\n",
    "\n",
    "X_train, X_test, y_train, y_test = train_test_split(X, y, random_state=42, stratify=y)\n",
    "X_train, X_valid, y_train, y_valid = train_test_split(X_train, y_train, random_state=42, stratify=y_train)\n",
    "\n",
    "# LGBMClassifier 생성\n",
    "lgb_model = LGBMClassifier(n_estimators=300)\n",
    "\n",
    "# 학습 - 학습 시, 검증용 데이터로 성능을 확인하면서 10회 이상 검증용 데이터의 정확도 개선이 되지 않을 경우 학습 종료\n",
    "lgb_model.fit(X_train, y_train, early_stopping_rounds=10,  eval_set=[(X_train, y_train), (X_valid, y_valid)])\n",
    "\n",
    "# 평가 - 테스트셋으로 평가\n",
    "score = lgb_model.score(X_test, y_test)\n",
    "print('정확도: {0:.2f}'.format(score))"
   ]
  },
  {
   "cell_type": "code",
   "execution_count": null,
   "metadata": {
    "colab": {
     "base_uri": "https://localhost:8080/",
     "height": 313
    },
    "executionInfo": {
     "elapsed": 622,
     "status": "ok",
     "timestamp": 1652160419939,
     "user": {
      "displayName": "Jiyoung Kang",
      "userId": "02538451806768451589"
     },
     "user_tz": -540
    },
    "id": "jgJkki5cbwvw",
    "outputId": "38c09174-07f1-4a19-bb46-5c0451a51c8e"
   },
   "outputs": [],
   "source": [
    "import lightgbm as lgb\n",
    "lgb.plot_metric(lgb_model)"
   ]
  },
  {
   "cell_type": "code",
   "execution_count": null,
   "metadata": {
    "colab": {
     "base_uri": "https://localhost:8080/",
     "height": 313
    },
    "executionInfo": {
     "elapsed": 10,
     "status": "ok",
     "timestamp": 1652160419940,
     "user": {
      "displayName": "Jiyoung Kang",
      "userId": "02538451806768451589"
     },
     "user_tz": -540
    },
    "id": "pbFh1DJsbwvx",
    "outputId": "2564c5ee-4185-455a-9265-b0bd664fd4b0"
   },
   "outputs": [],
   "source": [
    "# 참고 - lgb_model에서 중요한 feature를 시각화하는 방법\n",
    "from lightgbm import plot_importance\n",
    "plot_importance(lgb_model)"
   ]
  },
  {
   "cell_type": "code",
   "execution_count": null,
   "metadata": {
    "executionInfo": {
     "elapsed": 7,
     "status": "ok",
     "timestamp": 1652160419940,
     "user": {
      "displayName": "Jiyoung Kang",
      "userId": "02538451806768451589"
     },
     "user_tz": -540
    },
    "id": "kbU8ZsoHbwvy"
   },
   "outputs": [],
   "source": []
  }
 ],
 "metadata": {
  "colab": {
   "collapsed_sections": [],
   "name": "3-3_학습방법을바꾼다.ipynb",
   "provenance": []
  },
  "kernelspec": {
   "display_name": "Python 3 (ipykernel)",
   "language": "python",
   "name": "python3"
  },
  "language_info": {
   "codemirror_mode": {
    "name": "ipython",
    "version": 3
   },
   "file_extension": ".py",
   "mimetype": "text/x-python",
   "name": "python",
   "nbconvert_exporter": "python",
   "pygments_lexer": "ipython3",
   "version": "3.9.12"
  },
  "toc": {
   "base_numbering": 1,
   "nav_menu": {},
   "number_sections": false,
   "sideBar": true,
   "skip_h1_title": false,
   "title_cell": "Table of Contents",
   "title_sidebar": "Contents",
   "toc_cell": false,
   "toc_position": {
    "height": "calc(100% - 180px)",
    "left": "10px",
    "top": "150px",
    "width": "313.292px"
   },
   "toc_section_display": true,
   "toc_window_display": true
  }
 },
 "nbformat": 4,
 "nbformat_minor": 1
}
