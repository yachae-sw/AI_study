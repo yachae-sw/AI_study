{
 "cells": [
  {
   "cell_type": "markdown",
   "metadata": {
    "id": "03ZCwN-Cm-_7"
   },
   "source": [
    "# 2.2 실습 - 붓꽃 데이터 분류\n",
    "\n",
    "붓꽃의 품종을 분류하는 문제를 머신러닝 알고리즘으로 어떻게 해결하는지 살펴봅니다.\n",
    "\n",
    "* **분석데이터**:\n",
    "  https://scikit-learn.org/stable/modules/generated/sklearn.datasets.load_iris.html#sklearn.datasets.load_iris"
   ]
  },
  {
   "cell_type": "markdown",
   "metadata": {
    "id": "L2ncr0r1tgqx"
   },
   "source": [
    "## 2.2.1 문제 정의"
   ]
  },
  {
   "cell_type": "code",
   "execution_count": null,
   "metadata": {
    "executionInfo": {
     "elapsed": 1971,
     "status": "ok",
     "timestamp": 1652160294077,
     "user": {
      "displayName": "Jiyoung Kang",
      "userId": "02538451806768451589"
     },
     "user_tz": -540
    },
    "id": "QcB0pbuom-__"
   },
   "outputs": [],
   "source": [
    "# 패키지 로딩\n",
    "# 사이킷런 패키지 \n",
    "import numpy as np\n",
    "import pandas as pd\n",
    "import seaborn as sns\n",
    "from sklearn.datasets import load_iris\n",
    "from sklearn.tree import DecisionTreeClassifier\n",
    "from sklearn.model_selection import train_test_split"
   ]
  },
  {
   "cell_type": "code",
   "execution_count": null,
   "metadata": {
    "colab": {
     "base_uri": "https://localhost:8080/"
    },
    "executionInfo": {
     "elapsed": 367,
     "status": "ok",
     "timestamp": 1652160294433,
     "user": {
      "displayName": "Jiyoung Kang",
      "userId": "02538451806768451589"
     },
     "user_tz": -540
    },
    "id": "SmsAvGBTm_AB",
    "outputId": "d27ad972-be07-4f25-cf5a-c8e194b52390"
   },
   "outputs": [],
   "source": [
    "# 데이터 로딩\n",
    "# iris.target 확인\n",
    "# iris.targetname 확인 "
   ]
  },
  {
   "cell_type": "code",
   "execution_count": null,
   "metadata": {},
   "outputs": [],
   "source": [
    "# pandas 활용 dataframe 으로 변환"
   ]
  },
  {
   "cell_type": "code",
   "execution_count": null,
   "metadata": {
    "colab": {
     "base_uri": "https://localhost:8080/"
    },
    "executionInfo": {
     "elapsed": 13,
     "status": "ok",
     "timestamp": 1652160294435,
     "user": {
      "displayName": "Jiyoung Kang",
      "userId": "02538451806768451589"
     },
     "user_tz": -540
    },
    "id": "bEUPxRMXm_AF",
    "outputId": "18f0ce95-a203-436d-b075-c5eb55f0f236"
   },
   "outputs": [],
   "source": [
    "# 데이터프레임의 요약 정보 확인 \n",
    "# {dataframe}.info()"
   ]
  },
  {
   "cell_type": "code",
   "execution_count": null,
   "metadata": {
    "colab": {
     "base_uri": "https://localhost:8080/",
     "height": 300
    },
    "executionInfo": {
     "elapsed": 11,
     "status": "ok",
     "timestamp": 1652160294435,
     "user": {
      "displayName": "Jiyoung Kang",
      "userId": "02538451806768451589"
     },
     "user_tz": -540
    },
    "id": "5ReXKie_m_AF",
    "outputId": "d004233f-b589-4f7e-9dae-8029919698fe"
   },
   "outputs": [],
   "source": [
    "# 데이터프레임의 통계 정보 확인"
   ]
  },
  {
   "cell_type": "code",
   "execution_count": null,
   "metadata": {
    "colab": {
     "base_uri": "https://localhost:8080/"
    },
    "executionInfo": {
     "elapsed": 11,
     "status": "ok",
     "timestamp": 1652160294436,
     "user": {
      "displayName": "Jiyoung Kang",
      "userId": "02538451806768451589"
     },
     "user_tz": -540
    },
    "id": "zUZJOCucm_AF",
    "outputId": "63a21a64-3ae2-4d6e-f768-7f773c370b30"
   },
   "outputs": [],
   "source": [
    "# 품종(label) 카테고리 확인\n",
    "# 범주형 데이터 이기 때문에 분류 문제로 정의함. ( 문제 정의!! )"
   ]
  },
  {
   "cell_type": "code",
   "execution_count": null,
   "metadata": {
    "colab": {
     "base_uri": "https://localhost:8080/",
     "height": 744
    },
    "executionInfo": {
     "elapsed": 17513,
     "status": "ok",
     "timestamp": 1652160311940,
     "user": {
      "displayName": "Jiyoung Kang",
      "userId": "02538451806768451589"
     },
     "user_tz": -540
    },
    "id": "W2pjSs59m_AG",
    "outputId": "efeb78a3-1211-48ef-d333-996aae4e837d"
   },
   "outputs": [],
   "source": [
    "# iris 데이터의 pairplot 출력"
   ]
  },
  {
   "cell_type": "markdown",
   "metadata": {
    "id": "aoJC4F8Qtgq5"
   },
   "source": [
    "## 2.2.2.데이터 정제"
   ]
  },
  {
   "cell_type": "code",
   "execution_count": null,
   "metadata": {
    "colab": {
     "base_uri": "https://localhost:8080/"
    },
    "executionInfo": {
     "elapsed": 25,
     "status": "ok",
     "timestamp": 1652160311941,
     "user": {
      "displayName": "Jiyoung Kang",
      "userId": "02538451806768451589"
     },
     "user_tz": -540
    },
    "id": "1qBgRo5wm_AG",
    "outputId": "1dc71817-63f5-4d45-c852-87c8f5e8842c"
   },
   "outputs": [],
   "source": [
    "# 결측치 확인"
   ]
  },
  {
   "cell_type": "code",
   "execution_count": null,
   "metadata": {
    "colab": {
     "base_uri": "https://localhost:8080/"
    },
    "executionInfo": {
     "elapsed": 22,
     "status": "ok",
     "timestamp": 1652160311941,
     "user": {
      "displayName": "Jiyoung Kang",
      "userId": "02538451806768451589"
     },
     "user_tz": -540
    },
    "id": "Im9p9dJZu5eW",
    "outputId": "21763650-d3c3-4815-8e69-9eb0c526ae44"
   },
   "outputs": [],
   "source": [
    "# 중복값 여부 확인"
   ]
  },
  {
   "cell_type": "code",
   "execution_count": null,
   "metadata": {
    "colab": {
     "base_uri": "https://localhost:8080/",
     "height": 81
    },
    "executionInfo": {
     "elapsed": 21,
     "status": "ok",
     "timestamp": 1652160311942,
     "user": {
      "displayName": "Jiyoung Kang",
      "userId": "02538451806768451589"
     },
     "user_tz": -540
    },
    "id": "tk8IuXEovFGi",
    "outputId": "bd091b3b-ff12-4354-c004-a813c4194334"
   },
   "outputs": [],
   "source": [
    "# 중복값 확인"
   ]
  },
  {
   "cell_type": "code",
   "execution_count": null,
   "metadata": {
    "colab": {
     "base_uri": "https://localhost:8080/"
    },
    "executionInfo": {
     "elapsed": 19,
     "status": "ok",
     "timestamp": 1652160311942,
     "user": {
      "displayName": "Jiyoung Kang",
      "userId": "02538451806768451589"
     },
     "user_tz": -540
    },
    "id": "i2rM5GdTvQCv",
    "outputId": "3d1a9209-64f4-4691-fe17-efafb3767751"
   },
   "outputs": [],
   "source": [
    "# 중복값 있으면 제거"
   ]
  },
  {
   "cell_type": "code",
   "execution_count": null,
   "metadata": {
    "executionInfo": {
     "elapsed": 17,
     "status": "ok",
     "timestamp": 1652160311943,
     "user": {
      "displayName": "Jiyoung Kang",
      "userId": "02538451806768451589"
     },
     "user_tz": -540
    },
    "id": "4VyjBBp2m_AH"
   },
   "outputs": [],
   "source": [
    "# 결측치/중복값 제거로 전처리 완료 \n",
    "# 데이터분할 ( 독립변수x, 종속변수y 분할 )\n",
    "\n",
    "# 학습용 데이터와 테스트용 데이터로 나눔\n",
    "# randon_state : 데이터 분할 위한 랜덤 시드 / 같은 기준으로 분류를 해야 하기 때문에 동일한 랜덤값으로 ~ \n",
    "# stratify : 계층화 방식으로 분할할 경우 참조 대상 ( 범주형 데이터 분류에서 쏠리지 않게 하기 위해 )"
   ]
  },
  {
   "cell_type": "code",
   "execution_count": null,
   "metadata": {
    "colab": {
     "base_uri": "https://localhost:8080/"
    },
    "executionInfo": {
     "elapsed": 12,
     "status": "ok",
     "timestamp": 1652160311943,
     "user": {
      "displayName": "Jiyoung Kang",
      "userId": "02538451806768451589"
     },
     "user_tz": -540
    },
    "id": "4lZ_swa8m_AI",
    "outputId": "07e50924-0090-4261-8195-01822b18eaa8"
   },
   "outputs": [],
   "source": [
    "# DecisionTreeClassifier 객체 생성 \n",
    "# 학습용 데이터로 학습 수행"
   ]
  },
  {
   "cell_type": "markdown",
   "metadata": {
    "id": "53mx0O_4tgq8"
   },
   "source": [
    "## 2.2.3.학습-의사결정나무"
   ]
  },
  {
   "cell_type": "code",
   "execution_count": null,
   "metadata": {
    "colab": {
     "base_uri": "https://localhost:8080/",
     "height": 1000
    },
    "executionInfo": {
     "elapsed": 5579,
     "status": "ok",
     "timestamp": 1652160317512,
     "user": {
      "displayName": "Jiyoung Kang",
      "userId": "02538451806768451589"
     },
     "user_tz": -540
    },
    "id": "TYBR1jZCoGkg",
    "outputId": "640196d7-c26a-4f2f-8f2a-61eb0e764b8d"
   },
   "outputs": [],
   "source": [
    "from sklearn.tree import export_graphviz\n",
    "from subprocess import call\n",
    "from IPython.display import Image\n",
    "\n",
    "# 의사결정나무 모델을 dot 파일로 추출\n",
    "export_graphviz(model, out_file='tree.dot')\n",
    "\n",
    "# dot 파일을 .png로 변환\n",
    "call(['dot', '-Tpng', 'tree.dot', '-o', 'tree.png', '-Gdpi=600'])\n",
    "\n",
    "# png 출력\n",
    "Image(filename = 'tree.png')"
   ]
  },
  {
   "cell_type": "markdown",
   "metadata": {
    "id": "93EZ2a7Otgq8"
   },
   "source": [
    "## 2.2.4 평가"
   ]
  },
  {
   "cell_type": "code",
   "execution_count": null,
   "metadata": {
    "colab": {
     "base_uri": "https://localhost:8080/"
    },
    "executionInfo": {
     "elapsed": 15,
     "status": "ok",
     "timestamp": 1652160317512,
     "user": {
      "displayName": "Jiyoung Kang",
      "userId": "02538451806768451589"
     },
     "user_tz": -540
    },
    "id": "FLX0X4Afm_AI",
    "outputId": "3604bfc2-e2c7-483c-e061-eb11051c4082"
   },
   "outputs": [],
   "source": [
    "#테스트용 데이터로 모델 평가\n",
    "\n",
    "# 정확도는?"
   ]
  },
  {
   "cell_type": "markdown",
   "metadata": {
    "id": "tPl5J6dAtgq9"
   },
   "source": [
    "## 2.2.5 예측"
   ]
  },
  {
   "cell_type": "code",
   "execution_count": null,
   "metadata": {
    "colab": {
     "base_uri": "https://localhost:8080/"
    },
    "executionInfo": {
     "elapsed": 14,
     "status": "ok",
     "timestamp": 1652160317513,
     "user": {
      "displayName": "Jiyoung Kang",
      "userId": "02538451806768451589"
     },
     "user_tz": -540
    },
    "id": "EznjuvD_m_AI",
    "outputId": "ec3fdba5-552a-476f-8fb8-95e5eec6bd26"
   },
   "outputs": [],
   "source": [
    "#  새로운 데이터를 예측해보자. 이 데이터의 품종은?\n",
    "\n",
    "new = np.array([[5.4, 4, 1.5, 0.2]])\n",
    "y_pred = model.predict(new)\n",
    "y_pred"
   ]
  }
 ],
 "metadata": {
  "colab": {
   "collapsed_sections": [],
   "name": "2_2_실습_붓꽃데이터분류.ipynb",
   "provenance": [],
   "toc_visible": true
  },
  "kernelspec": {
   "display_name": "Python 3 (ipykernel)",
   "language": "python",
   "name": "python3"
  },
  "language_info": {
   "codemirror_mode": {
    "name": "ipython",
    "version": 3
   },
   "file_extension": ".py",
   "mimetype": "text/x-python",
   "name": "python",
   "nbconvert_exporter": "python",
   "pygments_lexer": "ipython3",
   "version": "3.9.12"
  },
  "toc": {
   "base_numbering": 1,
   "nav_menu": {},
   "number_sections": false,
   "sideBar": true,
   "skip_h1_title": false,
   "title_cell": "Table of Contents",
   "title_sidebar": "Contents",
   "toc_cell": false,
   "toc_position": {
    "height": "calc(100% - 180px)",
    "left": "10px",
    "top": "150px",
    "width": "228px"
   },
   "toc_section_display": true,
   "toc_window_display": true
  }
 },
 "nbformat": 4,
 "nbformat_minor": 1
}
