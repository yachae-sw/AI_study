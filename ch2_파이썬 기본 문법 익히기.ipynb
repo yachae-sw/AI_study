{
 "cells": [
  {
   "cell_type": "markdown",
   "id": "874e1eea",
   "metadata": {},
   "source": [
    "# 컨테이너 타입"
   ]
  },
  {
   "cell_type": "markdown",
   "id": "61b5d612",
   "metadata": {},
   "source": [
    " * 리스트(list): 데이터를 연속적으로 관리. 값을 바꿀 수 있음\n",
    " * 튜플(tuple): 데이터를 연속적으로 관리. 값을 바꿀 수 없음\n",
    " * 세트(set): 집합과 같은 속성\n",
    " * 딕셔너리(dictionary): key-value 쌍"
   ]
  },
  {
   "cell_type": "markdown",
   "id": "c3ddff27",
   "metadata": {},
   "source": [
    "__리스트(list)__"
   ]
  },
  {
   "cell_type": "code",
   "execution_count": 3,
   "id": "1633696b",
   "metadata": {},
   "outputs": [
    {
     "data": {
      "text/plain": [
       "'apple'"
      ]
     },
     "execution_count": 3,
     "metadata": {},
     "output_type": "execute_result"
    }
   ],
   "source": [
    "fruit_list = [\"apple\", \"banana\", \"orange\"]\n",
    "fruit_list[0]"
   ]
  },
  {
   "cell_type": "code",
   "execution_count": 4,
   "id": "fbc7a6b3",
   "metadata": {},
   "outputs": [
    {
     "data": {
      "text/plain": [
       "3"
      ]
     },
     "execution_count": 4,
     "metadata": {},
     "output_type": "execute_result"
    }
   ],
   "source": [
    "len(fruit_list)"
   ]
  },
  {
   "cell_type": "code",
   "execution_count": 5,
   "id": "210a3cf0",
   "metadata": {},
   "outputs": [
    {
     "data": {
      "text/plain": [
       "['apple', 'straberry', 'blueberry']"
      ]
     },
     "execution_count": 5,
     "metadata": {},
     "output_type": "execute_result"
    }
   ],
   "source": [
    "fruit_list = ['apple', 'straberry', 'blueberry']\n",
    "fruit_list"
   ]
  },
  {
   "cell_type": "code",
   "execution_count": 6,
   "id": "caa45ed5",
   "metadata": {},
   "outputs": [
    {
     "data": {
      "text/plain": [
       "['apple', 'straberry', 'mange', 'blueberry']"
      ]
     },
     "execution_count": 6,
     "metadata": {},
     "output_type": "execute_result"
    }
   ],
   "source": [
    "fruit_list.insert(2, 'mange')\n",
    "fruit_list"
   ]
  },
  {
   "cell_type": "code",
   "execution_count": 7,
   "id": "8ec7122a",
   "metadata": {},
   "outputs": [
    {
     "data": {
      "text/plain": [
       "['apple', 'straberry', 'mange', 'blueberry', 'watermelon']"
      ]
     },
     "execution_count": 7,
     "metadata": {},
     "output_type": "execute_result"
    }
   ],
   "source": [
    "fruit_list.append(\"watermelon\")\n",
    "fruit_list"
   ]
  },
  {
   "cell_type": "code",
   "execution_count": 8,
   "id": "3ea7ff0e",
   "metadata": {},
   "outputs": [
    {
     "data": {
      "text/plain": [
       "['apple',\n",
       " 'straberry',\n",
       " 'mange',\n",
       " 'blueberry',\n",
       " 'watermelon',\n",
       " 'carrot',\n",
       " 'tomato',\n",
       " 'onion']"
      ]
     },
     "execution_count": 8,
     "metadata": {},
     "output_type": "execute_result"
    }
   ],
   "source": [
    "vegetable_list = [\"carrot\", \"tomato\", \"onion\"]\n",
    "fruit_list.extend(vegetable_list)\n",
    "fruit_list"
   ]
  },
  {
   "cell_type": "code",
   "execution_count": 9,
   "id": "0bec61a9",
   "metadata": {},
   "outputs": [
    {
     "data": {
      "text/plain": [
       "[1, 2, 3, '가', '나', '다']"
      ]
     },
     "execution_count": 9,
     "metadata": {},
     "output_type": "execute_result"
    }
   ],
   "source": [
    "list1 = [1, 2, 3]\n",
    "list2 = ['가', '나', '다']\n",
    "list3 = list1 + list2\n",
    "list3"
   ]
  },
  {
   "cell_type": "code",
   "execution_count": 10,
   "id": "e5a4adc4",
   "metadata": {},
   "outputs": [
    {
     "data": {
      "text/plain": [
       "['apple', 'banana', 'orange']"
      ]
     },
     "execution_count": 10,
     "metadata": {},
     "output_type": "execute_result"
    }
   ],
   "source": [
    "fruit_list = ['apple', 'tomato', 'banana', 'orange']\n",
    "fruit_list.remove(\"tomato\")\n",
    "fruit_list"
   ]
  },
  {
   "cell_type": "code",
   "execution_count": 11,
   "id": "dba4db7c",
   "metadata": {},
   "outputs": [
    {
     "data": {
      "text/plain": [
       "['apple', 'banana']"
      ]
     },
     "execution_count": 11,
     "metadata": {},
     "output_type": "execute_result"
    }
   ],
   "source": [
    "del fruit_list[-1]\n",
    "fruit_list"
   ]
  },
  {
   "cell_type": "code",
   "execution_count": 12,
   "id": "49caa3c2",
   "metadata": {},
   "outputs": [
    {
     "data": {
      "text/plain": [
       "[]"
      ]
     },
     "execution_count": 12,
     "metadata": {},
     "output_type": "execute_result"
    }
   ],
   "source": [
    "fruit_list = ['apple', 'banana', 'orange']\n",
    "fruit_list.clear()\n",
    "fruit_list"
   ]
  },
  {
   "cell_type": "code",
   "execution_count": 13,
   "id": "8088eeeb",
   "metadata": {},
   "outputs": [
    {
     "data": {
      "text/plain": [
       "['apple', 'banana', 'blueberry', 'mango', 'orange', 'strawberry', 'watermelon']"
      ]
     },
     "execution_count": 13,
     "metadata": {},
     "output_type": "execute_result"
    }
   ],
   "source": [
    "fruit_list = ['strawberry', 'mango', 'blueberry', 'watermelon', 'apple', 'banana', 'orange']\n",
    "fruit_list.sort()\n",
    "fruit_list"
   ]
  },
  {
   "cell_type": "code",
   "execution_count": 14,
   "id": "5f8ad251",
   "metadata": {},
   "outputs": [
    {
     "data": {
      "text/plain": [
       "['watermelon', 'strawberry', 'orange', 'mango', 'blueberry', 'banana', 'apple']"
      ]
     },
     "execution_count": 14,
     "metadata": {},
     "output_type": "execute_result"
    }
   ],
   "source": [
    "fruit_list.sort(reverse=True)\n",
    "fruit_list"
   ]
  },
  {
   "cell_type": "markdown",
   "id": "80ffced5",
   "metadata": {},
   "source": [
    "__튜플(tuple)__"
   ]
  },
  {
   "cell_type": "code",
   "execution_count": 15,
   "id": "d80bfb2f",
   "metadata": {},
   "outputs": [
    {
     "ename": "NameError",
     "evalue": "name 'fruit_tuple' is not defined",
     "output_type": "error",
     "traceback": [
      "\u001b[1;31m---------------------------------------------------------------------------\u001b[0m",
      "\u001b[1;31mNameError\u001b[0m                                 Traceback (most recent call last)",
      "Input \u001b[1;32mIn [15]\u001b[0m, in \u001b[0;36m<cell line: 2>\u001b[1;34m()\u001b[0m\n\u001b[0;32m      1\u001b[0m fruit_tuplea \u001b[38;5;241m=\u001b[39m (\u001b[38;5;124m\"\u001b[39m\u001b[38;5;124mapple\u001b[39m\u001b[38;5;124m\"\u001b[39m, \u001b[38;5;124m\"\u001b[39m\u001b[38;5;124mbanana\u001b[39m\u001b[38;5;124m\"\u001b[39m, \u001b[38;5;124m\"\u001b[39m\u001b[38;5;124morange\u001b[39m\u001b[38;5;124m\"\u001b[39m)\n\u001b[1;32m----> 2\u001b[0m \u001b[43mfruit_tuple\u001b[49m[\u001b[38;5;241m1\u001b[39m]\n",
      "\u001b[1;31mNameError\u001b[0m: name 'fruit_tuple' is not defined"
     ]
    }
   ],
   "source": [
    "fruit_tuplea = (\"apple\", \"banana\", \"orange\")\n",
    "fruit_tuple[1]"
   ]
  },
  {
   "cell_type": "code",
   "execution_count": null,
   "id": "be058e98",
   "metadata": {},
   "outputs": [],
   "source": [
    "fruit_list = list(fruit_tuple)\n",
    "fruit_list.append(\"watermelon\")\n",
    "fruit_list.remove(\"apple\")\n",
    "fruit_tuple = tuple(fruit_list)\n",
    "fruit_tuple"
   ]
  },
  {
   "cell_type": "markdown",
   "id": "f3037ed4",
   "metadata": {},
   "source": [
    "## 조건문"
   ]
  },
  {
   "cell_type": "code",
   "execution_count": 16,
   "id": "2112e240",
   "metadata": {},
   "outputs": [
    {
     "name": "stdout",
     "output_type": "stream",
     "text": [
      "카푸치노\n"
     ]
    }
   ],
   "source": [
    "weather = '비'\n",
    "today_temp = 30\n",
    "\n",
    "if weather == '맑음':\n",
    "    if 0 < today_temp:\n",
    "        print(\"아이스 아메리카노\")\n",
    "    elif 0 == today_temp:\n",
    "        print(\"미지근한 아메리카노\")\n",
    "    else:\n",
    "        print(\"따뜻한 아메리카노\")\n",
    "else:\n",
    "    print(\"카푸치노\")"
   ]
  },
  {
   "cell_type": "markdown",
   "id": "56a1e596",
   "metadata": {},
   "source": [
    "## 과제"
   ]
  },
  {
   "cell_type": "code",
   "execution_count": 17,
   "id": "6cffd399",
   "metadata": {},
   "outputs": [
    {
     "name": "stdout",
     "output_type": "stream",
     "text": [
      "51.0\n"
     ]
    }
   ],
   "source": [
    "a = '21'\n",
    "b = '+'\n",
    "c = '30'\n",
    "\n",
    "if str(b) == '+':\n",
    "    d = float(a) + float(c)\n",
    "    print(d)\n",
    "else:\n",
    "    print(\"+ 연산자만 가능합니다.\")"
   ]
  },
  {
   "cell_type": "code",
   "execution_count": 18,
   "id": "91f0d3be",
   "metadata": {},
   "outputs": [
    {
     "name": "stdout",
     "output_type": "stream",
     "text": [
      "0.000000로 나누기를 수행할 수 없습니다.\n"
     ]
    }
   ],
   "source": [
    "a = '30'\n",
    "b = '/'\n",
    "c = '0'\n",
    "\n",
    "if str(a) == '0' or str(c) == '0':\n",
    "    print(\"0.000000로 나누기를 수행할 수 없습니다.\")\n",
    "else:\n",
    "    d = float(a) / float(b)\n",
    "    print(d)"
   ]
  },
  {
   "cell_type": "code",
   "execution_count": 19,
   "id": "e89752b8",
   "metadata": {},
   "outputs": [
    {
     "name": "stdout",
     "output_type": "stream",
     "text": [
      "0.0\n"
     ]
    }
   ],
   "source": [
    "a = '0.2'\n",
    "b = '*'\n",
    "c = '0'\n",
    "\n",
    "if str(b) == '*':\n",
    "    d = float(a) * float(c)\n",
    "    print(d)\n",
    "else:\n",
    "    print(\"* 연산자만 가능합니다.\")"
   ]
  },
  {
   "cell_type": "code",
   "execution_count": 20,
   "id": "686720a3",
   "metadata": {},
   "outputs": [
    {
     "name": "stdout",
     "output_type": "stream",
     "text": [
      "?는 허용하지 않습니다\n"
     ]
    }
   ],
   "source": [
    "a = '30'\n",
    "b = '?'\n",
    "c = '0'\n",
    "\n",
    "if str(b) != \"+\" and str(b) != \"-\" and str(b) != \"*\" and str(b) != \"/\":\n",
    "    print(b + \"는 허용하지 않습니다\")\n",
    "else:\n",
    "    print(b + \"는 연산이 가능합니다\")"
   ]
  },
  {
   "cell_type": "markdown",
   "id": "cd67dd72",
   "metadata": {},
   "source": [
    "## 반복문"
   ]
  },
  {
   "cell_type": "markdown",
   "id": "2118cd92",
   "metadata": {},
   "source": [
    "__for문__"
   ]
  },
  {
   "cell_type": "code",
   "execution_count": 21,
   "id": "8758fa8a",
   "metadata": {},
   "outputs": [
    {
     "name": "stdout",
     "output_type": "stream",
     "text": [
      "[85, 95, 75, 70, 90, 100, 95, 85, 80, 85]\n"
     ]
    }
   ],
   "source": [
    "scores = [80, 90, 70, 65, 85, 95, 90, 80, 75, 80]\n",
    "new_scores = []\n",
    "\n",
    "for s in scores:\n",
    "    new = s + 5\n",
    "    new_scores.append(new)\n",
    "\n",
    "print(new_scores)"
   ]
  },
  {
   "cell_type": "code",
   "execution_count": 22,
   "id": "ae0fad43",
   "metadata": {},
   "outputs": [
    {
     "name": "stdout",
     "output_type": "stream",
     "text": [
      "[85, 95, 75, 70, 100, 100, 95, 85, 80, 85]\n"
     ]
    }
   ],
   "source": [
    "scores = [80, 90, 70, 65, 95, 100, 90, 80, 75, 80]\n",
    "new_scores = []\n",
    "\n",
    "for s in scores:\n",
    "    if s <= 95:\n",
    "        new = s + 5\n",
    "    else:\n",
    "        new = 100\n",
    "    new_scores.append(new)\n",
    "    \n",
    "print(new_scores)"
   ]
  },
  {
   "cell_type": "code",
   "execution_count": 58,
   "id": "36e0fcaa",
   "metadata": {},
   "outputs": [
    {
     "name": "stdout",
     "output_type": "stream",
     "text": [
      "-사용자입력(단):9\n",
      "9  x  1  =  9\n",
      "9  x  2  =  18\n",
      "9  x  3  =  27\n",
      "9  x  4  =  36\n",
      "9  x  5  =  45\n",
      "9  x  6  =  54\n",
      "9  x  7  =  63\n",
      "9  x  8  =  72\n",
      "9  x  9  =  81\n"
     ]
    }
   ],
   "source": [
    "dan = input('-사용자입력(단):')\n",
    "values = [1, 2, 3, 4, 5, 6, 7, 8, 9]\n",
    "new_values = []\n",
    "for a in values:\n",
    "    new = a * int(dan)\n",
    "    print(dan, \" x \", a, \" = \", new)\n",
    "    new_values.append(new)"
   ]
  },
  {
   "cell_type": "markdown",
   "id": "1b09354d",
   "metadata": {},
   "source": [
    "__컴프리헨션__"
   ]
  },
  {
   "cell_type": "code",
   "execution_count": 24,
   "id": "6c3f1421",
   "metadata": {},
   "outputs": [
    {
     "name": "stdout",
     "output_type": "stream",
     "text": [
      "[85, 95, 75, 70, 100, 100, 95, 85, 80, 85]\n"
     ]
    }
   ],
   "source": [
    "scores = [80, 90, 70, 65, 95, 100, 90, 80, 75, 80]\n",
    "new_scores = [s + 5 if s <= 95 else 100 for s in scores]\n",
    "print(new_scores)"
   ]
  },
  {
   "cell_type": "markdown",
   "id": "2e5c74c6",
   "metadata": {},
   "source": [
    "__while문__"
   ]
  },
  {
   "cell_type": "code",
   "execution_count": 25,
   "id": "eaf92e8c",
   "metadata": {},
   "outputs": [
    {
     "name": "stdout",
     "output_type": "stream",
     "text": [
      "[85, 95, 75, 70, 100, 100, 95, 85, 80, 85]\n"
     ]
    }
   ],
   "source": [
    "scores = [80, 90, 70, 65, 95, 100, 90, 80, 75, 80]\n",
    "new_score = []\n",
    "index = 0\n",
    "\n",
    "while(index < len(scores)):\n",
    "    if scores[index] < 100:\n",
    "        new = scores[index] + 5\n",
    "    else:\n",
    "        new = scores[index]\n",
    "    new_score.append(new)\n",
    "    index = index + 1\n",
    "\n",
    "print(new_score)"
   ]
  },
  {
   "cell_type": "code",
   "execution_count": 26,
   "id": "b8a2e729",
   "metadata": {},
   "outputs": [
    {
     "name": "stdout",
     "output_type": "stream",
     "text": [
      "현재 사용량: 0\n",
      "현재 사용량: 50\n",
      "현재 사용량: 100\n",
      "현재 사용량: 150\n",
      "현재 사용량: 200\n",
      "현재 사용량: 250\n",
      "현재 사용량: 300\n",
      "[사용 중단]하루 사용 권장량에 도달 또는 초과하였습니다.\n"
     ]
    }
   ],
   "source": [
    "time = 0\n",
    "while(True):\n",
    "    print('현재 사용량: {}'.format(time))\n",
    "    if(time >= 300):\n",
    "        print('[사용 중단]하루 사용 권장량에 도달 또는 초과하였습니다.')\n",
    "        break\n",
    "    else:\n",
    "        time = time + 50"
   ]
  },
  {
   "cell_type": "code",
   "execution_count": 28,
   "id": "72f21b01",
   "metadata": {},
   "outputs": [
    {
     "name": "stdout",
     "output_type": "stream",
     "text": [
      "현재 사용량: 0\n",
      "안전\n",
      "현재 사용량: 50\n",
      "안전\n",
      "현재 사용량: 100\n",
      "안전\n",
      "현재 사용량: 150\n",
      "현재 사용량: 200\n",
      "현재 사용량: 250\n",
      "현재 사용량: 300\n",
      "[사용 중단]하루 사용 권장량에 도달 또는 초과하였습니다.\n"
     ]
    }
   ],
   "source": [
    "time = 0\n",
    "while(True):\n",
    "    print('현재 사용량: {}'.format(time))\n",
    "    if(time < 150):\n",
    "        print('안전')\n",
    "    if(time >= 300):\n",
    "        print('[사용 중단]하루 사용 권장량에 도달 또는 초과하였습니다.')\n",
    "        break\n",
    "    else:\n",
    "        time = time + 50"
   ]
  },
  {
   "cell_type": "code",
   "execution_count": 29,
   "id": "0a73d372",
   "metadata": {},
   "outputs": [
    {
     "name": "stdout",
     "output_type": "stream",
     "text": [
      "현재 사용량: 0\n",
      "현재 사용량: 50\n",
      "현재 사용량: 100\n",
      "현재 사용량: 150\n",
      "현재 사용량: 200\n",
      "현재 사용량: 250\n",
      "현재 사용량: 300\n",
      "[사용 중단]하루 사용 권장량에 도달 또는 초과하였습니다.\n"
     ]
    }
   ],
   "source": [
    "time = 0\n",
    "while(True):\n",
    "    print('현재 사용량: {}'.format(time))\n",
    "    if(time < 150):\n",
    "        pass\n",
    "    if(time >= 300):\n",
    "        print('[사용 중단]하루 사용 권장량에 도달 또는 초과하였습니다.')\n",
    "        break\n",
    "    else:\n",
    "        time = time + 50"
   ]
  },
  {
   "cell_type": "markdown",
   "id": "13f614df",
   "metadata": {},
   "source": [
    "## 입출력"
   ]
  },
  {
   "cell_type": "code",
   "execution_count": 31,
   "id": "6e44ce25",
   "metadata": {},
   "outputs": [
    {
     "name": "stdout",
     "output_type": "stream",
     "text": [
      "이름을 입력하세요:홍길동\n",
      "홍길동님, 안녕하세요\n"
     ]
    }
   ],
   "source": [
    "name = input('이름을 입력하세요:')\n",
    "print(name + '님, 안녕하세요')"
   ]
  },
  {
   "cell_type": "code",
   "execution_count": 34,
   "id": "220d6145",
   "metadata": {},
   "outputs": [
    {
     "name": "stdout",
     "output_type": "stream",
     "text": [
      "ap pl e\n"
     ]
    }
   ],
   "source": [
    "print(\"ap\", \"pl\", \"e\") # 기본 sep은 스페이스 바이다."
   ]
  },
  {
   "cell_type": "code",
   "execution_count": 35,
   "id": "7ad25984",
   "metadata": {},
   "outputs": [
    {
     "name": "stdout",
     "output_type": "stream",
     "text": [
      "ap,pl,e\n"
     ]
    }
   ],
   "source": [
    "print(\"ap\", \"pl\", \"e\", sep = ',')"
   ]
  },
  {
   "cell_type": "code",
   "execution_count": 36,
   "id": "75923c80",
   "metadata": {},
   "outputs": [
    {
     "name": "stdout",
     "output_type": "stream",
     "text": [
      "원숭이 엉덩이는 빨개 \n",
      "빨가면 사과\n"
     ]
    }
   ],
   "source": [
    "print(\"원숭이 엉덩이는 빨개 \")\n",
    "print(\"빨가면 사과\")"
   ]
  },
  {
   "cell_type": "code",
   "execution_count": 38,
   "id": "b91556d6",
   "metadata": {},
   "outputs": [
    {
     "name": "stdout",
     "output_type": "stream",
     "text": [
      "원숭이 엉덩이는 빨개 빨가면 사과\n"
     ]
    }
   ],
   "source": [
    "print(\"원숭이 엉덩이는 빨개 \", end = \"\")\n",
    "print(\"빨가면 사과\")"
   ]
  },
  {
   "cell_type": "code",
   "execution_count": 40,
   "id": "767013f2",
   "metadata": {},
   "outputs": [
    {
     "name": "stdout",
     "output_type": "stream",
     "text": [
      "나는 빵을 먹고싶다\n"
     ]
    }
   ],
   "source": [
    "print(\"나는\" + \" 빵을 \" + \"먹고싶다\")"
   ]
  },
  {
   "cell_type": "code",
   "execution_count": 41,
   "id": "acfcf954",
   "metadata": {},
   "outputs": [
    {
     "name": "stdout",
     "output_type": "stream",
     "text": [
      "산토끼 토끼야\n",
      "어디를 가느냐\n",
      "\n"
     ]
    }
   ],
   "source": [
    "print(\"산토끼 토끼야\\n어디를 가느냐\\n\")"
   ]
  },
  {
   "cell_type": "code",
   "execution_count": 42,
   "id": "e504de70",
   "metadata": {},
   "outputs": [
    {
     "name": "stdout",
     "output_type": "stream",
     "text": [
      "나는 치킨을 먹고 싶다\n"
     ]
    }
   ],
   "source": [
    "food = \"치킨\"\n",
    "text = \"나는 {}을 먹고 싶다\"\n",
    "print(text.format(food))"
   ]
  },
  {
   "cell_type": "code",
   "execution_count": 44,
   "id": "37714c43",
   "metadata": {},
   "outputs": [
    {
     "name": "stdout",
     "output_type": "stream",
     "text": [
      "홍길동님, 반갑습니다.\n",
      "적립금은 1000원 입니다.\n"
     ]
    }
   ],
   "source": [
    "text = \"{name}님, 반갑습니다.\\n적립금은 {money}원 입니다.\"\n",
    "print(text.format(name = \"홍길동\", money = 1000))"
   ]
  },
  {
   "cell_type": "code",
   "execution_count": 45,
   "id": "566a70a7",
   "metadata": {},
   "outputs": [
    {
     "name": "stdout",
     "output_type": "stream",
     "text": [
      "95.13% 확신합니다.\n"
     ]
    }
   ],
   "source": [
    "print(\"{:.2f}% 확신합니다.\".format(95.131415))"
   ]
  },
  {
   "cell_type": "code",
   "execution_count": 47,
   "id": "769d6b2d",
   "metadata": {},
   "outputs": [
    {
     "name": "stdout",
     "output_type": "stream",
     "text": [
      "한 달 휴대폰 요금은 100,000원 입니다.\n"
     ]
    }
   ],
   "source": [
    "print(\"한 달 휴대폰 요금은 {:,}원 입니다.\".format(100000))"
   ]
  },
  {
   "cell_type": "code",
   "execution_count": null,
   "id": "21e9a78b",
   "metadata": {},
   "outputs": [],
   "source": [
    "value = input('구하려는 소수의 개수를 입력:')\n",
    "new_values = []\n",
    "\n",
    "while(len(new_values) < int(value)):\n",
    "    if(i<2):\n",
    "        result = False\n",
    "    for j in range (2,i):\n",
    "        if(i%j==0):\n",
    "                result = False\n",
    "    if result:\n",
    "        new_values.append(result)\n",
    " print(new_values[value])\n"
   ]
  },
  {
   "cell_type": "code",
   "execution_count": 3,
   "id": "28112629",
   "metadata": {},
   "outputs": [
    {
     "data": {
      "text/plain": [
       "'아이스 아메리카노'"
      ]
     },
     "execution_count": 3,
     "metadata": {},
     "output_type": "execute_result"
    }
   ],
   "source": [
    "def coffee(temp):\n",
    "    result = ''\n",
    "    if temp > 0:\n",
    "        result = '아이스 아메리카노'\n",
    "    else:\n",
    "        result = '따뜻한 아메리카노'\n",
    "    return result\n",
    "\n",
    "coffee(30)"
   ]
  },
  {
   "cell_type": "code",
   "execution_count": 5,
   "id": "f5e3ddfe",
   "metadata": {},
   "outputs": [
    {
     "name": "stdout",
     "output_type": "stream",
     "text": [
      "[85, 95, 75, 70, 90, 100, 95, 85, 80, 85]\n"
     ]
    }
   ],
   "source": [
    "def update_scores(scores):\n",
    "    new_scores = []\n",
    "    \n",
    "    for s in scores:\n",
    "        new = s + 5\n",
    "        new_scores.append(new)\n",
    "    return new_scores\n",
    "\n",
    "\n",
    "scores = [80, 90, 70, 65, 85, 95, 90, 80, 75, 80]\n",
    "new = update_scores(scores)\n",
    "print(new)"
   ]
  },
  {
   "cell_type": "code",
   "execution_count": 9,
   "id": "bae007ee",
   "metadata": {},
   "outputs": [
    {
     "data": {
      "text/plain": [
       "('L LOVE SEOUL', 'l love seoul')"
      ]
     },
     "execution_count": 9,
     "metadata": {},
     "output_type": "execute_result"
    }
   ],
   "source": [
    "def alpha_Change(txt):\n",
    "    upperCase = txt.upper()\n",
    "    lowerCase = txt.lower()\n",
    "    return upperCase, lowerCase\n",
    "\n",
    "alpha_Change(\"l love seoul\")"
   ]
  },
  {
   "cell_type": "code",
   "execution_count": 14,
   "id": "4603b7d2",
   "metadata": {},
   "outputs": [
    {
     "data": {
      "text/plain": [
       "8"
      ]
     },
     "execution_count": 14,
     "metadata": {},
     "output_type": "execute_result"
    }
   ],
   "source": [
    "def calculator(a, b, c):\n",
    "    if a == \"+\":\n",
    "        return b + c\n",
    "    elif a == \"-\":\n",
    "        return b - c\n",
    "    elif a == \"*\":\n",
    "        return b * c\n",
    "    elif a == \"/\":\n",
    "        return b / c\n",
    "    else:\n",
    "        print(b + \"의 연산자는 연산이 불가능합니다.\")\n",
    "\n",
    "calculator(\"*\", 2, 4)"
   ]
  },
  {
   "cell_type": "code",
   "execution_count": 21,
   "id": "1668f012",
   "metadata": {},
   "outputs": [
    {
     "data": {
      "text/plain": [
       "15"
      ]
     },
     "execution_count": 21,
     "metadata": {},
     "output_type": "execute_result"
    }
   ],
   "source": [
    "def sum(*args):\n",
    "    result = 0\n",
    "    for num in args:\n",
    "        result = result + num\n",
    "    return result\n",
    "\n",
    "sum(10, 2, 3)"
   ]
  },
  {
   "cell_type": "code",
   "execution_count": 24,
   "id": "2a402d9c",
   "metadata": {},
   "outputs": [
    {
     "name": "stdout",
     "output_type": "stream",
     "text": [
      "권장 체중은 67.5kg 입니다.\n"
     ]
    }
   ],
   "source": [
    "def kg(height, man=True):\n",
    "    weight = 0\n",
    "    if(man):\n",
    "        weight = (height - 100) * 0.9\n",
    "    else:\n",
    "        weight = (height - 100)\n",
    "    print(\"권장 체중은 {}kg 입니다.\".format(weight))\n",
    "    \n",
    "kg(175)"
   ]
  },
  {
   "cell_type": "code",
   "execution_count": 29,
   "id": "d7212d1f",
   "metadata": {},
   "outputs": [
    {
     "name": "stdout",
     "output_type": "stream",
     "text": [
      " 권장 체중은 75kg입니다.\n"
     ]
    }
   ],
   "source": [
    "weight = lambda man, height : (height - 100) * 0.9 if(man) else (height - 100)\n",
    "\n",
    "print( \" 권장 체중은 \" + str(weight(False, 175)) + \"kg입니다.\")"
   ]
  },
  {
   "cell_type": "code",
   "execution_count": 30,
   "id": "2b77ff7d",
   "metadata": {},
   "outputs": [],
   "source": [
    "f = open(\"abc.txt\", \"w\")\n",
    "f.write(\"A B C D E F G\")\n",
    "f.close()"
   ]
  },
  {
   "cell_type": "code",
   "execution_count": 31,
   "id": "232eb9d3",
   "metadata": {},
   "outputs": [
    {
     "name": "stdout",
     "output_type": "stream",
     "text": [
      "A B C D E F G\n"
     ]
    }
   ],
   "source": [
    "f = open(\"abc.txt\", \"r\")\n",
    "print(f.read())\n",
    "f.close()"
   ]
  },
  {
   "cell_type": "code",
   "execution_count": null,
   "id": "f9c90f06",
   "metadata": {},
   "outputs": [],
   "source": []
  }
 ],
 "metadata": {
  "kernelspec": {
   "display_name": "Python 3 (ipykernel)",
   "language": "python",
   "name": "python3"
  },
  "language_info": {
   "codemirror_mode": {
    "name": "ipython",
    "version": 3
   },
   "file_extension": ".py",
   "mimetype": "text/x-python",
   "name": "python",
   "nbconvert_exporter": "python",
   "pygments_lexer": "ipython3",
   "version": "3.9.12"
  }
 },
 "nbformat": 4,
 "nbformat_minor": 5
}
