{
 "cells": [
  {
   "cell_type": "markdown",
   "metadata": {
    "id": "n4HqCsnvCeKg"
   },
   "source": [
    "# networkx의 기본 사용법 살펴보기"
   ]
  },
  {
   "cell_type": "code",
   "execution_count": 1,
   "metadata": {
    "colab": {
     "base_uri": "https://localhost:8080/"
    },
    "executionInfo": {
     "elapsed": 6,
     "status": "ok",
     "timestamp": 1654567956123,
     "user": {
      "displayName": "Jiyoung Kang",
      "userId": "02538451806768451589"
     },
     "user_tz": -540
    },
    "id": "9udNpU4uiI2M",
    "outputId": "429bed94-2262-4e91-eabe-7d4b58286085"
   },
   "outputs": [
    {
     "data": {
      "text/plain": [
       "NodeView((1, 2, 3, 4, 5, 6))"
      ]
     },
     "execution_count": 1,
     "metadata": {},
     "output_type": "execute_result"
    }
   ],
   "source": [
    "import networkx as nx\n",
    "\n",
    "# 네트워크 생성\n",
    "g = nx.Graph() \n",
    "\n",
    "# 노드 생성\n",
    "g.add_node(1)\n",
    "g.add_nodes_from([1, 2, 3, 4, 5, 6]) # 중복으로 추가해도 에러 없음\n",
    "\n",
    "# 노드 정보 확인\n",
    "g.nodes()"
   ]
  },
  {
   "cell_type": "code",
   "execution_count": 2,
   "metadata": {
    "colab": {
     "base_uri": "https://localhost:8080/"
    },
    "executionInfo": {
     "elapsed": 382,
     "status": "ok",
     "timestamp": 1654567956501,
     "user": {
      "displayName": "Jiyoung Kang",
      "userId": "02538451806768451589"
     },
     "user_tz": -540
    },
    "id": "K_u7SBJ0iI2T",
    "outputId": "e9a7e030-bc09-4700-f54a-4c9c4c8b67c6"
   },
   "outputs": [
    {
     "data": {
      "text/plain": [
       "EdgeView([(1, 3), (2, 4), (2, 5), (2, 6), (3, 4), (4, 6), (5, 6)])"
      ]
     },
     "execution_count": 2,
     "metadata": {},
     "output_type": "execute_result"
    }
   ],
   "source": [
    "# 노드와 노드 연결(엣지 생성)\n",
    "g.add_edge(1,3) \n",
    "g.add_edges_from([(1,3), (2,4), (2,5), (2,6), (3,4), (4,6), (5,6)])\n",
    "\n",
    "# 엣지 정보 확인\n",
    "g.edges()"
   ]
  },
  {
   "cell_type": "code",
   "execution_count": 3,
   "metadata": {
    "colab": {
     "base_uri": "https://localhost:8080/"
    },
    "executionInfo": {
     "elapsed": 17,
     "status": "ok",
     "timestamp": 1654567956502,
     "user": {
      "displayName": "Jiyoung Kang",
      "userId": "02538451806768451589"
     },
     "user_tz": -540
    },
    "id": "1HdCcAE5iI2U",
    "outputId": "9924a2b7-f2ac-464d-9e69-b2db36107422"
   },
   "outputs": [
    {
     "name": "stdout",
     "output_type": "stream",
     "text": [
      "6\n"
     ]
    }
   ],
   "source": [
    "#노드 수\n",
    "print(g.number_of_nodes())"
   ]
  },
  {
   "cell_type": "code",
   "execution_count": 4,
   "metadata": {
    "colab": {
     "base_uri": "https://localhost:8080/"
    },
    "executionInfo": {
     "elapsed": 9,
     "status": "ok",
     "timestamp": 1654567956502,
     "user": {
      "displayName": "Jiyoung Kang",
      "userId": "02538451806768451589"
     },
     "user_tz": -540
    },
    "id": "CuiU6Pk_iI2V",
    "outputId": "43e46dd5-6d78-4a5b-c1f9-e17c9392c230"
   },
   "outputs": [
    {
     "name": "stdout",
     "output_type": "stream",
     "text": [
      "7\n"
     ]
    }
   ],
   "source": [
    "#엣지 수\n",
    "print(g.number_of_edges())"
   ]
  },
  {
   "cell_type": "code",
   "execution_count": 5,
   "metadata": {
    "colab": {
     "base_uri": "https://localhost:8080/"
    },
    "executionInfo": {
     "elapsed": 7,
     "status": "ok",
     "timestamp": 1654567956502,
     "user": {
      "displayName": "Jiyoung Kang",
      "userId": "02538451806768451589"
     },
     "user_tz": -540
    },
    "id": "XSd0b4JRiI2W",
    "outputId": "d97de7c2-3463-4ae5-b1d8-c94f94c03011"
   },
   "outputs": [
    {
     "data": {
      "text/plain": [
       "7"
      ]
     },
     "execution_count": 5,
     "metadata": {},
     "output_type": "execute_result"
    }
   ],
   "source": [
    "len(g.edges())"
   ]
  },
  {
   "cell_type": "code",
   "execution_count": 6,
   "metadata": {
    "colab": {
     "base_uri": "https://localhost:8080/"
    },
    "executionInfo": {
     "elapsed": 6,
     "status": "ok",
     "timestamp": 1654567956503,
     "user": {
      "displayName": "Jiyoung Kang",
      "userId": "02538451806768451589"
     },
     "user_tz": -540
    },
    "id": "ZSvT-PcriI2W",
    "outputId": "1ca753db-9f6d-40f9-c84e-37fc4945a084"
   },
   "outputs": [
    {
     "name": "stdout",
     "output_type": "stream",
     "text": [
      "{1: 'male', 2: 'female', 3: 'male', 4: 'female', 5: 'male', 6: 'male'}\n"
     ]
    }
   ],
   "source": [
    "#노드의 속성 설정\n",
    "g.nodes[1]['gender']='male'\n",
    "g.nodes[2]['gender']='female'\n",
    "g.nodes[3]['gender']='male'\n",
    "g.nodes[4]['gender']='female'\n",
    "g.nodes[5]['gender']='male'\n",
    "g.nodes[6]['gender']='male'\n",
    "\n",
    "#노드의 속성 출력\n",
    "print(nx.get_node_attributes(g, 'gender'))"
   ]
  },
  {
   "cell_type": "code",
   "execution_count": 7,
   "metadata": {
    "colab": {
     "base_uri": "https://localhost:8080/"
    },
    "executionInfo": {
     "elapsed": 363,
     "status": "ok",
     "timestamp": 1654567956861,
     "user": {
      "displayName": "Jiyoung Kang",
      "userId": "02538451806768451589"
     },
     "user_tz": -540
    },
    "id": "j16zV5R_iI2Y",
    "outputId": "787b7ef6-0462-4036-9d88-17566352b24c"
   },
   "outputs": [
    {
     "name": "stdout",
     "output_type": "stream",
     "text": [
      "{(1, 3): 3, (2, 4): 1, (2, 5): 4, (2, 6): 3, (3, 4): 2, (4, 6): 3, (5, 6): 4}\n"
     ]
    }
   ],
   "source": [
    "#노드 간의 연결 강도 설정\n",
    "g[1][3]['weight'] = 3\n",
    "g[2][4]['weight'] = 1\n",
    "g[2][5]['weight'] = 4\n",
    "g[2][6]['weight'] = 3\n",
    "g[3][4]['weight'] = 2\n",
    "g[4][6]['weight'] = 3\n",
    "g[5][6]['weight'] = 4\n",
    "\n",
    "print(nx.get_edge_attributes(g, 'weight'))"
   ]
  },
  {
   "cell_type": "code",
   "execution_count": 8,
   "metadata": {
    "colab": {
     "base_uri": "https://localhost:8080/"
    },
    "executionInfo": {
     "elapsed": 29,
     "status": "ok",
     "timestamp": 1654567956862,
     "user": {
      "displayName": "Jiyoung Kang",
      "userId": "02538451806768451589"
     },
     "user_tz": -540
    },
    "id": "BS4abj_UiI2Y",
    "outputId": "a2e3adc6-6dc2-4ede-9158-387ee0cbe58e"
   },
   "outputs": [
    {
     "data": {
      "text/plain": [
       "AtlasView({2: {'weight': 1}, 3: {'weight': 2}, 6: {'weight': 3}})"
      ]
     },
     "execution_count": 8,
     "metadata": {},
     "output_type": "execute_result"
    }
   ],
   "source": [
    "#노드 4와 연결된 노드\n",
    "g[4] "
   ]
  },
  {
   "cell_type": "code",
   "execution_count": 9,
   "metadata": {
    "colab": {
     "base_uri": "https://localhost:8080/"
    },
    "executionInfo": {
     "elapsed": 26,
     "status": "ok",
     "timestamp": 1654567956862,
     "user": {
      "displayName": "Jiyoung Kang",
      "userId": "02538451806768451589"
     },
     "user_tz": -540
    },
    "id": "AHe5aFfHiI2Z",
    "outputId": "20846e4c-b602-4103-b2b5-4cd77da428e9"
   },
   "outputs": [
    {
     "data": {
      "text/plain": [
       "3"
      ]
     },
     "execution_count": 9,
     "metadata": {},
     "output_type": "execute_result"
    }
   ],
   "source": [
    "#노드 4와 연결된 노드 수\n",
    "len(list(g.neighbors(4)))"
   ]
  },
  {
   "cell_type": "code",
   "execution_count": 10,
   "metadata": {
    "colab": {
     "base_uri": "https://localhost:8080/"
    },
    "executionInfo": {
     "elapsed": 23,
     "status": "ok",
     "timestamp": 1654567956863,
     "user": {
      "displayName": "Jiyoung Kang",
      "userId": "02538451806768451589"
     },
     "user_tz": -540
    },
    "id": "0P0uHQhYiI2Z",
    "outputId": "5ee89a99-2ae1-41f7-b5a0-4e7e5f4454de"
   },
   "outputs": [
    {
     "data": {
      "text/plain": [
       "3"
      ]
     },
     "execution_count": 10,
     "metadata": {},
     "output_type": "execute_result"
    }
   ],
   "source": [
    "#노드 4와 연결된 노드 수\n",
    "g.degree(4)"
   ]
  },
  {
   "cell_type": "code",
   "execution_count": 11,
   "metadata": {
    "colab": {
     "base_uri": "https://localhost:8080/"
    },
    "executionInfo": {
     "elapsed": 21,
     "status": "ok",
     "timestamp": 1654567956864,
     "user": {
      "displayName": "Jiyoung Kang",
      "userId": "02538451806768451589"
     },
     "user_tz": -540
    },
    "id": "_9tREfqniI2Z",
    "outputId": "db38ff3a-44fa-4950-b97d-c9ee73ef80d7"
   },
   "outputs": [
    {
     "data": {
      "text/plain": [
       "{'weight': 1}"
      ]
     },
     "execution_count": 11,
     "metadata": {},
     "output_type": "execute_result"
    }
   ],
   "source": [
    "#노드 4와 노드 2간의 연결 강도\n",
    "g[4][2]"
   ]
  },
  {
   "cell_type": "code",
   "execution_count": 12,
   "metadata": {
    "colab": {
     "base_uri": "https://localhost:8080/"
    },
    "executionInfo": {
     "elapsed": 20,
     "status": "ok",
     "timestamp": 1654567956864,
     "user": {
      "displayName": "Jiyoung Kang",
      "userId": "02538451806768451589"
     },
     "user_tz": -540
    },
    "id": "P8_AEv7MiI2a",
    "outputId": "693efc26-e7fc-4e09-a172-e5534558375e"
   },
   "outputs": [
    {
     "data": {
      "text/plain": [
       "DegreeView({1: 1, 2: 3, 3: 2, 4: 3, 5: 2, 6: 3})"
      ]
     },
     "execution_count": 12,
     "metadata": {},
     "output_type": "execute_result"
    }
   ],
   "source": [
    "#그래프의 연결\n",
    "nx.degree(g)"
   ]
  },
  {
   "cell_type": "code",
   "execution_count": 13,
   "metadata": {
    "colab": {
     "base_uri": "https://localhost:8080/",
     "height": 248
    },
    "executionInfo": {
     "elapsed": 19,
     "status": "ok",
     "timestamp": 1654567956865,
     "user": {
      "displayName": "Jiyoung Kang",
      "userId": "02538451806768451589"
     },
     "user_tz": -540
    },
    "id": "pvTI9a3qiI2a",
    "outputId": "dd1c7f1f-9dbf-4fcd-f6bd-ebba45adb260"
   },
   "outputs": [
    {
     "data": {
      "image/png": "[encoded data removed]",
      "text/plain": [
       "<Figure size 432x288 with 1 Axes>"
      ]
     },
     "metadata": {},
     "output_type": "display_data"
    }
   ],
   "source": [
    "#그래프 시각화\n",
    "import matplotlib.pyplot as plot\n",
    "nx.draw_networkx(g) \n",
    "plot.show()"
   ]
  },
  {
   "cell_type": "code",
   "execution_count": 14,
   "metadata": {
    "colab": {
     "base_uri": "https://localhost:8080/"
    },
    "executionInfo": {
     "elapsed": 17,
     "status": "ok",
     "timestamp": 1654567956865,
     "user": {
      "displayName": "Jiyoung Kang",
      "userId": "02538451806768451589"
     },
     "user_tz": -540
    },
    "id": "42loIKaciI2c",
    "outputId": "e7fd35b4-2c68-447f-b6d2-5197761f149f"
   },
   "outputs": [
    {
     "data": {
      "text/plain": [
       "{1: 0.2,\n",
       " 2: 0.6000000000000001,\n",
       " 3: 0.4,\n",
       " 4: 0.6000000000000001,\n",
       " 5: 0.4,\n",
       " 6: 0.6000000000000001}"
      ]
     },
     "execution_count": 14,
     "metadata": {},
     "output_type": "execute_result"
    }
   ],
   "source": [
    "#연결중심성\n",
    "nx.degree_centrality(g)"
   ]
  },
  {
   "cell_type": "code",
   "execution_count": 15,
   "metadata": {
    "colab": {
     "base_uri": "https://localhost:8080/"
    },
    "executionInfo": {
     "elapsed": 15,
     "status": "ok",
     "timestamp": 1654567956866,
     "user": {
      "displayName": "Jiyoung Kang",
      "userId": "02538451806768451589"
     },
     "user_tz": -540
    },
    "id": "S8HJxCJyiI2c",
    "outputId": "603bf09c-82d5-4a0c-96b4-fabe0b82ebfb"
   },
   "outputs": [
    {
     "data": {
      "text/plain": [
       "{1: 0.0,\n",
       " 2: 0.15000000000000002,\n",
       " 3: 0.4,\n",
       " 4: 0.6000000000000001,\n",
       " 5: 0.0,\n",
       " 6: 0.15000000000000002}"
      ]
     },
     "execution_count": 15,
     "metadata": {},
     "output_type": "execute_result"
    }
   ],
   "source": [
    "#매개중심성\n",
    "nx.betweenness_centrality(g)"
   ]
  },
  {
   "cell_type": "code",
   "execution_count": 16,
   "metadata": {
    "colab": {
     "base_uri": "https://localhost:8080/"
    },
    "executionInfo": {
     "elapsed": 291,
     "status": "ok",
     "timestamp": 1654567957145,
     "user": {
      "displayName": "Jiyoung Kang",
      "userId": "02538451806768451589"
     },
     "user_tz": -540
    },
    "id": "N4OJCPbGiI2c",
    "outputId": "3c3bb404-a166-4f06-e7ab-d9f5e6a046bf"
   },
   "outputs": [
    {
     "data": {
      "text/plain": [
       "{1: 0.38461538461538464,\n",
       " 2: 0.625,\n",
       " 3: 0.5555555555555556,\n",
       " 4: 0.7142857142857143,\n",
       " 5: 0.45454545454545453,\n",
       " 6: 0.625}"
      ]
     },
     "execution_count": 16,
     "metadata": {},
     "output_type": "execute_result"
    }
   ],
   "source": [
    "#근접중심성\n",
    "nx.closeness_centrality(g)"
   ]
  },
  {
   "cell_type": "markdown",
   "metadata": {
    "id": "FD8T8ssvCyHy"
   },
   "source": [
    "# SNA 실습"
   ]
  },
  {
   "cell_type": "markdown",
   "metadata": {
    "id": "xVJPnUngC_WC"
   },
   "source": [
    "## step0- 사전 환경 셋팅\n",
    "\n",
    "\n",
    "*   konlpy, WordCloud 설치\n",
    "*   한글 폰트 설치"
   ]
  },
  {
   "cell_type": "code",
   "execution_count": 17,
   "metadata": {
    "colab": {
     "base_uri": "https://localhost:8080/"
    },
    "executionInfo": {
     "elapsed": 10578,
     "status": "ok",
     "timestamp": 1654567967720,
     "user": {
      "displayName": "Jiyoung Kang",
      "userId": "02538451806768451589"
     },
     "user_tz": -540
    },
    "id": "bRoju_aviI2c",
    "outputId": "98daefb9-90a5-4d34-9b9d-e34ec1bc241a"
   },
   "outputs": [
    {
     "name": "stdout",
     "output_type": "stream",
     "text": [
      "Requirement already satisfied: konlpy in c:\\programdata\\anaconda3\\lib\\site-packages (0.6.0)\n",
      "Requirement already satisfied: JPype1>=0.7.0 in c:\\programdata\\anaconda3\\lib\\site-packages (from konlpy) (1.4.0)\n",
      "Requirement already satisfied: lxml>=4.1.0 in c:\\programdata\\anaconda3\\lib\\site-packages (from konlpy) (4.6.1)\n",
      "Requirement already satisfied: numpy>=1.6 in c:\\programdata\\anaconda3\\lib\\site-packages (from konlpy) (1.19.2)\n"
     ]
    }
   ],
   "source": [
    "# konlpy 설치\n",
    "!pip install konlpy"
   ]
  },
  {
   "cell_type": "code",
   "execution_count": 18,
   "metadata": {
    "colab": {
     "base_uri": "https://localhost:8080/"
    },
    "executionInfo": {
     "elapsed": 11822,
     "status": "ok",
     "timestamp": 1654567979538,
     "user": {
      "displayName": "Jiyoung Kang",
      "userId": "02538451806768451589"
     },
     "user_tz": -540
    },
    "id": "g01ZolQFDSC5",
    "outputId": "bb640ee9-31cd-48c1-b6b0-81f2bb6032b1"
   },
   "outputs": [
    {
     "data": {
      "text/plain": [
       "['이', '노트북', '의미', '연결', '망', '분석', '실습']"
      ]
     },
     "execution_count": 18,
     "metadata": {},
     "output_type": "execute_result"
    }
   ],
   "source": [
    "# konlpy가 정상적으로 설치되었는지 확인\n",
    "from konlpy.tag import Okt\n",
    "\n",
    "okt = Okt()\n",
    "okt.nouns('이 노트북은 의미 연결망 분석 실습을 합니다.')"
   ]
  },
  {
   "cell_type": "code",
   "execution_count": 19,
   "metadata": {
    "colab": {
     "base_uri": "https://localhost:8080/"
    },
    "executionInfo": {
     "elapsed": 3611,
     "status": "ok",
     "timestamp": 1654567983123,
     "user": {
      "displayName": "Jiyoung Kang",
      "userId": "02538451806768451589"
     },
     "user_tz": -540
    },
    "id": "F9p2nIpcD3Db",
    "outputId": "f699949e-2b62-4dee-ec64-6500a995e137"
   },
   "outputs": [
    {
     "name": "stdout",
     "output_type": "stream",
     "text": [
      "Requirement already satisfied: WordCloud in c:\\programdata\\anaconda3\\lib\\site-packages (1.8.2.2)\n",
      "Requirement already satisfied: matplotlib in c:\\programdata\\anaconda3\\lib\\site-packages (from WordCloud) (3.3.2)\n",
      "Requirement already satisfied: numpy>=1.6.1 in c:\\programdata\\anaconda3\\lib\\site-packages (from WordCloud) (1.19.2)\n",
      "Requirement already satisfied: pillow in c:\\programdata\\anaconda3\\lib\\site-packages (from WordCloud) (8.0.1)\n",
      "Requirement already satisfied: certifi>=2020.06.20 in c:\\programdata\\anaconda3\\lib\\site-packages (from matplotlib->WordCloud) (2021.5.30)\n",
      "Requirement already satisfied: cycler>=0.10 in c:\\programdata\\anaconda3\\lib\\site-packages (from matplotlib->WordCloud) (0.10.0)\n",
      "Requirement already satisfied: kiwisolver>=1.0.1 in c:\\programdata\\anaconda3\\lib\\site-packages (from matplotlib->WordCloud) (1.3.0)\n",
      "Requirement already satisfied: python-dateutil>=2.1 in c:\\programdata\\anaconda3\\lib\\site-packages (from matplotlib->WordCloud) (2.8.1)\n",
      "Requirement already satisfied: pyparsing!=2.0.4,!=2.1.2,!=2.1.6,>=2.0.3 in c:\\programdata\\anaconda3\\lib\\site-packages (from matplotlib->WordCloud) (2.4.7)\n",
      "Requirement already satisfied: six in c:\\programdata\\anaconda3\\lib\\site-packages (from cycler>=0.10->matplotlib->WordCloud) (1.15.0)\n"
     ]
    }
   ],
   "source": [
    "# 워드 클라우스 설치\n",
    "!pip install WordCloud"
   ]
  },
  {
   "cell_type": "code",
   "execution_count": 20,
   "metadata": {
    "colab": {
     "base_uri": "https://localhost:8080/"
    },
    "executionInfo": {
     "elapsed": 11046,
     "status": "ok",
     "timestamp": 1654567994166,
     "user": {
      "displayName": "Jiyoung Kang",
      "userId": "02538451806768451589"
     },
     "user_tz": -540
    },
    "id": "rJzQtNyrDqbP",
    "outputId": "c1c7b5bc-875c-4698-e2f4-7c0762b36b48"
   },
   "outputs": [
    {
     "name": "stderr",
     "output_type": "stream",
     "text": [
      "'sudo'은(는) 내부 또는 외부 명령, 실행할 수 있는 프로그램, 또는\n",
      "배치 파일이 아닙니다.\n",
      "'sudo'은(는) 내부 또는 외부 명령, 실행할 수 있는 프로그램, 또는\n",
      "배치 파일이 아닙니다.\n",
      "'rm'은(는) 내부 또는 외부 명령, 실행할 수 있는 프로그램, 또는\n",
      "배치 파일이 아닙니다.\n"
     ]
    }
   ],
   "source": [
    "# 한글폰트 설치\n",
    "# 폰트 설치 완료 후, [런타임 > 런타임 다시 시작] 진행\n",
    "!sudo apt-get install -y fonts-nanum\n",
    "!sudo fc-cache -fv\n",
    "!rm ~/.cache/matplotlib -rf"
   ]
  },
  {
   "cell_type": "code",
   "execution_count": 21,
   "metadata": {
    "colab": {
     "base_uri": "https://localhost:8080/"
    },
    "executionInfo": {
     "elapsed": 831,
     "status": "ok",
     "timestamp": 1654567994991,
     "user": {
      "displayName": "Jiyoung Kang",
      "userId": "02538451806768451589"
     },
     "user_tz": -540
    },
    "id": "x_WsLJBTEE-q",
    "outputId": "a60ff53a-4312-4794-8f47-fe7199a7b5d3"
   },
   "outputs": [
    {
     "data": {
      "text/plain": [
       "['C:\\\\Windows\\\\Fonts\\\\NanumBarunGothic.ttf',\n",
       " 'C:\\\\WINDOWS\\\\Fonts\\\\NanumSquare_0.ttf',\n",
       " 'C:\\\\Users\\\\0biwa\\\\AppData\\\\Local\\\\Microsoft\\\\Windows\\\\Fonts\\\\NanumSquare.ttf',\n",
       " 'C:\\\\Users\\\\0biwa\\\\AppData\\\\Local\\\\Microsoft\\\\Windows\\\\Fonts\\\\NanumSquareEB.ttf',\n",
       " 'C:\\\\Users\\\\0biwa\\\\AppData\\\\Local\\\\Microsoft\\\\Windows\\\\Fonts\\\\NanumBrush.ttf',\n",
       " 'C:\\\\WINDOWS\\\\Fonts\\\\NanumBarunGothic.ttf',\n",
       " 'C:\\\\Users\\\\0biwa\\\\AppData\\\\Local\\\\Microsoft\\\\Windows\\\\Fonts\\\\NanumSquare_0.ttf',\n",
       " 'C:\\\\Users\\\\0biwa\\\\AppData\\\\Local\\\\Microsoft\\\\Windows\\\\Fonts\\\\NanumPen.ttf',\n",
       " 'C:\\\\Users\\\\0biwa\\\\AppData\\\\Local\\\\Microsoft\\\\Windows\\\\Fonts\\\\NanumSquare_acR.ttf',\n",
       " 'C:\\\\Windows\\\\Fonts\\\\NanumSquare_0.ttf',\n",
       " 'C:\\\\Users\\\\0biwa\\\\AppData\\\\Local\\\\Microsoft\\\\Windows\\\\Fonts\\\\NanumSquare_acL.ttf',\n",
       " 'C:\\\\Windows\\\\Fonts\\\\NanumSquare.ttf',\n",
       " 'C:\\\\Windows\\\\Fonts\\\\NanumSquare_acL.ttf',\n",
       " 'C:\\\\Windows\\\\Fonts\\\\NanumSquare_acR.ttf',\n",
       " 'C:\\\\Users\\\\0biwa\\\\AppData\\\\Local\\\\Microsoft\\\\Windows\\\\Fonts\\\\NanumSquareB.ttf',\n",
       " 'C:\\\\Users\\\\0biwa\\\\AppData\\\\Local\\\\Microsoft\\\\Windows\\\\Fonts\\\\NanumSquareL.ttf',\n",
       " 'C:\\\\WINDOWS\\\\Fonts\\\\NanumGothic.ttf',\n",
       " 'C:\\\\WINDOWS\\\\Fonts\\\\NanumSquare_acL.ttf',\n",
       " 'C:\\\\WINDOWS\\\\Fonts\\\\NanumSquare_acR.ttf',\n",
       " 'C:\\\\WINDOWS\\\\Fonts\\\\NanumSquare.ttf',\n",
       " 'C:\\\\Users\\\\0biwa\\\\AppData\\\\Local\\\\Microsoft\\\\Windows\\\\Fonts\\\\NanumSquareR.ttf']"
      ]
     },
     "execution_count": 21,
     "metadata": {},
     "output_type": "execute_result"
    }
   ],
   "source": [
    "# 'Nanum'이라는 단어가 들어간 폰트 출력\n",
    "import matplotlib.font_manager as fm\n",
    "fonts = fm.findSystemFonts()\n",
    "[f for f in fonts if 'Nanum' in f]"
   ]
  },
  {
   "cell_type": "code",
   "execution_count": 22,
   "metadata": {
    "executionInfo": {
     "elapsed": 3,
     "status": "ok",
     "timestamp": 1654567994992,
     "user": {
      "displayName": "Jiyoung Kang",
      "userId": "02538451806768451589"
     },
     "user_tz": -540
    },
    "id": "QiShFB9AEnqz"
   },
   "outputs": [],
   "source": [
    "text = '''(바티칸=뉴스1) 조소영 기자 = 프란치스코 교황이 18일(현지시간) 문재인 대통령과의 만남에서 사실상 방북(訪北)의사를 밝힘에 따라 문 대통령의 '한반도 평화프로세스' 추진에 상당한 힘이 실리게 됐다.\n",
    "\n",
    "문 대통령은 교황의 지지를 기반으로 제2차 북미정상회담의 신속한 개최를 촉구하고 국제사회에 북한의 비핵화를 촉진하기 위해선 대북제재 완화가 일정 정도 필요하다는 주장을 이어갈 것으로 보인다.\n",
    "\n",
    "문 대통령은 이날 오후 12시5분 바티칸 교황궁 내 교황서재에서 40분 동안 프란치스코 교황을 단독 예방했다. 교황과의 만남은 원활한 의사소통을 위한 통역 외에 배석자 없이 '비밀'로 이뤄진다는 원칙에 따라 이날 예방도 통역을 위해 자리한 한현택 신부 외 누구도 배석하지 않은 것으로 전해졌다.\n",
    "\n",
    "다만 사전에 청와대와 바티칸 사이 협의를 거쳐 이례적으로 면담의 주요내용이 공개됐다. 이에 따라 윤영찬 청와대 국민소통수석이 밝힌 데 따르면 교황은 문 대통령이 김정은 북한 국무위원장의 방북 초청 의사를 전하면서 \"김 위원장이 초청장을 보내도 좋겠느냐\"고 하자 \"공식 초청장을 보내주면 좋겠다\"고 했다.\n",
    "\n",
    "교황은 이어 \"초청장이 오면 무조건 응답을 줄 것이고 나는 갈 수 있다\"고 했다. '북한을 갈 수 있다'고 완벽히 언급하지는 않았지만 문맥상 이는 북한 땅을 밟겠다는 뜻으로 해석됐다.\n",
    "\n",
    "교황은 그러면서 \"한반도에서 평화프로세스를 추진 중인 한국정부의 노력을 강력히 지지한다\"며 \"멈추지 말고 앞으로 나아가라. 두려워하지 말라\"고 하면서 이 해석에 힘을 보탰다.\n",
    "\n",
    "윤 수석은 '교황이 방북시점에 대한 언급은 없었느냐'는 데에 \"시점에 대해선 말이 없었다\"고 전했다. 이에 따라 한편에선 교황의 답이 원론적 의미가 아니냐는 풀이도 나오지만 교황이 방북 자체에 문을 열어뒀다는 데에 의의가 있다는 평이다.\n",
    "\n",
    "앞서 문 대통령이 추진하는 유럽에서의 한반도 평화프로세스 설득 작업은 주춤거리는 모양새가 감지됐었다.\n",
    "\n",
    "문 대통령은 지난 15일 에마뉘엘 마크롱 프랑스 대통령과 만나 프랑스가 유엔 안보리 상임이사국으로서 대북제재 완화에 힘을 실어달라고 요청했지만 마크롱 대통령은 CVID(완전하고 불가역적이고 검증가능한 비핵화)를 강조하며 완곡한 거절의사를 밝힌 바 있다.\n",
    "\n",
    "하지만 17일 문 대통령이 한반도 평화를 위한 특별미사에 참석하고 특별연설을 하면서 '한반도 평화프로세스'가 한껏 탄력을 받은 데 이어 18일 바티칸에서 알현한 교황이 적극적으로 나서면서 국제사회가 영향을 받을 수밖에 없을 것으로 보인다.\n",
    "\n",
    "전세계 인구의 17.7%인 12억8500만명의 신자를 보유한 가톨릭의 수장이 직접 나서기 때문에 파급력이 상당할 것이기 때문이다. 아울러 교황의 방북이 성사되면 역사상 처음으로 북한 땅을 밟는 교황이라는 상징성도 갖게 된다.\n",
    "\n",
    "문 대통령은 이러한 기세로 19일 벨기에 브뤼셀에서 열리는 제12차 아셈(ASEM·아시아-유럽정상회의)에서 영국과 독일, 태국 총리와 정상회담을 갖는다. 특히 영국, 독일 총리와 만나 대북제재 완화 등 한반도 평화프로세스 설득작업에 가속페달을 밟을 전망이다.\n",
    "\n",
    "영국은 미국, 프랑스, 러시아, 중국과 함께 유엔 안보리 상임이사국에 속한다. 이미 5차례 비상임이사국을 지낸 독일은 내년 안보리 비상임이사국(2020년까지)으로 선출돼 있다.\n",
    "\n",
    "silverpaper@news1.kr\n",
    "\n",
    "▶ 진짜 블록체인을 만나는 곳 '크립토허브' 오픈!\n",
    "\n",
    "▶ 글로벌바이오포럼 2018 참가하기\n",
    "\n",
    "▶ 네이버 메인에서 [뉴스1]을 구독해주세요\n",
    "\n",
    "[© 뉴스1코리아(news1.kr), 무단 전재 및 재배포 금지]'''"
   ]
  },
  {
   "cell_type": "markdown",
   "metadata": {
    "id": "B7eReHJXbSvU"
   },
   "source": [
    "## step1- 텍스트 전처리"
   ]
  },
  {
   "cell_type": "code",
   "execution_count": 23,
   "metadata": {
    "executionInfo": {
     "elapsed": 765,
     "status": "ok",
     "timestamp": 1654567995755,
     "user": {
      "displayName": "Jiyoung Kang",
      "userId": "02538451806768451589"
     },
     "user_tz": -540
    },
    "id": "ENyVdCK3F6k8"
   },
   "outputs": [],
   "source": [
    "from konlpy.tag import Okt\n",
    "import re\n",
    "from collections import Counter\n",
    "import matplotlib.font_manager as fm\n",
    "import networkx as nx\n",
    "import itertools\n",
    "import matplotlib.pyplot as plt\n",
    "\n",
    "# 한글만 추출\n",
    "sentences = re.split(r'[\\.\\?\\!]+', text) # '.','?,'!'가 나오면 문장의 끝이라고 가정하고 해당 문자가 나오면 쪼개줌.\n",
    "filter = re.compile('[^ ㄱ-ㅣ가-힣]+')\n",
    "\n",
    "# 문장 단위로 추출\n",
    "filtered_sentences = []\n",
    "for sentence in sentences:\n",
    "    filtered_sentences.append(filter.sub('', sentence))\n",
    "\n",
    "# 불용어 리스트\n",
    "stopwords = ['진짜', '블록체인', '곳', '크립토허브', '오픈', '글로벌', '바이오', '포럼', '참가', '을', '네이버', '메인', '뉴스', '구독', '뉴스', '코리아',\n",
    "                 '무단', '전재', '재배포', '금지', '조소영', '기자', '것', '데', '일']\n",
    "\n",
    "# okt를 활용하여 명사만 추출하고, 불용어는 제거하여 리스트 생성\n",
    "okt = Okt()\n",
    "\n",
    "# 불용어는 제외한 명사 리스트\n",
    "cleaned_noun_list = []\n",
    "\n",
    "# 불용어 제거한 명사로 이루어진 문장 리스트\n",
    "cleaned_sentence_list = []\n",
    "\n",
    "for sentence in filtered_sentences:\n",
    "    nouns = okt.nouns(sentence)\n",
    "    clean_contents = [noun for noun in nouns if not noun in stopwords]\n",
    "    cleaned_noun_list.extend(clean_contents)\n",
    "    cleaned_sentence_list.append(clean_contents)"
   ]
  },
  {
   "cell_type": "markdown",
   "metadata": {
    "id": "A1fUHpgWbYhY"
   },
   "source": [
    "## step2 - Word Cloud"
   ]
  },
  {
   "cell_type": "code",
   "execution_count": 24,
   "metadata": {
    "colab": {
     "base_uri": "https://localhost:8080/",
     "height": 0
    },
    "executionInfo": {
     "elapsed": 1357,
     "status": "ok",
     "timestamp": 1654567997111,
     "user": {
      "displayName": "Jiyoung Kang",
      "userId": "02538451806768451589"
     },
     "user_tz": -540
    },
    "id": "otmbA8zhHAc6",
    "outputId": "b6cd8042-3bfc-479b-c685-b255150c6368"
   },
   "outputs": [
    {
     "data": {
      "image/png": "[encoded data removed]",
      "text/plain": [
       "<Figure size 432x288 with 1 Axes>"
      ]
     },
     "metadata": {
      "needs_background": "light"
     },
     "output_type": "display_data"
    }
   ],
   "source": [
    "from wordcloud import WordCloud\n",
    "# 단어 빈도수가 두 번 이상 나타난 단어에 대해서 wordcloud 생성\n",
    "c = Counter(cleaned_noun_list)\n",
    "len = 0\n",
    "for key, val in c.items():\n",
    "    if(val > 1) :\n",
    "        len += 1\n",
    "top_nouns = dict(c.most_common(len))\n",
    "# print(top_nouns)\n",
    "\n",
    "FONT_PATH = '/usr/share/fonts/truetype/nanum/NanumGothic.ttf'\n",
    "wordcloud = WordCloud(font_path=FONT_PATH, max_font_size = 60).generate_from_frequencies(top_nouns)\n",
    "plt.figure()\n",
    "plt.imshow(wordcloud, interpolation='bilinear')\n",
    "plt.axis(\"off\")\n",
    "plt.show()"
   ]
  },
  {
   "cell_type": "markdown",
   "metadata": {
    "id": "HLpU4ZP7bfyg"
   },
   "source": [
    "## step3 - SNA"
   ]
  },
  {
   "cell_type": "code",
   "execution_count": 25,
   "metadata": {
    "colab": {
     "base_uri": "https://localhost:8080/",
     "height": 1000
    },
    "executionInfo": {
     "elapsed": 559,
     "status": "ok",
     "timestamp": 1654567997659,
     "user": {
      "displayName": "Jiyoung Kang",
      "userId": "02538451806768451589"
     },
     "user_tz": -540
    },
    "id": "0cQrEhzvHYis",
    "outputId": "3c8636f4-9b18-4d52-cf06-98d5ccf6bcfa"
   },
   "outputs": [
    {
     "data": {
      "image/png": "[encoded data removed]",
      "text/plain": [
       "<Figure size 432x288 with 1 Axes>"
      ]
     },
     "metadata": {},
     "output_type": "display_data"
    }
   ],
   "source": [
    "# SNA\n",
    "c = Counter(cleaned_noun_list)\n",
    "NUM_WORDS = 10\n",
    "top_nouns = dict(c.most_common(NUM_WORDS))\n",
    "#print(top_nouns)\n",
    "unique_nouns = list(top_nouns.keys())\n",
    "\n",
    "g = nx.Graph()\n",
    "g.add_nodes_from(unique_nouns)\n",
    "\n",
    "for pair in list(itertools.combinations(list(unique_nouns), 2)):\n",
    "    if pair[0] == pair[1]:\n",
    "        continue\n",
    "    for sent in cleaned_sentence_list:\n",
    "        if pair[0] in sent and pair[1] in sent:\n",
    "            if pair in list(g.edges()) or (pair[1],pair[0]) in list(g.edges()):\n",
    "                g[pair[0]][pair[1]]['weight'] += 1 # tie가 있으면 weight만 추가\n",
    "            else:\n",
    "                g.add_edge(pair[0], pair[1], weight=1 )\n",
    "\n",
    "nx.draw_networkx(g, font_family='NanumGothic')\n",
    "\n",
    "plt.show()"
   ]
  },
  {
   "cell_type": "code",
   "execution_count": 26,
   "metadata": {
    "colab": {
     "base_uri": "https://localhost:8080/"
    },
    "executionInfo": {
     "elapsed": 16,
     "status": "ok",
     "timestamp": 1654567997660,
     "user": {
      "displayName": "Jiyoung Kang",
      "userId": "02538451806768451589"
     },
     "user_tz": -540
    },
    "id": "JBCzJrSdIBA4",
    "outputId": "d375ca80-2ebb-4131-c514-a4814ba80a42"
   },
   "outputs": [
    {
     "name": "stdout",
     "output_type": "stream",
     "text": [
      "연결중심도\n",
      "[('교황', 1.0), ('대통령', 1.0), ('문', 1.0), ('방북', 1.0), ('의사', 1.0), ('한반도', 0.8888888888888888), ('평화', 0.8888888888888888), ('프로세스', 0.8888888888888888), ('바티칸', 0.8888888888888888), ('북한', 0.5555555555555556)]\n",
      "\n",
      "매개중심도\n",
      "[('교황', 0.022222222222222223), ('대통령', 0.022222222222222223), ('문', 0.022222222222222223), ('방북', 0.022222222222222223), ('의사', 0.022222222222222223), ('한반도', 0.0), ('평화', 0.0), ('프로세스', 0.0), ('북한', 0.0), ('바티칸', 0.0)]\n",
      "\n",
      "근접중심도\n",
      "[('교황', 1.0), ('대통령', 1.0), ('문', 1.0), ('방북', 1.0), ('의사', 1.0), ('한반도', 0.9), ('평화', 0.9), ('프로세스', 0.9), ('바티칸', 0.9), ('북한', 0.6923076923076923)]\n",
      "\n",
      "[교황]: 9개 단어와 연결:['대통령', '문', '한반도', '평화', '방북', '프로세스', '북한', '바티칸', '의사']\n",
      "\n",
      "[대통령]: 9개 단어와 연결:['교황', '문', '한반도', '평화', '방북', '프로세스', '북한', '바티칸', '의사']\n",
      "\n",
      "[문]: 9개 단어와 연결:['교황', '대통령', '한반도', '평화', '방북', '프로세스', '북한', '바티칸', '의사']\n",
      "\n",
      "[한반도]: 8개 단어와 연결:['교황', '대통령', '문', '평화', '방북', '프로세스', '바티칸', '의사']\n",
      "\n",
      "[평화]: 8개 단어와 연결:['교황', '대통령', '문', '한반도', '방북', '프로세스', '바티칸', '의사']\n",
      "\n",
      "[방북]: 9개 단어와 연결:['교황', '대통령', '문', '한반도', '평화', '프로세스', '북한', '바티칸', '의사']\n",
      "\n",
      "[프로세스]: 8개 단어와 연결:['교황', '대통령', '문', '한반도', '평화', '방북', '바티칸', '의사']\n",
      "\n",
      "[북한]: 5개 단어와 연결:['교황', '대통령', '문', '방북', '의사']\n",
      "\n",
      "[바티칸]: 8개 단어와 연결:['교황', '대통령', '문', '한반도', '평화', '방북', '프로세스', '의사']\n",
      "\n",
      "[의사]: 9개 단어와 연결:['교황', '대통령', '문', '한반도', '평화', '방북', '프로세스', '북한', '바티칸']\n"
     ]
    }
   ],
   "source": [
    "print('연결중심도')\n",
    "print(sorted(nx.degree_centrality(g).items(), key=(lambda x :x[1]), reverse=True))\n",
    "print('\\n매개중심도')\n",
    "print(sorted(nx.betweenness_centrality(g).items(), key=(lambda x :x[1]), reverse=True))\n",
    "print('\\n근접중심도')\n",
    "print(sorted(nx.closeness_centrality(g).items(), key=(lambda x :x[1]), reverse=True))\n",
    "\n",
    "for item in unique_nouns:\n",
    "    connected_word_list = list(g[item].keys())\n",
    "    num = g[item].__len__()\n",
    "    print('\\n[{}]: {}개 단어와 연결:'.format(item, num), end ='')    \n",
    "    print(connected_word_list)"
   ]
  }
 ],
 "metadata": {
  "colab": {
   "collapsed_sections": [],
   "name": "text_mining_sna.ipynb",
   "provenance": [],
   "toc_visible": true
  },
  "kernelspec": {
   "display_name": "Python 3",
   "language": "python",
   "name": "python3"
  },
  "language_info": {
   "codemirror_mode": {
    "name": "ipython",
    "version": 3
   },
   "file_extension": ".py",
   "mimetype": "text/x-python",
   "name": "python",
   "nbconvert_exporter": "python",
   "pygments_lexer": "ipython3",
   "version": "3.8.5"
  },
  "toc": {
   "base_numbering": 1,
   "nav_menu": {},
   "number_sections": false,
   "sideBar": true,
   "skip_h1_title": false,
   "title_cell": "Table of Contents",
   "title_sidebar": "Contents",
   "toc_cell": false,
   "toc_position": {},
   "toc_section_display": true,
   "toc_window_display": false
  }
 },
 "nbformat": 4,
 "nbformat_minor": 1
}
