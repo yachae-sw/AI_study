{
 "cells": [
  {
   "cell_type": "markdown",
   "metadata": {
    "id": "nIxN8uCgj297"
   },
   "source": [
    "# 6.2 인공신경망 구성하기"
   ]
  },
  {
   "cell_type": "markdown",
   "metadata": {
    "id": "cwjzpdJ9j29_"
   },
   "source": [
    "## 6.2.2 인공신경망 구성하기 - 퀴즈"
   ]
  },
  {
   "cell_type": "markdown",
   "metadata": {
    "id": "F0dVhwlBj2-A"
   },
   "source": [
    "### 문제 1"
   ]
  },
  {
   "cell_type": "code",
   "execution_count": 1,
   "metadata": {
    "colab": {
     "base_uri": "https://localhost:8080/",
     "height": 867
    },
    "executionInfo": {
     "elapsed": 954,
     "status": "ok",
     "timestamp": 1652162541206,
     "user": {
      "displayName": "Jiyoung Kang",
      "userId": "02538451806768451589"
     },
     "user_tz": -540
    },
    "id": "9MTz-DpYj2-A",
    "outputId": "b2212485-a5ef-47f7-9484-86f0fbbd4bf1"
   },
   "outputs": [
    {
     "name": "stderr",
     "output_type": "stream",
     "text": [
      "C:\\Users\\cso13\\anaconda3\\lib\\site-packages\\sklearn\\utils\\deprecation.py:87: FutureWarning: Function load_boston is deprecated; `load_boston` is deprecated in 1.0 and will be removed in 1.2.\n",
      "\n",
      "    The Boston housing prices dataset has an ethical problem. You can refer to\n",
      "    the documentation of this function for further details.\n",
      "\n",
      "    The scikit-learn maintainers therefore strongly discourage the use of this\n",
      "    dataset unless the purpose of the code is to study and educate about\n",
      "    ethical issues in data science and machine learning.\n",
      "\n",
      "    In this special case, you can fetch the dataset from the original\n",
      "    source::\n",
      "\n",
      "        import pandas as pd\n",
      "        import numpy as np\n",
      "\n",
      "\n",
      "        data_url = \"http://lib.stat.cmu.edu/datasets/boston\"\n",
      "        raw_df = pd.read_csv(data_url, sep=\"\\s+\", skiprows=22, header=None)\n",
      "        data = np.hstack([raw_df.values[::2, :], raw_df.values[1::2, :2]])\n",
      "        target = raw_df.values[1::2, 2]\n",
      "\n",
      "    Alternative datasets include the California housing dataset (i.e.\n",
      "    :func:`~sklearn.datasets.fetch_california_housing`) and the Ames housing\n",
      "    dataset. You can load the datasets as follows::\n",
      "\n",
      "        from sklearn.datasets import fetch_california_housing\n",
      "        housing = fetch_california_housing()\n",
      "\n",
      "    for the California housing dataset and::\n",
      "\n",
      "        from sklearn.datasets import fetch_openml\n",
      "        housing = fetch_openml(name=\"house_prices\", as_frame=True)\n",
      "\n",
      "    for the Ames housing dataset.\n",
      "    \n",
      "  warnings.warn(msg, category=FutureWarning)\n"
     ]
    },
    {
     "data": {
      "text/html": [
       "<div>\n",
       "<style scoped>\n",
       "    .dataframe tbody tr th:only-of-type {\n",
       "        vertical-align: middle;\n",
       "    }\n",
       "\n",
       "    .dataframe tbody tr th {\n",
       "        vertical-align: top;\n",
       "    }\n",
       "\n",
       "    .dataframe thead th {\n",
       "        text-align: right;\n",
       "    }\n",
       "</style>\n",
       "<table border=\"1\" class=\"dataframe\">\n",
       "  <thead>\n",
       "    <tr style=\"text-align: right;\">\n",
       "      <th></th>\n",
       "      <th>CRIM</th>\n",
       "      <th>ZN</th>\n",
       "      <th>INDUS</th>\n",
       "      <th>CHAS</th>\n",
       "      <th>NOX</th>\n",
       "      <th>RM</th>\n",
       "      <th>AGE</th>\n",
       "      <th>DIS</th>\n",
       "      <th>RAD</th>\n",
       "      <th>TAX</th>\n",
       "      <th>PTRATIO</th>\n",
       "      <th>B</th>\n",
       "      <th>LSTAT</th>\n",
       "      <th>PRICE</th>\n",
       "    </tr>\n",
       "  </thead>\n",
       "  <tbody>\n",
       "    <tr>\n",
       "      <th>0</th>\n",
       "      <td>0.00632</td>\n",
       "      <td>18.0</td>\n",
       "      <td>2.31</td>\n",
       "      <td>0.0</td>\n",
       "      <td>0.538</td>\n",
       "      <td>6.575</td>\n",
       "      <td>65.2</td>\n",
       "      <td>4.0900</td>\n",
       "      <td>1.0</td>\n",
       "      <td>296.0</td>\n",
       "      <td>15.3</td>\n",
       "      <td>396.90</td>\n",
       "      <td>4.98</td>\n",
       "      <td>24.0</td>\n",
       "    </tr>\n",
       "    <tr>\n",
       "      <th>1</th>\n",
       "      <td>0.02731</td>\n",
       "      <td>0.0</td>\n",
       "      <td>7.07</td>\n",
       "      <td>0.0</td>\n",
       "      <td>0.469</td>\n",
       "      <td>6.421</td>\n",
       "      <td>78.9</td>\n",
       "      <td>4.9671</td>\n",
       "      <td>2.0</td>\n",
       "      <td>242.0</td>\n",
       "      <td>17.8</td>\n",
       "      <td>396.90</td>\n",
       "      <td>9.14</td>\n",
       "      <td>21.6</td>\n",
       "    </tr>\n",
       "    <tr>\n",
       "      <th>2</th>\n",
       "      <td>0.02729</td>\n",
       "      <td>0.0</td>\n",
       "      <td>7.07</td>\n",
       "      <td>0.0</td>\n",
       "      <td>0.469</td>\n",
       "      <td>7.185</td>\n",
       "      <td>61.1</td>\n",
       "      <td>4.9671</td>\n",
       "      <td>2.0</td>\n",
       "      <td>242.0</td>\n",
       "      <td>17.8</td>\n",
       "      <td>392.83</td>\n",
       "      <td>4.03</td>\n",
       "      <td>34.7</td>\n",
       "    </tr>\n",
       "    <tr>\n",
       "      <th>3</th>\n",
       "      <td>0.03237</td>\n",
       "      <td>0.0</td>\n",
       "      <td>2.18</td>\n",
       "      <td>0.0</td>\n",
       "      <td>0.458</td>\n",
       "      <td>6.998</td>\n",
       "      <td>45.8</td>\n",
       "      <td>6.0622</td>\n",
       "      <td>3.0</td>\n",
       "      <td>222.0</td>\n",
       "      <td>18.7</td>\n",
       "      <td>394.63</td>\n",
       "      <td>2.94</td>\n",
       "      <td>33.4</td>\n",
       "    </tr>\n",
       "    <tr>\n",
       "      <th>4</th>\n",
       "      <td>0.06905</td>\n",
       "      <td>0.0</td>\n",
       "      <td>2.18</td>\n",
       "      <td>0.0</td>\n",
       "      <td>0.458</td>\n",
       "      <td>7.147</td>\n",
       "      <td>54.2</td>\n",
       "      <td>6.0622</td>\n",
       "      <td>3.0</td>\n",
       "      <td>222.0</td>\n",
       "      <td>18.7</td>\n",
       "      <td>396.90</td>\n",
       "      <td>5.33</td>\n",
       "      <td>36.2</td>\n",
       "    </tr>\n",
       "  </tbody>\n",
       "</table>\n",
       "</div>"
      ],
      "text/plain": [
       "      CRIM    ZN  INDUS  CHAS    NOX     RM   AGE     DIS  RAD    TAX  \\\n",
       "0  0.00632  18.0   2.31   0.0  0.538  6.575  65.2  4.0900  1.0  296.0   \n",
       "1  0.02731   0.0   7.07   0.0  0.469  6.421  78.9  4.9671  2.0  242.0   \n",
       "2  0.02729   0.0   7.07   0.0  0.469  7.185  61.1  4.9671  2.0  242.0   \n",
       "3  0.03237   0.0   2.18   0.0  0.458  6.998  45.8  6.0622  3.0  222.0   \n",
       "4  0.06905   0.0   2.18   0.0  0.458  7.147  54.2  6.0622  3.0  222.0   \n",
       "\n",
       "   PTRATIO       B  LSTAT  PRICE  \n",
       "0     15.3  396.90   4.98   24.0  \n",
       "1     17.8  396.90   9.14   21.6  \n",
       "2     17.8  392.83   4.03   34.7  \n",
       "3     18.7  394.63   2.94   33.4  \n",
       "4     18.7  396.90   5.33   36.2  "
      ]
     },
     "execution_count": 1,
     "metadata": {},
     "output_type": "execute_result"
    }
   ],
   "source": [
    "import numpy as np\n",
    "import pandas as pd\n",
    "import matplotlib.pyplot as plt\n",
    "import seaborn as sns\n",
    "\n",
    "from sklearn.datasets import load_boston\n",
    "\n",
    "# 데이터 불러오기\n",
    "boston = load_boston()\n",
    "boston_df = pd.DataFrame(data=boston.data, columns=boston.feature_names)\n",
    "boston_df['PRICE'] = boston.target\n",
    "boston_df.head()"
   ]
  },
  {
   "cell_type": "code",
   "execution_count": 2,
   "metadata": {
    "colab": {
     "base_uri": "https://localhost:8080/"
    },
    "executionInfo": {
     "elapsed": 18,
     "status": "ok",
     "timestamp": 1652162541207,
     "user": {
      "displayName": "Jiyoung Kang",
      "userId": "02538451806768451589"
     },
     "user_tz": -540
    },
    "id": "ULQE8bU9j2-C",
    "outputId": "fab1e967-a384-49fe-94a6-b429063cabd4"
   },
   "outputs": [
    {
     "data": {
      "text/plain": [
       "(506, 14)"
      ]
     },
     "execution_count": 2,
     "metadata": {},
     "output_type": "execute_result"
    }
   ],
   "source": [
    "boston_df.shape"
   ]
  },
  {
   "cell_type": "code",
   "execution_count": 3,
   "metadata": {},
   "outputs": [
    {
     "name": "stdout",
     "output_type": "stream",
     "text": [
      "Model: \"sequential\"\n",
      "_________________________________________________________________\n",
      " Layer (type)                Output Shape              Param #   \n",
      "=================================================================\n",
      " dense (Dense)               (None, 20)                280       \n",
      "                                                                 \n",
      " dense_1 (Dense)             (None, 1)                 21        \n",
      "                                                                 \n",
      "=================================================================\n",
      "Total params: 301\n",
      "Trainable params: 301\n",
      "Non-trainable params: 0\n",
      "_________________________________________________________________\n"
     ]
    }
   ],
   "source": [
    "from sklearn.model_selection import train_test_split\n",
    "import tensorflow as tf\n",
    "from tensorflow.keras.models import Sequential\n",
    "from tensorflow.keras.layers import Dense\n",
    "\n",
    "y = boston_df['PRICE']\n",
    "x = boston_df.drop(['PRICE'], axis=1)\n",
    "\n",
    "x_train, x_test, y_train, y_test = train_test_split(x, y, random_state = 42)\n",
    "\n",
    "model = Sequential()\n",
    "model.add(Dense(20, input_dim = 13, activation = 'relu'))\n",
    "model.add(Dense(1, activation = 'relu'))\n",
    "\n",
    "model.compile(loss = 'mean_squared_error',\n",
    "             optimizer = 'adam',\n",
    "             metrics = ['mse'])\n",
    "\n",
    "model.summary()"
   ]
  },
  {
   "cell_type": "code",
   "execution_count": 4,
   "metadata": {},
   "outputs": [
    {
     "name": "stdout",
     "output_type": "stream",
     "text": [
      "Epoch 1/50\n",
      "95/95 [==============================] - 1s 1ms/step - loss: 613.4543 - mse: 613.4543\n",
      "Epoch 2/50\n",
      "95/95 [==============================] - 0s 1ms/step - loss: 613.4543 - mse: 613.4543\n",
      "Epoch 3/50\n",
      "95/95 [==============================] - 0s 1ms/step - loss: 613.4543 - mse: 613.4543\n",
      "Epoch 4/50\n",
      "95/95 [==============================] - 0s 1ms/step - loss: 613.4544 - mse: 613.4544\n",
      "Epoch 5/50\n",
      "95/95 [==============================] - 0s 883us/step - loss: 613.4542 - mse: 613.4542\n",
      "Epoch 6/50\n",
      "95/95 [==============================] - 0s 1ms/step - loss: 613.4544 - mse: 613.4544\n",
      "Epoch 7/50\n",
      "95/95 [==============================] - 0s 958us/step - loss: 613.4543 - mse: 613.4543\n",
      "Epoch 8/50\n",
      "95/95 [==============================] - 0s 965us/step - loss: 613.4542 - mse: 613.4542\n",
      "Epoch 9/50\n",
      "95/95 [==============================] - 0s 979us/step - loss: 613.4542 - mse: 613.4542\n",
      "Epoch 10/50\n",
      "95/95 [==============================] - 0s 1ms/step - loss: 613.4543 - mse: 613.4543\n",
      "Epoch 11/50\n",
      "95/95 [==============================] - 0s 1ms/step - loss: 613.4543 - mse: 613.4543\n",
      "Epoch 12/50\n",
      "95/95 [==============================] - 0s 1ms/step - loss: 613.4542 - mse: 613.4542\n",
      "Epoch 13/50\n",
      "95/95 [==============================] - 0s 1ms/step - loss: 613.4543 - mse: 613.4543\n",
      "Epoch 14/50\n",
      "95/95 [==============================] - 0s 1ms/step - loss: 613.4543 - mse: 613.4543\n",
      "Epoch 15/50\n",
      "95/95 [==============================] - 0s 1ms/step - loss: 613.4543 - mse: 613.4543\n",
      "Epoch 16/50\n",
      "95/95 [==============================] - 0s 1ms/step - loss: 613.4543 - mse: 613.4543\n",
      "Epoch 17/50\n",
      "95/95 [==============================] - 0s 1ms/step - loss: 613.4543 - mse: 613.4543\n",
      "Epoch 18/50\n",
      "95/95 [==============================] - 0s 936us/step - loss: 613.4544 - mse: 613.4544\n",
      "Epoch 19/50\n",
      "95/95 [==============================] - 0s 957us/step - loss: 613.4542 - mse: 613.4542\n",
      "Epoch 20/50\n",
      "95/95 [==============================] - 0s 1ms/step - loss: 613.4543 - mse: 613.4543\n",
      "Epoch 21/50\n",
      "95/95 [==============================] - 0s 1ms/step - loss: 613.4543 - mse: 613.4543\n",
      "Epoch 22/50\n",
      "95/95 [==============================] - 0s 1ms/step - loss: 613.4545 - mse: 613.4545\n",
      "Epoch 23/50\n",
      "95/95 [==============================] - 0s 1ms/step - loss: 613.4543 - mse: 613.4543\n",
      "Epoch 24/50\n",
      "95/95 [==============================] - 0s 1ms/step - loss: 613.4543 - mse: 613.4543\n",
      "Epoch 25/50\n",
      "95/95 [==============================] - 0s 1ms/step - loss: 613.4543 - mse: 613.4543\n",
      "Epoch 26/50\n",
      "95/95 [==============================] - 0s 1ms/step - loss: 613.4543 - mse: 613.4543\n",
      "Epoch 27/50\n",
      "95/95 [==============================] - 0s 1ms/step - loss: 613.4543 - mse: 613.4543\n",
      "Epoch 28/50\n",
      "95/95 [==============================] - 0s 1ms/step - loss: 613.4545 - mse: 613.4545\n",
      "Epoch 29/50\n",
      "95/95 [==============================] - 0s 1ms/step - loss: 613.4543 - mse: 613.4543\n",
      "Epoch 30/50\n",
      "95/95 [==============================] - 0s 2ms/step - loss: 613.4543 - mse: 613.4543\n",
      "Epoch 31/50\n",
      "95/95 [==============================] - 0s 1ms/step - loss: 613.4542 - mse: 613.4542\n",
      "Epoch 32/50\n",
      "95/95 [==============================] - 0s 1ms/step - loss: 613.4543 - mse: 613.4543\n",
      "Epoch 33/50\n",
      "95/95 [==============================] - 0s 2ms/step - loss: 613.4543 - mse: 613.4543\n",
      "Epoch 34/50\n",
      "95/95 [==============================] - 0s 1ms/step - loss: 613.4542 - mse: 613.4542\n",
      "Epoch 35/50\n",
      "95/95 [==============================] - 0s 1ms/step - loss: 613.4543 - mse: 613.4543\n",
      "Epoch 36/50\n",
      "95/95 [==============================] - 0s 1ms/step - loss: 613.4543 - mse: 613.4543\n",
      "Epoch 37/50\n",
      "95/95 [==============================] - 0s 1ms/step - loss: 613.4544 - mse: 613.4544\n",
      "Epoch 38/50\n",
      "95/95 [==============================] - 0s 1ms/step - loss: 613.4542 - mse: 613.4542\n",
      "Epoch 39/50\n",
      "95/95 [==============================] - 0s 1ms/step - loss: 613.4542 - mse: 613.4542\n",
      "Epoch 40/50\n",
      "95/95 [==============================] - 0s 2ms/step - loss: 613.4544 - mse: 613.4544\n",
      "Epoch 41/50\n",
      "95/95 [==============================] - 0s 2ms/step - loss: 613.4543 - mse: 613.4543\n",
      "Epoch 42/50\n",
      "95/95 [==============================] - 0s 1ms/step - loss: 613.4545 - mse: 613.4545\n",
      "Epoch 43/50\n",
      "95/95 [==============================] - 0s 1ms/step - loss: 613.4542 - mse: 613.4542\n",
      "Epoch 44/50\n",
      "95/95 [==============================] - 0s 1ms/step - loss: 613.4544 - mse: 613.4544\n",
      "Epoch 45/50\n",
      "95/95 [==============================] - 0s 1ms/step - loss: 613.4543 - mse: 613.4543\n",
      "Epoch 46/50\n",
      "95/95 [==============================] - 0s 968us/step - loss: 613.4542 - mse: 613.4542\n",
      "Epoch 47/50\n",
      "95/95 [==============================] - 0s 947us/step - loss: 613.4543 - mse: 613.4543\n",
      "Epoch 48/50\n",
      "95/95 [==============================] - 0s 1ms/step - loss: 613.4543 - mse: 613.4543\n",
      "Epoch 49/50\n",
      "95/95 [==============================] - 0s 985us/step - loss: 613.4545 - mse: 613.4545\n",
      "Epoch 50/50\n",
      "95/95 [==============================] - 0s 1ms/step - loss: 613.4543 - mse: 613.4543\n"
     ]
    },
    {
     "data": {
      "text/plain": [
       "<keras.callbacks.History at 0x25399fd87f0>"
      ]
     },
     "execution_count": 4,
     "metadata": {},
     "output_type": "execute_result"
    }
   ],
   "source": [
    "model.fit(x_train, y_train, epochs = 50, batch_size = 4)"
   ]
  },
  {
   "cell_type": "code",
   "execution_count": 5,
   "metadata": {},
   "outputs": [
    {
     "name": "stdout",
     "output_type": "stream",
     "text": [
      "4/4 [==============================] - 0s 1ms/step - loss: 528.5603 - mse: 528.5603\n"
     ]
    },
    {
     "data": {
      "text/plain": [
       "[528.560302734375, 528.560302734375]"
      ]
     },
     "execution_count": 5,
     "metadata": {},
     "output_type": "execute_result"
    }
   ],
   "source": [
    "model.evaluate(x_test, y_test)"
   ]
  },
  {
   "cell_type": "markdown",
   "metadata": {
    "id": "AwvC8m2Yj2-D"
   },
   "source": [
    "### 문제 2. 유방암 데이터셋(Breast Cancer)"
   ]
  },
  {
   "cell_type": "code",
   "execution_count": 6,
   "metadata": {
    "colab": {
     "base_uri": "https://localhost:8080/",
     "height": 314
    },
    "executionInfo": {
     "elapsed": 17,
     "status": "ok",
     "timestamp": 1652162541208,
     "user": {
      "displayName": "Jiyoung Kang",
      "userId": "02538451806768451589"
     },
     "user_tz": -540
    },
    "id": "vqukuFmIj2-E",
    "outputId": "0f17a8c7-5d4d-47dc-fa37-ed60bad8cd3f"
   },
   "outputs": [
    {
     "data": {
      "text/html": [
       "<div>\n",
       "<style scoped>\n",
       "    .dataframe tbody tr th:only-of-type {\n",
       "        vertical-align: middle;\n",
       "    }\n",
       "\n",
       "    .dataframe tbody tr th {\n",
       "        vertical-align: top;\n",
       "    }\n",
       "\n",
       "    .dataframe thead th {\n",
       "        text-align: right;\n",
       "    }\n",
       "</style>\n",
       "<table border=\"1\" class=\"dataframe\">\n",
       "  <thead>\n",
       "    <tr style=\"text-align: right;\">\n",
       "      <th></th>\n",
       "      <th>mean radius</th>\n",
       "      <th>mean texture</th>\n",
       "      <th>mean perimeter</th>\n",
       "      <th>mean area</th>\n",
       "      <th>mean smoothness</th>\n",
       "      <th>mean compactness</th>\n",
       "      <th>mean concavity</th>\n",
       "      <th>mean concave points</th>\n",
       "      <th>mean symmetry</th>\n",
       "      <th>mean fractal dimension</th>\n",
       "      <th>...</th>\n",
       "      <th>worst texture</th>\n",
       "      <th>worst perimeter</th>\n",
       "      <th>worst area</th>\n",
       "      <th>worst smoothness</th>\n",
       "      <th>worst compactness</th>\n",
       "      <th>worst concavity</th>\n",
       "      <th>worst concave points</th>\n",
       "      <th>worst symmetry</th>\n",
       "      <th>worst fractal dimension</th>\n",
       "      <th>target</th>\n",
       "    </tr>\n",
       "  </thead>\n",
       "  <tbody>\n",
       "    <tr>\n",
       "      <th>0</th>\n",
       "      <td>17.99</td>\n",
       "      <td>10.38</td>\n",
       "      <td>122.80</td>\n",
       "      <td>1001.0</td>\n",
       "      <td>0.11840</td>\n",
       "      <td>0.27760</td>\n",
       "      <td>0.3001</td>\n",
       "      <td>0.14710</td>\n",
       "      <td>0.2419</td>\n",
       "      <td>0.07871</td>\n",
       "      <td>...</td>\n",
       "      <td>17.33</td>\n",
       "      <td>184.60</td>\n",
       "      <td>2019.0</td>\n",
       "      <td>0.1622</td>\n",
       "      <td>0.6656</td>\n",
       "      <td>0.7119</td>\n",
       "      <td>0.2654</td>\n",
       "      <td>0.4601</td>\n",
       "      <td>0.11890</td>\n",
       "      <td>0</td>\n",
       "    </tr>\n",
       "    <tr>\n",
       "      <th>1</th>\n",
       "      <td>20.57</td>\n",
       "      <td>17.77</td>\n",
       "      <td>132.90</td>\n",
       "      <td>1326.0</td>\n",
       "      <td>0.08474</td>\n",
       "      <td>0.07864</td>\n",
       "      <td>0.0869</td>\n",
       "      <td>0.07017</td>\n",
       "      <td>0.1812</td>\n",
       "      <td>0.05667</td>\n",
       "      <td>...</td>\n",
       "      <td>23.41</td>\n",
       "      <td>158.80</td>\n",
       "      <td>1956.0</td>\n",
       "      <td>0.1238</td>\n",
       "      <td>0.1866</td>\n",
       "      <td>0.2416</td>\n",
       "      <td>0.1860</td>\n",
       "      <td>0.2750</td>\n",
       "      <td>0.08902</td>\n",
       "      <td>0</td>\n",
       "    </tr>\n",
       "    <tr>\n",
       "      <th>2</th>\n",
       "      <td>19.69</td>\n",
       "      <td>21.25</td>\n",
       "      <td>130.00</td>\n",
       "      <td>1203.0</td>\n",
       "      <td>0.10960</td>\n",
       "      <td>0.15990</td>\n",
       "      <td>0.1974</td>\n",
       "      <td>0.12790</td>\n",
       "      <td>0.2069</td>\n",
       "      <td>0.05999</td>\n",
       "      <td>...</td>\n",
       "      <td>25.53</td>\n",
       "      <td>152.50</td>\n",
       "      <td>1709.0</td>\n",
       "      <td>0.1444</td>\n",
       "      <td>0.4245</td>\n",
       "      <td>0.4504</td>\n",
       "      <td>0.2430</td>\n",
       "      <td>0.3613</td>\n",
       "      <td>0.08758</td>\n",
       "      <td>0</td>\n",
       "    </tr>\n",
       "    <tr>\n",
       "      <th>3</th>\n",
       "      <td>11.42</td>\n",
       "      <td>20.38</td>\n",
       "      <td>77.58</td>\n",
       "      <td>386.1</td>\n",
       "      <td>0.14250</td>\n",
       "      <td>0.28390</td>\n",
       "      <td>0.2414</td>\n",
       "      <td>0.10520</td>\n",
       "      <td>0.2597</td>\n",
       "      <td>0.09744</td>\n",
       "      <td>...</td>\n",
       "      <td>26.50</td>\n",
       "      <td>98.87</td>\n",
       "      <td>567.7</td>\n",
       "      <td>0.2098</td>\n",
       "      <td>0.8663</td>\n",
       "      <td>0.6869</td>\n",
       "      <td>0.2575</td>\n",
       "      <td>0.6638</td>\n",
       "      <td>0.17300</td>\n",
       "      <td>0</td>\n",
       "    </tr>\n",
       "    <tr>\n",
       "      <th>4</th>\n",
       "      <td>20.29</td>\n",
       "      <td>14.34</td>\n",
       "      <td>135.10</td>\n",
       "      <td>1297.0</td>\n",
       "      <td>0.10030</td>\n",
       "      <td>0.13280</td>\n",
       "      <td>0.1980</td>\n",
       "      <td>0.10430</td>\n",
       "      <td>0.1809</td>\n",
       "      <td>0.05883</td>\n",
       "      <td>...</td>\n",
       "      <td>16.67</td>\n",
       "      <td>152.20</td>\n",
       "      <td>1575.0</td>\n",
       "      <td>0.1374</td>\n",
       "      <td>0.2050</td>\n",
       "      <td>0.4000</td>\n",
       "      <td>0.1625</td>\n",
       "      <td>0.2364</td>\n",
       "      <td>0.07678</td>\n",
       "      <td>0</td>\n",
       "    </tr>\n",
       "  </tbody>\n",
       "</table>\n",
       "<p>5 rows × 31 columns</p>\n",
       "</div>"
      ],
      "text/plain": [
       "   mean radius  mean texture  mean perimeter  mean area  mean smoothness  \\\n",
       "0        17.99         10.38          122.80     1001.0          0.11840   \n",
       "1        20.57         17.77          132.90     1326.0          0.08474   \n",
       "2        19.69         21.25          130.00     1203.0          0.10960   \n",
       "3        11.42         20.38           77.58      386.1          0.14250   \n",
       "4        20.29         14.34          135.10     1297.0          0.10030   \n",
       "\n",
       "   mean compactness  mean concavity  mean concave points  mean symmetry  \\\n",
       "0           0.27760          0.3001              0.14710         0.2419   \n",
       "1           0.07864          0.0869              0.07017         0.1812   \n",
       "2           0.15990          0.1974              0.12790         0.2069   \n",
       "3           0.28390          0.2414              0.10520         0.2597   \n",
       "4           0.13280          0.1980              0.10430         0.1809   \n",
       "\n",
       "   mean fractal dimension  ...  worst texture  worst perimeter  worst area  \\\n",
       "0                 0.07871  ...          17.33           184.60      2019.0   \n",
       "1                 0.05667  ...          23.41           158.80      1956.0   \n",
       "2                 0.05999  ...          25.53           152.50      1709.0   \n",
       "3                 0.09744  ...          26.50            98.87       567.7   \n",
       "4                 0.05883  ...          16.67           152.20      1575.0   \n",
       "\n",
       "   worst smoothness  worst compactness  worst concavity  worst concave points  \\\n",
       "0            0.1622             0.6656           0.7119                0.2654   \n",
       "1            0.1238             0.1866           0.2416                0.1860   \n",
       "2            0.1444             0.4245           0.4504                0.2430   \n",
       "3            0.2098             0.8663           0.6869                0.2575   \n",
       "4            0.1374             0.2050           0.4000                0.1625   \n",
       "\n",
       "   worst symmetry  worst fractal dimension  target  \n",
       "0          0.4601                  0.11890       0  \n",
       "1          0.2750                  0.08902       0  \n",
       "2          0.3613                  0.08758       0  \n",
       "3          0.6638                  0.17300       0  \n",
       "4          0.2364                  0.07678       0  \n",
       "\n",
       "[5 rows x 31 columns]"
      ]
     },
     "execution_count": 6,
     "metadata": {},
     "output_type": "execute_result"
    }
   ],
   "source": [
    "from sklearn.datasets import load_breast_cancer\n",
    "\n",
    "# 데이터 불러오기\n",
    "cancer = load_breast_cancer()\n",
    "cancer_df = pd.DataFrame(data=cancer.data, columns=cancer.feature_names)\n",
    "cancer_df['target'] = cancer.target\n",
    "cancer_df.head()"
   ]
  },
  {
   "cell_type": "code",
   "execution_count": 7,
   "metadata": {
    "colab": {
     "base_uri": "https://localhost:8080/"
    },
    "executionInfo": {
     "elapsed": 16,
     "status": "ok",
     "timestamp": 1652162541209,
     "user": {
      "displayName": "Jiyoung Kang",
      "userId": "02538451806768451589"
     },
     "user_tz": -540
    },
    "id": "jw7RF_-Bj2-E",
    "outputId": "ee90420a-468d-4ce8-a62b-d49a3e775a3c"
   },
   "outputs": [
    {
     "data": {
      "text/plain": [
       "(569, 31)"
      ]
     },
     "execution_count": 7,
     "metadata": {},
     "output_type": "execute_result"
    }
   ],
   "source": [
    "cancer_df.shape"
   ]
  },
  {
   "cell_type": "code",
   "execution_count": 8,
   "metadata": {
    "colab": {
     "base_uri": "https://localhost:8080/"
    },
    "executionInfo": {
     "elapsed": 14,
     "status": "ok",
     "timestamp": 1652162541209,
     "user": {
      "displayName": "Jiyoung Kang",
      "userId": "02538451806768451589"
     },
     "user_tz": -540
    },
    "id": "1-k9h10kj2-F",
    "outputId": "7ec8b995-f5b9-45a6-c28b-c9b900789cd5"
   },
   "outputs": [
    {
     "data": {
      "text/plain": [
       "array([0, 1])"
      ]
     },
     "execution_count": 8,
     "metadata": {},
     "output_type": "execute_result"
    }
   ],
   "source": [
    "cancer_df['target'].unique()"
   ]
  },
  {
   "cell_type": "code",
   "execution_count": 9,
   "metadata": {
    "scrolled": false
   },
   "outputs": [
    {
     "name": "stdout",
     "output_type": "stream",
     "text": [
      "Model: \"sequential_1\"\n",
      "_________________________________________________________________\n",
      " Layer (type)                Output Shape              Param #   \n",
      "=================================================================\n",
      " dense_2 (Dense)             (None, 40)                1240      \n",
      "                                                                 \n",
      " dense_3 (Dense)             (None, 1)                 41        \n",
      "                                                                 \n",
      "=================================================================\n",
      "Total params: 1,281\n",
      "Trainable params: 1,281\n",
      "Non-trainable params: 0\n",
      "_________________________________________________________________\n"
     ]
    }
   ],
   "source": [
    "from sklearn.model_selection import train_test_split\n",
    "import tensorflow as tf\n",
    "from tensorflow.keras.models import Sequential\n",
    "from tensorflow.keras.layers import Dense\n",
    "\n",
    "y = cancer_df['target']\n",
    "x = cancer_df.drop(['target'], axis=1)\n",
    "\n",
    "x_train, x_test, y_train, y_test = train_test_split(x, y, random_state = 42)\n",
    "\n",
    "model = Sequential()\n",
    "model.add(Dense(40, input_dim = 30, activation = 'relu'))\n",
    "model.add(Dense(1, activation = 'sigmoid'))\n",
    "\n",
    "model.compile(loss = 'binary_crossentropy',\n",
    "             optimizer = 'adam',\n",
    "             metrics = ['accuracy'])\n",
    "\n",
    "model.summary()"
   ]
  },
  {
   "cell_type": "code",
   "execution_count": 10,
   "metadata": {
    "scrolled": true
   },
   "outputs": [
    {
     "name": "stdout",
     "output_type": "stream",
     "text": [
      "Epoch 1/50\n",
      "54/54 [==============================] - 1s 1ms/step - loss: 10.0676 - accuracy: 0.6174\n",
      "Epoch 2/50\n",
      "54/54 [==============================] - 0s 1ms/step - loss: 0.5931 - accuracy: 0.8991\n",
      "Epoch 3/50\n",
      "54/54 [==============================] - 0s 1ms/step - loss: 0.4665 - accuracy: 0.9014\n",
      "Epoch 4/50\n",
      "54/54 [==============================] - 0s 1ms/step - loss: 0.4100 - accuracy: 0.8873\n",
      "Epoch 5/50\n",
      "54/54 [==============================] - 0s 1ms/step - loss: 0.4952 - accuracy: 0.8803\n",
      "Epoch 6/50\n",
      "54/54 [==============================] - 0s 2ms/step - loss: 0.3840 - accuracy: 0.8991\n",
      "Epoch 7/50\n",
      "54/54 [==============================] - 0s 2ms/step - loss: 0.5581 - accuracy: 0.8638\n",
      "Epoch 8/50\n",
      "54/54 [==============================] - 0s 1ms/step - loss: 0.4313 - accuracy: 0.9014\n",
      "Epoch 9/50\n",
      "54/54 [==============================] - 0s 1ms/step - loss: 0.5892 - accuracy: 0.8638\n",
      "Epoch 10/50\n",
      "54/54 [==============================] - 0s 1ms/step - loss: 0.6098 - accuracy: 0.8638\n",
      "Epoch 11/50\n",
      "54/54 [==============================] - 0s 1ms/step - loss: 0.3820 - accuracy: 0.9038\n",
      "Epoch 12/50\n",
      "54/54 [==============================] - 0s 1ms/step - loss: 0.8669 - accuracy: 0.8380\n",
      "Epoch 13/50\n",
      "54/54 [==============================] - 0s 1ms/step - loss: 0.4947 - accuracy: 0.8732\n",
      "Epoch 14/50\n",
      "54/54 [==============================] - 0s 1ms/step - loss: 0.4982 - accuracy: 0.8944\n",
      "Epoch 15/50\n",
      "54/54 [==============================] - 0s 1ms/step - loss: 0.2730 - accuracy: 0.9225\n",
      "Epoch 16/50\n",
      "54/54 [==============================] - 0s 1ms/step - loss: 0.3662 - accuracy: 0.8991\n",
      "Epoch 17/50\n",
      "54/54 [==============================] - 0s 1ms/step - loss: 0.3194 - accuracy: 0.9108\n",
      "Epoch 18/50\n",
      "54/54 [==============================] - 0s 1ms/step - loss: 0.5211 - accuracy: 0.8662\n",
      "Epoch 19/50\n",
      "54/54 [==============================] - 0s 1ms/step - loss: 0.5084 - accuracy: 0.8756\n",
      "Epoch 20/50\n",
      "54/54 [==============================] - 0s 1ms/step - loss: 0.3663 - accuracy: 0.9108\n",
      "Epoch 21/50\n",
      "54/54 [==============================] - 0s 923us/step - loss: 0.2361 - accuracy: 0.9085\n",
      "Epoch 22/50\n",
      "54/54 [==============================] - 0s 1ms/step - loss: 0.2331 - accuracy: 0.9155\n",
      "Epoch 23/50\n",
      "54/54 [==============================] - 0s 1ms/step - loss: 0.3508 - accuracy: 0.8873\n",
      "Epoch 24/50\n",
      "54/54 [==============================] - 0s 1000us/step - loss: 0.4286 - accuracy: 0.8756\n",
      "Epoch 25/50\n",
      "54/54 [==============================] - 0s 1ms/step - loss: 0.5696 - accuracy: 0.8779\n",
      "Epoch 26/50\n",
      "54/54 [==============================] - 0s 1ms/step - loss: 0.6117 - accuracy: 0.8826\n",
      "Epoch 27/50\n",
      "54/54 [==============================] - 0s 1ms/step - loss: 0.4719 - accuracy: 0.8850\n",
      "Epoch 28/50\n",
      "54/54 [==============================] - 0s 1ms/step - loss: 0.3968 - accuracy: 0.9061\n",
      "Epoch 29/50\n",
      "54/54 [==============================] - 0s 1ms/step - loss: 0.4752 - accuracy: 0.9038\n",
      "Epoch 30/50\n",
      "54/54 [==============================] - 0s 1ms/step - loss: 0.4204 - accuracy: 0.9038\n",
      "Epoch 31/50\n",
      "54/54 [==============================] - 0s 1ms/step - loss: 0.3240 - accuracy: 0.9225\n",
      "Epoch 32/50\n",
      "54/54 [==============================] - 0s 924us/step - loss: 0.7599 - accuracy: 0.8592\n",
      "Epoch 33/50\n",
      "54/54 [==============================] - 0s 1ms/step - loss: 0.4656 - accuracy: 0.8944\n",
      "Epoch 34/50\n",
      "54/54 [==============================] - 0s 1ms/step - loss: 0.4488 - accuracy: 0.9131\n",
      "Epoch 35/50\n",
      "54/54 [==============================] - 0s 1ms/step - loss: 0.3211 - accuracy: 0.9249\n",
      "Epoch 36/50\n",
      "54/54 [==============================] - 0s 1ms/step - loss: 0.3577 - accuracy: 0.8850\n",
      "Epoch 37/50\n",
      "54/54 [==============================] - 0s 1ms/step - loss: 0.2803 - accuracy: 0.9272\n",
      "Epoch 38/50\n",
      "54/54 [==============================] - 0s 1ms/step - loss: 0.3375 - accuracy: 0.9131\n",
      "Epoch 39/50\n",
      "54/54 [==============================] - 0s 1ms/step - loss: 0.5251 - accuracy: 0.8709\n",
      "Epoch 40/50\n",
      "54/54 [==============================] - 0s 1ms/step - loss: 0.2630 - accuracy: 0.9178\n",
      "Epoch 41/50\n",
      "54/54 [==============================] - 0s 1ms/step - loss: 0.5494 - accuracy: 0.8897\n",
      "Epoch 42/50\n",
      "54/54 [==============================] - 0s 1ms/step - loss: 0.3958 - accuracy: 0.9061\n",
      "Epoch 43/50\n",
      "54/54 [==============================] - 0s 2ms/step - loss: 0.3482 - accuracy: 0.9131\n",
      "Epoch 44/50\n",
      "54/54 [==============================] - 0s 1ms/step - loss: 0.2541 - accuracy: 0.9390\n",
      "Epoch 45/50\n",
      "54/54 [==============================] - 0s 1ms/step - loss: 0.6168 - accuracy: 0.8826\n",
      "Epoch 46/50\n",
      "54/54 [==============================] - 0s 1ms/step - loss: 0.3977 - accuracy: 0.9272\n",
      "Epoch 47/50\n",
      "54/54 [==============================] - 0s 981us/step - loss: 0.3417 - accuracy: 0.9108\n",
      "Epoch 48/50\n",
      "54/54 [==============================] - 0s 1ms/step - loss: 0.2708 - accuracy: 0.9155\n",
      "Epoch 49/50\n",
      "54/54 [==============================] - 0s 1ms/step - loss: 0.2685 - accuracy: 0.9155\n",
      "Epoch 50/50\n",
      "54/54 [==============================] - 0s 1ms/step - loss: 0.3249 - accuracy: 0.9131\n"
     ]
    },
    {
     "data": {
      "text/plain": [
       "<keras.callbacks.History at 0x2539b56e460>"
      ]
     },
     "execution_count": 10,
     "metadata": {},
     "output_type": "execute_result"
    }
   ],
   "source": [
    "model.fit(x_train, y_train, epochs = 50, batch_size = 8)"
   ]
  },
  {
   "cell_type": "code",
   "execution_count": 11,
   "metadata": {},
   "outputs": [
    {
     "name": "stdout",
     "output_type": "stream",
     "text": [
      "5/5 [==============================] - 0s 1ms/step - loss: 0.3111 - accuracy: 0.9301\n"
     ]
    },
    {
     "data": {
      "text/plain": [
       "[0.3110685646533966, 0.9300699234008789]"
      ]
     },
     "execution_count": 11,
     "metadata": {},
     "output_type": "execute_result"
    }
   ],
   "source": [
    "model.evaluate(x_test, y_test)"
   ]
  },
  {
   "cell_type": "code",
   "execution_count": 12,
   "metadata": {
    "scrolled": true
   },
   "outputs": [
    {
     "name": "stdout",
     "output_type": "stream",
     "text": [
      "5/5 [==============================] - 0s 1ms/step\n"
     ]
    },
    {
     "data": {
      "text/plain": [
       "array([0.9961825], dtype=float32)"
      ]
     },
     "execution_count": 12,
     "metadata": {},
     "output_type": "execute_result"
    }
   ],
   "source": [
    "model.predict(x_test)[0]"
   ]
  },
  {
   "cell_type": "markdown",
   "metadata": {
    "id": "SWBGVFwpj2-G"
   },
   "source": [
    "### 문제3. 당뇨 데이터셋(Diabetes)"
   ]
  },
  {
   "cell_type": "code",
   "execution_count": 13,
   "metadata": {
    "colab": {
     "base_uri": "https://localhost:8080/",
     "height": 206
    },
    "executionInfo": {
     "elapsed": 14,
     "status": "ok",
     "timestamp": 1652162541210,
     "user": {
      "displayName": "Jiyoung Kang",
      "userId": "02538451806768451589"
     },
     "user_tz": -540
    },
    "id": "QiuQu8UUj2-G",
    "outputId": "93b22d09-daeb-43be-ecdd-5bc21b1cb93e"
   },
   "outputs": [
    {
     "data": {
      "text/html": [
       "<div>\n",
       "<style scoped>\n",
       "    .dataframe tbody tr th:only-of-type {\n",
       "        vertical-align: middle;\n",
       "    }\n",
       "\n",
       "    .dataframe tbody tr th {\n",
       "        vertical-align: top;\n",
       "    }\n",
       "\n",
       "    .dataframe thead th {\n",
       "        text-align: right;\n",
       "    }\n",
       "</style>\n",
       "<table border=\"1\" class=\"dataframe\">\n",
       "  <thead>\n",
       "    <tr style=\"text-align: right;\">\n",
       "      <th></th>\n",
       "      <th>age</th>\n",
       "      <th>sex</th>\n",
       "      <th>bmi</th>\n",
       "      <th>bp</th>\n",
       "      <th>s1</th>\n",
       "      <th>s2</th>\n",
       "      <th>s3</th>\n",
       "      <th>s4</th>\n",
       "      <th>s5</th>\n",
       "      <th>s6</th>\n",
       "      <th>target</th>\n",
       "    </tr>\n",
       "  </thead>\n",
       "  <tbody>\n",
       "    <tr>\n",
       "      <th>0</th>\n",
       "      <td>0.038076</td>\n",
       "      <td>0.050680</td>\n",
       "      <td>0.061696</td>\n",
       "      <td>0.021872</td>\n",
       "      <td>-0.044223</td>\n",
       "      <td>-0.034821</td>\n",
       "      <td>-0.043401</td>\n",
       "      <td>-0.002592</td>\n",
       "      <td>0.019908</td>\n",
       "      <td>-0.017646</td>\n",
       "      <td>151.0</td>\n",
       "    </tr>\n",
       "    <tr>\n",
       "      <th>1</th>\n",
       "      <td>-0.001882</td>\n",
       "      <td>-0.044642</td>\n",
       "      <td>-0.051474</td>\n",
       "      <td>-0.026328</td>\n",
       "      <td>-0.008449</td>\n",
       "      <td>-0.019163</td>\n",
       "      <td>0.074412</td>\n",
       "      <td>-0.039493</td>\n",
       "      <td>-0.068330</td>\n",
       "      <td>-0.092204</td>\n",
       "      <td>75.0</td>\n",
       "    </tr>\n",
       "    <tr>\n",
       "      <th>2</th>\n",
       "      <td>0.085299</td>\n",
       "      <td>0.050680</td>\n",
       "      <td>0.044451</td>\n",
       "      <td>-0.005671</td>\n",
       "      <td>-0.045599</td>\n",
       "      <td>-0.034194</td>\n",
       "      <td>-0.032356</td>\n",
       "      <td>-0.002592</td>\n",
       "      <td>0.002864</td>\n",
       "      <td>-0.025930</td>\n",
       "      <td>141.0</td>\n",
       "    </tr>\n",
       "    <tr>\n",
       "      <th>3</th>\n",
       "      <td>-0.089063</td>\n",
       "      <td>-0.044642</td>\n",
       "      <td>-0.011595</td>\n",
       "      <td>-0.036656</td>\n",
       "      <td>0.012191</td>\n",
       "      <td>0.024991</td>\n",
       "      <td>-0.036038</td>\n",
       "      <td>0.034309</td>\n",
       "      <td>0.022692</td>\n",
       "      <td>-0.009362</td>\n",
       "      <td>206.0</td>\n",
       "    </tr>\n",
       "    <tr>\n",
       "      <th>4</th>\n",
       "      <td>0.005383</td>\n",
       "      <td>-0.044642</td>\n",
       "      <td>-0.036385</td>\n",
       "      <td>0.021872</td>\n",
       "      <td>0.003935</td>\n",
       "      <td>0.015596</td>\n",
       "      <td>0.008142</td>\n",
       "      <td>-0.002592</td>\n",
       "      <td>-0.031991</td>\n",
       "      <td>-0.046641</td>\n",
       "      <td>135.0</td>\n",
       "    </tr>\n",
       "  </tbody>\n",
       "</table>\n",
       "</div>"
      ],
      "text/plain": [
       "        age       sex       bmi        bp        s1        s2        s3  \\\n",
       "0  0.038076  0.050680  0.061696  0.021872 -0.044223 -0.034821 -0.043401   \n",
       "1 -0.001882 -0.044642 -0.051474 -0.026328 -0.008449 -0.019163  0.074412   \n",
       "2  0.085299  0.050680  0.044451 -0.005671 -0.045599 -0.034194 -0.032356   \n",
       "3 -0.089063 -0.044642 -0.011595 -0.036656  0.012191  0.024991 -0.036038   \n",
       "4  0.005383 -0.044642 -0.036385  0.021872  0.003935  0.015596  0.008142   \n",
       "\n",
       "         s4        s5        s6  target  \n",
       "0 -0.002592  0.019908 -0.017646   151.0  \n",
       "1 -0.039493 -0.068330 -0.092204    75.0  \n",
       "2 -0.002592  0.002864 -0.025930   141.0  \n",
       "3  0.034309  0.022692 -0.009362   206.0  \n",
       "4 -0.002592 -0.031991 -0.046641   135.0  "
      ]
     },
     "execution_count": 13,
     "metadata": {},
     "output_type": "execute_result"
    }
   ],
   "source": [
    "from sklearn.datasets import load_diabetes\n",
    "\n",
    "# 데이터 불러오기\n",
    "diabetes = load_diabetes()\n",
    "diabetes_df = pd.DataFrame(data=diabetes.data, columns=diabetes.feature_names)\n",
    "diabetes_df['target'] = diabetes.target\n",
    "diabetes_df.head()"
   ]
  },
  {
   "cell_type": "code",
   "execution_count": 14,
   "metadata": {
    "colab": {
     "base_uri": "https://localhost:8080/"
    },
    "executionInfo": {
     "elapsed": 13,
     "status": "ok",
     "timestamp": 1652162541210,
     "user": {
      "displayName": "Jiyoung Kang",
      "userId": "02538451806768451589"
     },
     "user_tz": -540
    },
    "id": "21oSn4Qbj2-H",
    "outputId": "0bb1837c-5df2-480d-bc03-667d68952641"
   },
   "outputs": [
    {
     "data": {
      "text/plain": [
       "(442, 11)"
      ]
     },
     "execution_count": 14,
     "metadata": {},
     "output_type": "execute_result"
    }
   ],
   "source": [
    "diabetes_df.shape"
   ]
  },
  {
   "cell_type": "code",
   "execution_count": 15,
   "metadata": {},
   "outputs": [
    {
     "name": "stdout",
     "output_type": "stream",
     "text": [
      "Model: \"sequential_2\"\n",
      "_________________________________________________________________\n",
      " Layer (type)                Output Shape              Param #   \n",
      "=================================================================\n",
      " dense_4 (Dense)             (None, 20)                220       \n",
      "                                                                 \n",
      " dense_5 (Dense)             (None, 1)                 21        \n",
      "                                                                 \n",
      "=================================================================\n",
      "Total params: 241\n",
      "Trainable params: 241\n",
      "Non-trainable params: 0\n",
      "_________________________________________________________________\n"
     ]
    }
   ],
   "source": [
    "from sklearn.model_selection import train_test_split\n",
    "import tensorflow as tf\n",
    "from tensorflow.keras.models import Sequential\n",
    "from tensorflow.keras.layers import Dense\n",
    "\n",
    "y = diabetes_df['target']\n",
    "x = diabetes_df.drop(['target'], axis=1)\n",
    "\n",
    "x_train, x_test, y_train, y_test = train_test_split(x, y, random_state = 42)\n",
    "\n",
    "model = Sequential()\n",
    "model.add(Dense(20, input_dim = 10, activation = 'relu'))\n",
    "model.add(Dense(1, activation = 'relu'))\n",
    "\n",
    "model.compile(loss = 'mean_squared_error',\n",
    "             optimizer = 'adam',\n",
    "             metrics = ['mse'])\n",
    "\n",
    "model.summary()"
   ]
  },
  {
   "cell_type": "code",
   "execution_count": 16,
   "metadata": {},
   "outputs": [
    {
     "name": "stdout",
     "output_type": "stream",
     "text": [
      "Epoch 1/50\n",
      "42/42 [==============================] - 0s 1ms/step - loss: 29853.6582 - mse: 29853.6582\n",
      "Epoch 2/50\n",
      "42/42 [==============================] - 0s 1ms/step - loss: 29802.8770 - mse: 29802.8770\n",
      "Epoch 3/50\n",
      "42/42 [==============================] - 0s 1ms/step - loss: 29737.7246 - mse: 29737.7246\n",
      "Epoch 4/50\n",
      "42/42 [==============================] - 0s 1ms/step - loss: 29658.9609 - mse: 29658.9609\n",
      "Epoch 5/50\n",
      "42/42 [==============================] - 0s 1ms/step - loss: 29565.3633 - mse: 29565.3633\n",
      "Epoch 6/50\n",
      "42/42 [==============================] - 0s 1ms/step - loss: 29456.8066 - mse: 29456.8066\n",
      "Epoch 7/50\n",
      "42/42 [==============================] - 0s 1ms/step - loss: 29332.0488 - mse: 29332.0488\n",
      "Epoch 8/50\n",
      "42/42 [==============================] - 0s 1ms/step - loss: 29191.7441 - mse: 29191.7441\n",
      "Epoch 9/50\n",
      "42/42 [==============================] - 0s 1ms/step - loss: 29037.9062 - mse: 29037.9062\n",
      "Epoch 10/50\n",
      "42/42 [==============================] - 0s 1ms/step - loss: 28867.9180 - mse: 28867.9180\n",
      "Epoch 11/50\n",
      "42/42 [==============================] - 0s 1000us/step - loss: 28683.3867 - mse: 28683.3867\n",
      "Epoch 12/50\n",
      "42/42 [==============================] - 0s 1ms/step - loss: 28477.6953 - mse: 28477.6953\n",
      "Epoch 13/50\n",
      "42/42 [==============================] - 0s 1ms/step - loss: 28241.8691 - mse: 28241.8691\n",
      "Epoch 14/50\n",
      "42/42 [==============================] - 0s 1ms/step - loss: 27985.6699 - mse: 27985.6699\n",
      "Epoch 15/50\n",
      "42/42 [==============================] - 0s 1ms/step - loss: 27713.2305 - mse: 27713.2305\n",
      "Epoch 16/50\n",
      "42/42 [==============================] - 0s 2ms/step - loss: 27422.9434 - mse: 27422.9434\n",
      "Epoch 17/50\n",
      "42/42 [==============================] - 0s 1ms/step - loss: 27119.9785 - mse: 27119.9785\n",
      "Epoch 18/50\n",
      "42/42 [==============================] - 0s 1ms/step - loss: 26802.7520 - mse: 26802.7520\n",
      "Epoch 19/50\n",
      "42/42 [==============================] - 0s 1ms/step - loss: 26473.7012 - mse: 26473.7012\n",
      "Epoch 20/50\n",
      "42/42 [==============================] - 0s 1ms/step - loss: 26130.9824 - mse: 26130.9824\n",
      "Epoch 21/50\n",
      "42/42 [==============================] - 0s 1ms/step - loss: 25781.7617 - mse: 25781.7617\n",
      "Epoch 22/50\n",
      "42/42 [==============================] - 0s 951us/step - loss: 25417.8789 - mse: 25417.8789\n",
      "Epoch 23/50\n",
      "42/42 [==============================] - 0s 976us/step - loss: 25049.4434 - mse: 25049.4434\n",
      "Epoch 24/50\n",
      "42/42 [==============================] - 0s 1ms/step - loss: 24673.0859 - mse: 24673.0859\n",
      "Epoch 25/50\n",
      "42/42 [==============================] - 0s 1ms/step - loss: 24289.2891 - mse: 24289.2891\n",
      "Epoch 26/50\n",
      "42/42 [==============================] - 0s 1ms/step - loss: 23892.6426 - mse: 23892.6426\n",
      "Epoch 27/50\n",
      "42/42 [==============================] - 0s 1ms/step - loss: 23492.0176 - mse: 23492.0176\n",
      "Epoch 28/50\n",
      "42/42 [==============================] - 0s 1ms/step - loss: 23085.5703 - mse: 23085.5703\n",
      "Epoch 29/50\n",
      "42/42 [==============================] - 0s 1ms/step - loss: 22679.9434 - mse: 22679.9434\n",
      "Epoch 30/50\n",
      "42/42 [==============================] - 0s 1ms/step - loss: 22269.0762 - mse: 22269.0762\n",
      "Epoch 31/50\n",
      "42/42 [==============================] - 0s 1ms/step - loss: 21853.7070 - mse: 21853.7070\n",
      "Epoch 32/50\n",
      "42/42 [==============================] - 0s 1ms/step - loss: 21436.6230 - mse: 21436.6230\n",
      "Epoch 33/50\n",
      "42/42 [==============================] - 0s 1ms/step - loss: 21014.2168 - mse: 21014.2168\n",
      "Epoch 34/50\n",
      "42/42 [==============================] - 0s 1ms/step - loss: 20593.5234 - mse: 20593.5234\n",
      "Epoch 35/50\n",
      "42/42 [==============================] - 0s 1ms/step - loss: 20164.3887 - mse: 20164.3887\n",
      "Epoch 36/50\n",
      "42/42 [==============================] - 0s 1ms/step - loss: 19740.2168 - mse: 19740.2168\n",
      "Epoch 37/50\n",
      "42/42 [==============================] - 0s 1ms/step - loss: 19313.0859 - mse: 19313.0859\n",
      "Epoch 38/50\n",
      "42/42 [==============================] - 0s 1ms/step - loss: 18885.6973 - mse: 18885.6973\n",
      "Epoch 39/50\n",
      "42/42 [==============================] - 0s 2ms/step - loss: 18456.5293 - mse: 18456.5293\n",
      "Epoch 40/50\n",
      "42/42 [==============================] - 0s 1ms/step - loss: 18033.4277 - mse: 18033.4277\n",
      "Epoch 41/50\n",
      "42/42 [==============================] - 0s 1ms/step - loss: 17609.9258 - mse: 17609.9258\n",
      "Epoch 42/50\n",
      "42/42 [==============================] - 0s 1ms/step - loss: 17184.7949 - mse: 17184.7949\n",
      "Epoch 43/50\n",
      "42/42 [==============================] - 0s 1ms/step - loss: 16768.1094 - mse: 16768.1094\n",
      "Epoch 44/50\n",
      "42/42 [==============================] - 0s 1ms/step - loss: 16349.9395 - mse: 16349.9395\n",
      "Epoch 45/50\n",
      "42/42 [==============================] - 0s 1ms/step - loss: 15940.7314 - mse: 15940.7314\n",
      "Epoch 46/50\n",
      "42/42 [==============================] - 0s 1ms/step - loss: 15534.8984 - mse: 15534.8984\n",
      "Epoch 47/50\n",
      "42/42 [==============================] - 0s 1ms/step - loss: 15132.9414 - mse: 15132.9414\n",
      "Epoch 48/50\n",
      "42/42 [==============================] - 0s 1ms/step - loss: 14734.6738 - mse: 14734.6738\n",
      "Epoch 49/50\n",
      "42/42 [==============================] - 0s 1ms/step - loss: 14346.4414 - mse: 14346.4414\n",
      "Epoch 50/50\n",
      "42/42 [==============================] - 0s 1ms/step - loss: 13961.8555 - mse: 13961.8555\n"
     ]
    },
    {
     "data": {
      "text/plain": [
       "<keras.callbacks.History at 0x2539c7e4100>"
      ]
     },
     "execution_count": 16,
     "metadata": {},
     "output_type": "execute_result"
    }
   ],
   "source": [
    "model.fit(x_train, y_train, epochs = 50, batch_size = 8)"
   ]
  },
  {
   "cell_type": "code",
   "execution_count": 17,
   "metadata": {},
   "outputs": [
    {
     "name": "stdout",
     "output_type": "stream",
     "text": [
      "4/4 [==============================] - 0s 2ms/step - loss: 11966.4736 - mse: 11966.4736\n"
     ]
    },
    {
     "data": {
      "text/plain": [
       "[11966.4736328125, 11966.4736328125]"
      ]
     },
     "execution_count": 17,
     "metadata": {},
     "output_type": "execute_result"
    }
   ],
   "source": [
    "model.evaluate(x_test, y_test)"
   ]
  },
  {
   "cell_type": "markdown",
   "metadata": {
    "id": "2nVZaZGMj2-H"
   },
   "source": [
    "### 문제4. 숫자 데이터셋(Digits)"
   ]
  },
  {
   "cell_type": "code",
   "execution_count": 18,
   "metadata": {
    "colab": {
     "base_uri": "https://localhost:8080/",
     "height": 280
    },
    "executionInfo": {
     "elapsed": 630,
     "status": "ok",
     "timestamp": 1652162541829,
     "user": {
      "displayName": "Jiyoung Kang",
      "userId": "02538451806768451589"
     },
     "user_tz": -540
    },
    "id": "T0ykiB3qj2-H",
    "outputId": "13526ece-feaa-45c7-aa5a-ce2724561521"
   },
   "outputs": [
    {
     "data": {
      "text/html": [
       "<div>\n",
       "<style scoped>\n",
       "    .dataframe tbody tr th:only-of-type {\n",
       "        vertical-align: middle;\n",
       "    }\n",
       "\n",
       "    .dataframe tbody tr th {\n",
       "        vertical-align: top;\n",
       "    }\n",
       "\n",
       "    .dataframe thead th {\n",
       "        text-align: right;\n",
       "    }\n",
       "</style>\n",
       "<table border=\"1\" class=\"dataframe\">\n",
       "  <thead>\n",
       "    <tr style=\"text-align: right;\">\n",
       "      <th></th>\n",
       "      <th>pixel_0_0</th>\n",
       "      <th>pixel_0_1</th>\n",
       "      <th>pixel_0_2</th>\n",
       "      <th>pixel_0_3</th>\n",
       "      <th>pixel_0_4</th>\n",
       "      <th>pixel_0_5</th>\n",
       "      <th>pixel_0_6</th>\n",
       "      <th>pixel_0_7</th>\n",
       "      <th>pixel_1_0</th>\n",
       "      <th>pixel_1_1</th>\n",
       "      <th>...</th>\n",
       "      <th>pixel_6_7</th>\n",
       "      <th>pixel_7_0</th>\n",
       "      <th>pixel_7_1</th>\n",
       "      <th>pixel_7_2</th>\n",
       "      <th>pixel_7_3</th>\n",
       "      <th>pixel_7_4</th>\n",
       "      <th>pixel_7_5</th>\n",
       "      <th>pixel_7_6</th>\n",
       "      <th>pixel_7_7</th>\n",
       "      <th>target</th>\n",
       "    </tr>\n",
       "  </thead>\n",
       "  <tbody>\n",
       "    <tr>\n",
       "      <th>0</th>\n",
       "      <td>0.0</td>\n",
       "      <td>0.0</td>\n",
       "      <td>5.0</td>\n",
       "      <td>13.0</td>\n",
       "      <td>9.0</td>\n",
       "      <td>1.0</td>\n",
       "      <td>0.0</td>\n",
       "      <td>0.0</td>\n",
       "      <td>0.0</td>\n",
       "      <td>0.0</td>\n",
       "      <td>...</td>\n",
       "      <td>0.0</td>\n",
       "      <td>0.0</td>\n",
       "      <td>0.0</td>\n",
       "      <td>6.0</td>\n",
       "      <td>13.0</td>\n",
       "      <td>10.0</td>\n",
       "      <td>0.0</td>\n",
       "      <td>0.0</td>\n",
       "      <td>0.0</td>\n",
       "      <td>0</td>\n",
       "    </tr>\n",
       "    <tr>\n",
       "      <th>1</th>\n",
       "      <td>0.0</td>\n",
       "      <td>0.0</td>\n",
       "      <td>0.0</td>\n",
       "      <td>12.0</td>\n",
       "      <td>13.0</td>\n",
       "      <td>5.0</td>\n",
       "      <td>0.0</td>\n",
       "      <td>0.0</td>\n",
       "      <td>0.0</td>\n",
       "      <td>0.0</td>\n",
       "      <td>...</td>\n",
       "      <td>0.0</td>\n",
       "      <td>0.0</td>\n",
       "      <td>0.0</td>\n",
       "      <td>0.0</td>\n",
       "      <td>11.0</td>\n",
       "      <td>16.0</td>\n",
       "      <td>10.0</td>\n",
       "      <td>0.0</td>\n",
       "      <td>0.0</td>\n",
       "      <td>1</td>\n",
       "    </tr>\n",
       "    <tr>\n",
       "      <th>2</th>\n",
       "      <td>0.0</td>\n",
       "      <td>0.0</td>\n",
       "      <td>0.0</td>\n",
       "      <td>4.0</td>\n",
       "      <td>15.0</td>\n",
       "      <td>12.0</td>\n",
       "      <td>0.0</td>\n",
       "      <td>0.0</td>\n",
       "      <td>0.0</td>\n",
       "      <td>0.0</td>\n",
       "      <td>...</td>\n",
       "      <td>0.0</td>\n",
       "      <td>0.0</td>\n",
       "      <td>0.0</td>\n",
       "      <td>0.0</td>\n",
       "      <td>3.0</td>\n",
       "      <td>11.0</td>\n",
       "      <td>16.0</td>\n",
       "      <td>9.0</td>\n",
       "      <td>0.0</td>\n",
       "      <td>2</td>\n",
       "    </tr>\n",
       "    <tr>\n",
       "      <th>3</th>\n",
       "      <td>0.0</td>\n",
       "      <td>0.0</td>\n",
       "      <td>7.0</td>\n",
       "      <td>15.0</td>\n",
       "      <td>13.0</td>\n",
       "      <td>1.0</td>\n",
       "      <td>0.0</td>\n",
       "      <td>0.0</td>\n",
       "      <td>0.0</td>\n",
       "      <td>8.0</td>\n",
       "      <td>...</td>\n",
       "      <td>0.0</td>\n",
       "      <td>0.0</td>\n",
       "      <td>0.0</td>\n",
       "      <td>7.0</td>\n",
       "      <td>13.0</td>\n",
       "      <td>13.0</td>\n",
       "      <td>9.0</td>\n",
       "      <td>0.0</td>\n",
       "      <td>0.0</td>\n",
       "      <td>3</td>\n",
       "    </tr>\n",
       "    <tr>\n",
       "      <th>4</th>\n",
       "      <td>0.0</td>\n",
       "      <td>0.0</td>\n",
       "      <td>0.0</td>\n",
       "      <td>1.0</td>\n",
       "      <td>11.0</td>\n",
       "      <td>0.0</td>\n",
       "      <td>0.0</td>\n",
       "      <td>0.0</td>\n",
       "      <td>0.0</td>\n",
       "      <td>0.0</td>\n",
       "      <td>...</td>\n",
       "      <td>0.0</td>\n",
       "      <td>0.0</td>\n",
       "      <td>0.0</td>\n",
       "      <td>0.0</td>\n",
       "      <td>2.0</td>\n",
       "      <td>16.0</td>\n",
       "      <td>4.0</td>\n",
       "      <td>0.0</td>\n",
       "      <td>0.0</td>\n",
       "      <td>4</td>\n",
       "    </tr>\n",
       "  </tbody>\n",
       "</table>\n",
       "<p>5 rows × 65 columns</p>\n",
       "</div>"
      ],
      "text/plain": [
       "   pixel_0_0  pixel_0_1  pixel_0_2  pixel_0_3  pixel_0_4  pixel_0_5  \\\n",
       "0        0.0        0.0        5.0       13.0        9.0        1.0   \n",
       "1        0.0        0.0        0.0       12.0       13.0        5.0   \n",
       "2        0.0        0.0        0.0        4.0       15.0       12.0   \n",
       "3        0.0        0.0        7.0       15.0       13.0        1.0   \n",
       "4        0.0        0.0        0.0        1.0       11.0        0.0   \n",
       "\n",
       "   pixel_0_6  pixel_0_7  pixel_1_0  pixel_1_1  ...  pixel_6_7  pixel_7_0  \\\n",
       "0        0.0        0.0        0.0        0.0  ...        0.0        0.0   \n",
       "1        0.0        0.0        0.0        0.0  ...        0.0        0.0   \n",
       "2        0.0        0.0        0.0        0.0  ...        0.0        0.0   \n",
       "3        0.0        0.0        0.0        8.0  ...        0.0        0.0   \n",
       "4        0.0        0.0        0.0        0.0  ...        0.0        0.0   \n",
       "\n",
       "   pixel_7_1  pixel_7_2  pixel_7_3  pixel_7_4  pixel_7_5  pixel_7_6  \\\n",
       "0        0.0        6.0       13.0       10.0        0.0        0.0   \n",
       "1        0.0        0.0       11.0       16.0       10.0        0.0   \n",
       "2        0.0        0.0        3.0       11.0       16.0        9.0   \n",
       "3        0.0        7.0       13.0       13.0        9.0        0.0   \n",
       "4        0.0        0.0        2.0       16.0        4.0        0.0   \n",
       "\n",
       "   pixel_7_7  target  \n",
       "0        0.0       0  \n",
       "1        0.0       1  \n",
       "2        0.0       2  \n",
       "3        0.0       3  \n",
       "4        0.0       4  \n",
       "\n",
       "[5 rows x 65 columns]"
      ]
     },
     "execution_count": 18,
     "metadata": {},
     "output_type": "execute_result"
    }
   ],
   "source": [
    "from sklearn.datasets import load_digits\n",
    "\n",
    "# 데이터 불러오기\n",
    "digits = load_digits()\n",
    "digits_df = pd.DataFrame(data=digits.data, columns=digits.feature_names)\n",
    "digits_df['target'] = digits.target\n",
    "digits_df.head()"
   ]
  },
  {
   "cell_type": "code",
   "execution_count": 19,
   "metadata": {
    "colab": {
     "base_uri": "https://localhost:8080/"
    },
    "executionInfo": {
     "elapsed": 12,
     "status": "ok",
     "timestamp": 1652162541830,
     "user": {
      "displayName": "Jiyoung Kang",
      "userId": "02538451806768451589"
     },
     "user_tz": -540
    },
    "id": "lLbI-0_Cj2-I",
    "outputId": "56e8cee2-e06e-4589-dd2b-c63000970b85"
   },
   "outputs": [
    {
     "data": {
      "text/plain": [
       "(1797, 65)"
      ]
     },
     "execution_count": 19,
     "metadata": {},
     "output_type": "execute_result"
    }
   ],
   "source": [
    "digits_df.shape"
   ]
  },
  {
   "cell_type": "code",
   "execution_count": 20,
   "metadata": {
    "colab": {
     "base_uri": "https://localhost:8080/"
    },
    "executionInfo": {
     "elapsed": 10,
     "status": "ok",
     "timestamp": 1652162541830,
     "user": {
      "displayName": "Jiyoung Kang",
      "userId": "02538451806768451589"
     },
     "user_tz": -540
    },
    "id": "BIRDS0cKj2-I",
    "outputId": "532c1608-2edf-46e3-cf87-529a6d391497"
   },
   "outputs": [
    {
     "data": {
      "text/plain": [
       "array([0, 1, 2, 3, 4, 5, 6, 7, 8, 9])"
      ]
     },
     "execution_count": 20,
     "metadata": {},
     "output_type": "execute_result"
    }
   ],
   "source": [
    "digits_df['target'].unique()"
   ]
  },
  {
   "cell_type": "code",
   "execution_count": 21,
   "metadata": {},
   "outputs": [
    {
     "name": "stdout",
     "output_type": "stream",
     "text": [
      "Model: \"sequential_3\"\n",
      "_________________________________________________________________\n",
      " Layer (type)                Output Shape              Param #   \n",
      "=================================================================\n",
      " dense_6 (Dense)             (None, 80)                5200      \n",
      "                                                                 \n",
      " dense_7 (Dense)             (None, 10)                810       \n",
      "                                                                 \n",
      "=================================================================\n",
      "Total params: 6,010\n",
      "Trainable params: 6,010\n",
      "Non-trainable params: 0\n",
      "_________________________________________________________________\n"
     ]
    }
   ],
   "source": [
    "from sklearn.model_selection import train_test_split\n",
    "import tensorflow as tf\n",
    "from tensorflow.keras.models import Sequential\n",
    "from tensorflow.keras.layers import Dense\n",
    "\n",
    "y = digits_df['target']\n",
    "x = digits_df.drop(['target'], axis=1)\n",
    "\n",
    "x_train, x_test, y_train, y_test = train_test_split(x, y, random_state = 42)\n",
    "\n",
    "model = Sequential()\n",
    "model.add(Dense(80, input_dim = 64, activation = 'relu'))\n",
    "model.add(Dense(10, activation = 'softmax'))\n",
    "\n",
    "model.compile(loss = 'sparse_categorical_crossentropy',\n",
    "             optimizer = 'adam',\n",
    "             metrics = ['accuracy'])\n",
    "\n",
    "model.summary()"
   ]
  },
  {
   "cell_type": "code",
   "execution_count": 22,
   "metadata": {},
   "outputs": [
    {
     "name": "stdout",
     "output_type": "stream",
     "text": [
      "Epoch 1/50\n",
      "169/169 [==============================] - 1s 1ms/step - loss: 1.7360 - accuracy: 0.6095\n",
      "Epoch 2/50\n",
      "169/169 [==============================] - 0s 1ms/step - loss: 0.2654 - accuracy: 0.9198\n",
      "Epoch 3/50\n",
      "169/169 [==============================] - 0s 1ms/step - loss: 0.1489 - accuracy: 0.9525\n",
      "Epoch 4/50\n",
      "169/169 [==============================] - 0s 1ms/step - loss: 0.1002 - accuracy: 0.9718\n",
      "Epoch 5/50\n",
      "169/169 [==============================] - 0s 1ms/step - loss: 0.0696 - accuracy: 0.9814\n",
      "Epoch 6/50\n",
      "169/169 [==============================] - 0s 1ms/step - loss: 0.0465 - accuracy: 0.9933\n",
      "Epoch 7/50\n",
      "169/169 [==============================] - 0s 1ms/step - loss: 0.0397 - accuracy: 0.9903\n",
      "Epoch 8/50\n",
      "169/169 [==============================] - 0s 1ms/step - loss: 0.0286 - accuracy: 0.9963\n",
      "Epoch 9/50\n",
      "169/169 [==============================] - 0s 1ms/step - loss: 0.0245 - accuracy: 0.9963\n",
      "Epoch 10/50\n",
      "169/169 [==============================] - 0s 1ms/step - loss: 0.0210 - accuracy: 0.9963\n",
      "Epoch 11/50\n",
      "169/169 [==============================] - 0s 1ms/step - loss: 0.0189 - accuracy: 0.9955\n",
      "Epoch 12/50\n",
      "169/169 [==============================] - 0s 982us/step - loss: 0.0137 - accuracy: 0.9978\n",
      "Epoch 13/50\n",
      "169/169 [==============================] - 0s 1ms/step - loss: 0.0163 - accuracy: 0.9963\n",
      "Epoch 14/50\n",
      "169/169 [==============================] - 0s 1ms/step - loss: 0.0099 - accuracy: 1.0000\n",
      "Epoch 15/50\n",
      "169/169 [==============================] - 0s 1ms/step - loss: 0.0166 - accuracy: 0.9963\n",
      "Epoch 16/50\n",
      "169/169 [==============================] - 0s 1ms/step - loss: 0.0092 - accuracy: 0.9978\n",
      "Epoch 17/50\n",
      "169/169 [==============================] - 0s 1ms/step - loss: 0.0057 - accuracy: 1.0000\n",
      "Epoch 18/50\n",
      "169/169 [==============================] - 0s 1ms/step - loss: 0.0062 - accuracy: 0.9985\n",
      "Epoch 19/50\n",
      "169/169 [==============================] - 0s 1ms/step - loss: 0.0128 - accuracy: 0.9985\n",
      "Epoch 20/50\n",
      "169/169 [==============================] - 0s 1ms/step - loss: 0.0031 - accuracy: 1.0000\n",
      "Epoch 21/50\n",
      "169/169 [==============================] - 0s 1ms/step - loss: 0.0026 - accuracy: 1.0000\n",
      "Epoch 22/50\n",
      "169/169 [==============================] - 0s 1ms/step - loss: 0.0022 - accuracy: 1.0000\n",
      "Epoch 23/50\n",
      "169/169 [==============================] - 0s 1ms/step - loss: 0.0018 - accuracy: 1.0000\n",
      "Epoch 24/50\n",
      "169/169 [==============================] - 0s 2ms/step - loss: 0.0017 - accuracy: 1.0000\n",
      "Epoch 25/50\n",
      "169/169 [==============================] - 0s 1ms/step - loss: 0.0015 - accuracy: 1.0000\n",
      "Epoch 26/50\n",
      "169/169 [==============================] - 0s 1ms/step - loss: 0.0013 - accuracy: 1.0000\n",
      "Epoch 27/50\n",
      "169/169 [==============================] - 0s 1ms/step - loss: 0.0011 - accuracy: 1.0000\n",
      "Epoch 28/50\n",
      "169/169 [==============================] - 0s 1ms/step - loss: 0.0011 - accuracy: 1.0000\n",
      "Epoch 29/50\n",
      "169/169 [==============================] - 0s 1ms/step - loss: 9.9146e-04 - accuracy: 1.0000\n",
      "Epoch 30/50\n",
      "169/169 [==============================] - 0s 1ms/step - loss: 9.4842e-04 - accuracy: 1.0000\n",
      "Epoch 31/50\n",
      "169/169 [==============================] - 0s 1ms/step - loss: 9.2528e-04 - accuracy: 1.0000\n",
      "Epoch 32/50\n",
      "169/169 [==============================] - 0s 1ms/step - loss: 8.2779e-04 - accuracy: 1.0000\n",
      "Epoch 33/50\n",
      "169/169 [==============================] - 0s 1ms/step - loss: 6.8081e-04 - accuracy: 1.0000\n",
      "Epoch 34/50\n",
      "169/169 [==============================] - 0s 1ms/step - loss: 6.4943e-04 - accuracy: 1.0000\n",
      "Epoch 35/50\n",
      "169/169 [==============================] - 0s 1ms/step - loss: 8.7848e-04 - accuracy: 1.0000\n",
      "Epoch 36/50\n",
      "169/169 [==============================] - 0s 1ms/step - loss: 5.2148e-04 - accuracy: 1.0000\n",
      "Epoch 37/50\n",
      "169/169 [==============================] - 0s 1ms/step - loss: 4.6366e-04 - accuracy: 1.0000\n",
      "Epoch 38/50\n",
      "169/169 [==============================] - 0s 1ms/step - loss: 4.0793e-04 - accuracy: 1.0000\n",
      "Epoch 39/50\n",
      "169/169 [==============================] - 0s 1ms/step - loss: 3.9793e-04 - accuracy: 1.0000\n",
      "Epoch 40/50\n",
      "169/169 [==============================] - 0s 1ms/step - loss: 3.8702e-04 - accuracy: 1.0000\n",
      "Epoch 41/50\n",
      "169/169 [==============================] - 0s 1ms/step - loss: 3.3352e-04 - accuracy: 1.0000\n",
      "Epoch 42/50\n",
      "169/169 [==============================] - 0s 1ms/step - loss: 3.0765e-04 - accuracy: 1.0000\n",
      "Epoch 43/50\n",
      "169/169 [==============================] - 0s 1ms/step - loss: 2.9679e-04 - accuracy: 1.0000\n",
      "Epoch 44/50\n",
      "169/169 [==============================] - 0s 1ms/step - loss: 2.6162e-04 - accuracy: 1.0000\n",
      "Epoch 45/50\n",
      "169/169 [==============================] - 0s 1ms/step - loss: 2.2444e-04 - accuracy: 1.0000\n",
      "Epoch 46/50\n",
      "169/169 [==============================] - 0s 1ms/step - loss: 2.2621e-04 - accuracy: 1.0000\n",
      "Epoch 47/50\n",
      "169/169 [==============================] - 0s 1ms/step - loss: 1.8674e-04 - accuracy: 1.0000\n",
      "Epoch 48/50\n",
      "169/169 [==============================] - 0s 1ms/step - loss: 1.8151e-04 - accuracy: 1.0000\n",
      "Epoch 49/50\n",
      "169/169 [==============================] - 0s 1ms/step - loss: 1.6490e-04 - accuracy: 1.0000\n",
      "Epoch 50/50\n",
      "169/169 [==============================] - 0s 1ms/step - loss: 1.4650e-04 - accuracy: 1.0000\n"
     ]
    },
    {
     "data": {
      "text/plain": [
       "<keras.callbacks.History at 0x2539ca22100>"
      ]
     },
     "execution_count": 22,
     "metadata": {},
     "output_type": "execute_result"
    }
   ],
   "source": [
    "model.fit(x_train, y_train, epochs = 50, batch_size = 8)"
   ]
  },
  {
   "cell_type": "code",
   "execution_count": 23,
   "metadata": {},
   "outputs": [
    {
     "name": "stdout",
     "output_type": "stream",
     "text": [
      "15/15 [==============================] - 0s 1ms/step - loss: 0.0773 - accuracy: 0.9844\n"
     ]
    },
    {
     "data": {
      "text/plain": [
       "[0.07728289067745209, 0.9844444394111633]"
      ]
     },
     "execution_count": 23,
     "metadata": {},
     "output_type": "execute_result"
    }
   ],
   "source": [
    "model.evaluate(x_test, y_test)"
   ]
  },
  {
   "cell_type": "markdown",
   "metadata": {
    "id": "C3ff7JhIj2-J"
   },
   "source": [
    "### 문제5. 와인 데이터 셋(Wine)"
   ]
  },
  {
   "cell_type": "code",
   "execution_count": 24,
   "metadata": {
    "colab": {
     "base_uri": "https://localhost:8080/",
     "height": 206
    },
    "executionInfo": {
     "elapsed": 9,
     "status": "ok",
     "timestamp": 1652162541831,
     "user": {
      "displayName": "Jiyoung Kang",
      "userId": "02538451806768451589"
     },
     "user_tz": -540
    },
    "id": "P9BQqLQjj2-J",
    "outputId": "8d5f6913-d950-4be9-9c77-8a8c36ae4595"
   },
   "outputs": [
    {
     "data": {
      "text/html": [
       "<div>\n",
       "<style scoped>\n",
       "    .dataframe tbody tr th:only-of-type {\n",
       "        vertical-align: middle;\n",
       "    }\n",
       "\n",
       "    .dataframe tbody tr th {\n",
       "        vertical-align: top;\n",
       "    }\n",
       "\n",
       "    .dataframe thead th {\n",
       "        text-align: right;\n",
       "    }\n",
       "</style>\n",
       "<table border=\"1\" class=\"dataframe\">\n",
       "  <thead>\n",
       "    <tr style=\"text-align: right;\">\n",
       "      <th></th>\n",
       "      <th>alcohol</th>\n",
       "      <th>malic_acid</th>\n",
       "      <th>ash</th>\n",
       "      <th>alcalinity_of_ash</th>\n",
       "      <th>magnesium</th>\n",
       "      <th>total_phenols</th>\n",
       "      <th>flavanoids</th>\n",
       "      <th>nonflavanoid_phenols</th>\n",
       "      <th>proanthocyanins</th>\n",
       "      <th>color_intensity</th>\n",
       "      <th>hue</th>\n",
       "      <th>od280/od315_of_diluted_wines</th>\n",
       "      <th>proline</th>\n",
       "      <th>target</th>\n",
       "    </tr>\n",
       "  </thead>\n",
       "  <tbody>\n",
       "    <tr>\n",
       "      <th>0</th>\n",
       "      <td>14.23</td>\n",
       "      <td>1.71</td>\n",
       "      <td>2.43</td>\n",
       "      <td>15.6</td>\n",
       "      <td>127.0</td>\n",
       "      <td>2.80</td>\n",
       "      <td>3.06</td>\n",
       "      <td>0.28</td>\n",
       "      <td>2.29</td>\n",
       "      <td>5.64</td>\n",
       "      <td>1.04</td>\n",
       "      <td>3.92</td>\n",
       "      <td>1065.0</td>\n",
       "      <td>0</td>\n",
       "    </tr>\n",
       "    <tr>\n",
       "      <th>1</th>\n",
       "      <td>13.20</td>\n",
       "      <td>1.78</td>\n",
       "      <td>2.14</td>\n",
       "      <td>11.2</td>\n",
       "      <td>100.0</td>\n",
       "      <td>2.65</td>\n",
       "      <td>2.76</td>\n",
       "      <td>0.26</td>\n",
       "      <td>1.28</td>\n",
       "      <td>4.38</td>\n",
       "      <td>1.05</td>\n",
       "      <td>3.40</td>\n",
       "      <td>1050.0</td>\n",
       "      <td>0</td>\n",
       "    </tr>\n",
       "    <tr>\n",
       "      <th>2</th>\n",
       "      <td>13.16</td>\n",
       "      <td>2.36</td>\n",
       "      <td>2.67</td>\n",
       "      <td>18.6</td>\n",
       "      <td>101.0</td>\n",
       "      <td>2.80</td>\n",
       "      <td>3.24</td>\n",
       "      <td>0.30</td>\n",
       "      <td>2.81</td>\n",
       "      <td>5.68</td>\n",
       "      <td>1.03</td>\n",
       "      <td>3.17</td>\n",
       "      <td>1185.0</td>\n",
       "      <td>0</td>\n",
       "    </tr>\n",
       "    <tr>\n",
       "      <th>3</th>\n",
       "      <td>14.37</td>\n",
       "      <td>1.95</td>\n",
       "      <td>2.50</td>\n",
       "      <td>16.8</td>\n",
       "      <td>113.0</td>\n",
       "      <td>3.85</td>\n",
       "      <td>3.49</td>\n",
       "      <td>0.24</td>\n",
       "      <td>2.18</td>\n",
       "      <td>7.80</td>\n",
       "      <td>0.86</td>\n",
       "      <td>3.45</td>\n",
       "      <td>1480.0</td>\n",
       "      <td>0</td>\n",
       "    </tr>\n",
       "    <tr>\n",
       "      <th>4</th>\n",
       "      <td>13.24</td>\n",
       "      <td>2.59</td>\n",
       "      <td>2.87</td>\n",
       "      <td>21.0</td>\n",
       "      <td>118.0</td>\n",
       "      <td>2.80</td>\n",
       "      <td>2.69</td>\n",
       "      <td>0.39</td>\n",
       "      <td>1.82</td>\n",
       "      <td>4.32</td>\n",
       "      <td>1.04</td>\n",
       "      <td>2.93</td>\n",
       "      <td>735.0</td>\n",
       "      <td>0</td>\n",
       "    </tr>\n",
       "  </tbody>\n",
       "</table>\n",
       "</div>"
      ],
      "text/plain": [
       "   alcohol  malic_acid   ash  alcalinity_of_ash  magnesium  total_phenols  \\\n",
       "0    14.23        1.71  2.43               15.6      127.0           2.80   \n",
       "1    13.20        1.78  2.14               11.2      100.0           2.65   \n",
       "2    13.16        2.36  2.67               18.6      101.0           2.80   \n",
       "3    14.37        1.95  2.50               16.8      113.0           3.85   \n",
       "4    13.24        2.59  2.87               21.0      118.0           2.80   \n",
       "\n",
       "   flavanoids  nonflavanoid_phenols  proanthocyanins  color_intensity   hue  \\\n",
       "0        3.06                  0.28             2.29             5.64  1.04   \n",
       "1        2.76                  0.26             1.28             4.38  1.05   \n",
       "2        3.24                  0.30             2.81             5.68  1.03   \n",
       "3        3.49                  0.24             2.18             7.80  0.86   \n",
       "4        2.69                  0.39             1.82             4.32  1.04   \n",
       "\n",
       "   od280/od315_of_diluted_wines  proline  target  \n",
       "0                          3.92   1065.0       0  \n",
       "1                          3.40   1050.0       0  \n",
       "2                          3.17   1185.0       0  \n",
       "3                          3.45   1480.0       0  \n",
       "4                          2.93    735.0       0  "
      ]
     },
     "execution_count": 24,
     "metadata": {},
     "output_type": "execute_result"
    }
   ],
   "source": [
    "from sklearn.datasets import load_wine\n",
    "\n",
    "# 데이터 불러오기\n",
    "wine = load_wine()\n",
    "wine_df = pd.DataFrame(data=wine.data, columns=wine.feature_names)\n",
    "wine_df['target'] = wine.target\n",
    "wine_df.head()"
   ]
  },
  {
   "cell_type": "code",
   "execution_count": 25,
   "metadata": {
    "colab": {
     "base_uri": "https://localhost:8080/"
    },
    "executionInfo": {
     "elapsed": 8,
     "status": "ok",
     "timestamp": 1652162541831,
     "user": {
      "displayName": "Jiyoung Kang",
      "userId": "02538451806768451589"
     },
     "user_tz": -540
    },
    "id": "8rP09WlKj2-K",
    "outputId": "491019ff-ad9c-47c8-af93-0cf9c34330e9"
   },
   "outputs": [
    {
     "data": {
      "text/plain": [
       "(178, 14)"
      ]
     },
     "execution_count": 25,
     "metadata": {},
     "output_type": "execute_result"
    }
   ],
   "source": [
    "wine_df.shape"
   ]
  },
  {
   "cell_type": "code",
   "execution_count": 26,
   "metadata": {
    "colab": {
     "base_uri": "https://localhost:8080/"
    },
    "executionInfo": {
     "elapsed": 7,
     "status": "ok",
     "timestamp": 1652162541831,
     "user": {
      "displayName": "Jiyoung Kang",
      "userId": "02538451806768451589"
     },
     "user_tz": -540
    },
    "id": "-mWBcXwHj2-K",
    "outputId": "9e143290-628a-45f5-ada0-bff9ba20fcd2"
   },
   "outputs": [
    {
     "data": {
      "text/plain": [
       "array([0, 1, 2])"
      ]
     },
     "execution_count": 26,
     "metadata": {},
     "output_type": "execute_result"
    }
   ],
   "source": [
    "wine_df['target'].unique()"
   ]
  },
  {
   "cell_type": "code",
   "execution_count": 27,
   "metadata": {
    "id": "f6yvMvatj2-K"
   },
   "outputs": [
    {
     "name": "stdout",
     "output_type": "stream",
     "text": [
      "Model: \"sequential_4\"\n",
      "_________________________________________________________________\n",
      " Layer (type)                Output Shape              Param #   \n",
      "=================================================================\n",
      " dense_8 (Dense)             (None, 20)                280       \n",
      "                                                                 \n",
      " dense_9 (Dense)             (None, 3)                 63        \n",
      "                                                                 \n",
      "=================================================================\n",
      "Total params: 343\n",
      "Trainable params: 343\n",
      "Non-trainable params: 0\n",
      "_________________________________________________________________\n"
     ]
    }
   ],
   "source": [
    "from sklearn.model_selection import train_test_split\n",
    "import tensorflow as tf\n",
    "from tensorflow.keras.models import Sequential\n",
    "from tensorflow.keras.layers import Dense\n",
    "\n",
    "y = wine_df['target']\n",
    "x = wine_df.drop(['target'], axis=1)\n",
    "\n",
    "x_train, x_test, y_train, y_test = train_test_split(x, y, random_state = 42)\n",
    "\n",
    "model = Sequential()\n",
    "model.add(Dense(20, input_dim = 13, activation = 'relu'))\n",
    "model.add(Dense(3, activation = 'softmax'))\n",
    "\n",
    "model.compile(loss = 'sparse_categorical_crossentropy',\n",
    "             optimizer = 'adam',\n",
    "             metrics = ['accuracy'])\n",
    "\n",
    "model.summary()"
   ]
  },
  {
   "cell_type": "code",
   "execution_count": 28,
   "metadata": {},
   "outputs": [
    {
     "name": "stdout",
     "output_type": "stream",
     "text": [
      "Epoch 1/40\n",
      "34/34 [==============================] - 0s 2ms/step - loss: 60.6649 - accuracy: 0.2707\n",
      "Epoch 2/40\n",
      "34/34 [==============================] - 0s 1ms/step - loss: 29.1866 - accuracy: 0.2180\n",
      "Epoch 3/40\n",
      "34/34 [==============================] - 0s 1ms/step - loss: 12.3579 - accuracy: 0.1353\n",
      "Epoch 4/40\n",
      "34/34 [==============================] - 0s 1ms/step - loss: 3.0417 - accuracy: 0.5489\n",
      "Epoch 5/40\n",
      "34/34 [==============================] - 0s 1ms/step - loss: 1.9986 - accuracy: 0.5564\n",
      "Epoch 6/40\n",
      "34/34 [==============================] - 0s 1ms/step - loss: 1.6149 - accuracy: 0.6842\n",
      "Epoch 7/40\n",
      "34/34 [==============================] - 0s 1ms/step - loss: 1.3831 - accuracy: 0.6617\n",
      "Epoch 8/40\n",
      "34/34 [==============================] - 0s 1ms/step - loss: 1.4156 - accuracy: 0.6992\n",
      "Epoch 9/40\n",
      "34/34 [==============================] - 0s 1000us/step - loss: 1.4415 - accuracy: 0.6692\n",
      "Epoch 10/40\n",
      "34/34 [==============================] - 0s 970us/step - loss: 1.3139 - accuracy: 0.6692\n",
      "Epoch 11/40\n",
      "34/34 [==============================] - 0s 1ms/step - loss: 1.2348 - accuracy: 0.6767\n",
      "Epoch 12/40\n",
      "34/34 [==============================] - 0s 1ms/step - loss: 1.0993 - accuracy: 0.7218\n",
      "Epoch 13/40\n",
      "34/34 [==============================] - 0s 1ms/step - loss: 1.0133 - accuracy: 0.7218\n",
      "Epoch 14/40\n",
      "34/34 [==============================] - 0s 1ms/step - loss: 1.0465 - accuracy: 0.6992\n",
      "Epoch 15/40\n",
      "34/34 [==============================] - 0s 1ms/step - loss: 0.8824 - accuracy: 0.7293\n",
      "Epoch 16/40\n",
      "34/34 [==============================] - 0s 1ms/step - loss: 0.9187 - accuracy: 0.7143\n",
      "Epoch 17/40\n",
      "34/34 [==============================] - 0s 1ms/step - loss: 1.1372 - accuracy: 0.6767\n",
      "Epoch 18/40\n",
      "34/34 [==============================] - 0s 1ms/step - loss: 0.9400 - accuracy: 0.7444\n",
      "Epoch 19/40\n",
      "34/34 [==============================] - 0s 1ms/step - loss: 0.8870 - accuracy: 0.7444\n",
      "Epoch 20/40\n",
      "34/34 [==============================] - 0s 1ms/step - loss: 0.7894 - accuracy: 0.7594\n",
      "Epoch 21/40\n",
      "34/34 [==============================] - 0s 1ms/step - loss: 1.1413 - accuracy: 0.6992\n",
      "Epoch 22/40\n",
      "34/34 [==============================] - 0s 1ms/step - loss: 0.6966 - accuracy: 0.8120\n",
      "Epoch 23/40\n",
      "34/34 [==============================] - 0s 1ms/step - loss: 0.8364 - accuracy: 0.7218\n",
      "Epoch 24/40\n",
      "34/34 [==============================] - 0s 1ms/step - loss: 0.6401 - accuracy: 0.7895\n",
      "Epoch 25/40\n",
      "34/34 [==============================] - 0s 1ms/step - loss: 0.9269 - accuracy: 0.7444\n",
      "Epoch 26/40\n",
      "34/34 [==============================] - 0s 1ms/step - loss: 0.6796 - accuracy: 0.7820\n",
      "Epoch 27/40\n",
      "34/34 [==============================] - 0s 1ms/step - loss: 0.7112 - accuracy: 0.8120\n",
      "Epoch 28/40\n",
      "34/34 [==============================] - 0s 1ms/step - loss: 0.5823 - accuracy: 0.7744\n",
      "Epoch 29/40\n",
      "34/34 [==============================] - 0s 1ms/step - loss: 0.5667 - accuracy: 0.7895\n",
      "Epoch 30/40\n",
      "34/34 [==============================] - 0s 1ms/step - loss: 0.5289 - accuracy: 0.8421\n",
      "Epoch 31/40\n",
      "34/34 [==============================] - 0s 1ms/step - loss: 0.5903 - accuracy: 0.7820\n",
      "Epoch 32/40\n",
      "34/34 [==============================] - 0s 1ms/step - loss: 0.6492 - accuracy: 0.7895\n",
      "Epoch 33/40\n",
      "34/34 [==============================] - 0s 1ms/step - loss: 0.6871 - accuracy: 0.7895\n",
      "Epoch 34/40\n",
      "34/34 [==============================] - 0s 1ms/step - loss: 0.5530 - accuracy: 0.8120\n",
      "Epoch 35/40\n",
      "34/34 [==============================] - 0s 2ms/step - loss: 0.6168 - accuracy: 0.8045\n",
      "Epoch 36/40\n",
      "34/34 [==============================] - 0s 1ms/step - loss: 0.4640 - accuracy: 0.8571\n",
      "Epoch 37/40\n",
      "34/34 [==============================] - 0s 2ms/step - loss: 0.7166 - accuracy: 0.7519\n",
      "Epoch 38/40\n",
      "34/34 [==============================] - 0s 2ms/step - loss: 0.5875 - accuracy: 0.7744\n",
      "Epoch 39/40\n",
      "34/34 [==============================] - 0s 1ms/step - loss: 0.5105 - accuracy: 0.8271\n",
      "Epoch 40/40\n",
      "34/34 [==============================] - 0s 1ms/step - loss: 0.4546 - accuracy: 0.8496\n"
     ]
    },
    {
     "data": {
      "text/plain": [
       "<keras.callbacks.History at 0x2539b49ca30>"
      ]
     },
     "execution_count": 28,
     "metadata": {},
     "output_type": "execute_result"
    }
   ],
   "source": [
    "model.fit(x_train, y_train, epochs = 40, batch_size = 4)"
   ]
  },
  {
   "cell_type": "code",
   "execution_count": 29,
   "metadata": {},
   "outputs": [
    {
     "name": "stdout",
     "output_type": "stream",
     "text": [
      "2/2 [==============================] - 0s 3ms/step - loss: 0.3199 - accuracy: 0.8667\n"
     ]
    },
    {
     "data": {
      "text/plain": [
       "[0.3199244737625122, 0.8666666746139526]"
      ]
     },
     "execution_count": 29,
     "metadata": {},
     "output_type": "execute_result"
    }
   ],
   "source": [
    "model.evaluate(x_test, y_test)"
   ]
  },
  {
   "cell_type": "code",
   "execution_count": 30,
   "metadata": {},
   "outputs": [
    {
     "name": "stdout",
     "output_type": "stream",
     "text": [
      "2/2 [==============================] - 0s 3ms/step\n"
     ]
    }
   ],
   "source": [
    "y_pred = model.predict(x_test)"
   ]
  },
  {
   "cell_type": "code",
   "execution_count": 31,
   "metadata": {},
   "outputs": [
    {
     "data": {
      "text/plain": [
       "array([2.4702441e-02, 9.7503883e-01, 2.5874778e-04], dtype=float32)"
      ]
     },
     "execution_count": 31,
     "metadata": {},
     "output_type": "execute_result"
    }
   ],
   "source": [
    "y_pred[0]"
   ]
  },
  {
   "cell_type": "code",
   "execution_count": null,
   "metadata": {},
   "outputs": [],
   "source": []
  }
 ],
 "metadata": {
  "colab": {
   "collapsed_sections": [],
   "name": "6-2_인공신경망 구성하기.ipynb",
   "provenance": []
  },
  "kernelspec": {
   "display_name": "Python 3 (ipykernel)",
   "language": "python",
   "name": "python3"
  },
  "language_info": {
   "codemirror_mode": {
    "name": "ipython",
    "version": 3
   },
   "file_extension": ".py",
   "mimetype": "text/x-python",
   "name": "python",
   "nbconvert_exporter": "python",
   "pygments_lexer": "ipython3",
   "version": "3.9.12"
  },
  "toc": {
   "base_numbering": 1,
   "nav_menu": {},
   "number_sections": false,
   "sideBar": true,
   "skip_h1_title": false,
   "title_cell": "Table of Contents",
   "title_sidebar": "Contents",
   "toc_cell": false,
   "toc_position": {
    "height": "calc(100% - 180px)",
    "left": "10px",
    "top": "150px",
    "width": "279.273px"
   },
   "toc_section_display": true,
   "toc_window_display": false
  }
 },
 "nbformat": 4,
 "nbformat_minor": 1
}
